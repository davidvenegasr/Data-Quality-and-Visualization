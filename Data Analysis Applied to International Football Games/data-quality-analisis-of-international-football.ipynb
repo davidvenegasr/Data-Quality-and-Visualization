{
 "cells": [
  {
   "cell_type": "markdown",
   "execution_count": null,
   "metadata": {
    "id": "lAlToF8CKXBO",
    "papermill": {
     "duration": 0.019264,
     "end_time": "2020-08-16T22:04:22.860263",
     "exception": false,
     "start_time": "2020-08-16T22:04:22.840999",
     "status": "completed"
    },
    "tags": []
   },
   "source": [
    "Sigo este tutorial para bajar el archivo de kaggle https://towardsdatascience.com/setting-up-kaggle-in-google-colab-ebb281b61463"
   ]
  },
  {
   "cell_type": "code",
   "execution_count": 1,
   "metadata": {
    "execution": {
     "iopub.execute_input": "2020-08-16T22:04:22.899031Z",
     "iopub.status.busy": "2020-08-16T22:04:22.898047Z",
     "iopub.status.idle": "2020-08-16T22:04:34.351869Z",
     "shell.execute_reply": "2020-08-16T22:04:34.350989Z"
    },
    "id": "xp-xSN51KOhk",
    "outputId": "3686559a-819a-4823-f9bf-5ca4281a9b33",
    "papermill": {
     "duration": 11.475455,
     "end_time": "2020-08-16T22:04:34.352017",
     "exception": false,
     "start_time": "2020-08-16T22:04:22.876562",
     "status": "completed"
    },
    "tags": []
   },
   "outputs": [
    {
     "name": "stdout",
     "output_type": "stream",
     "text": [
      "Requirement already satisfied: kaggle in /opt/conda/lib/python3.7/site-packages (1.5.6)\r\n"
     ]
    },
    {
     "name": "stdout",
     "output_type": "stream",
     "text": [
      "Requirement already satisfied: tqdm in /opt/conda/lib/python3.7/site-packages (from kaggle) (4.45.0)\r\n"
     ]
    },
    {
     "name": "stdout",
     "output_type": "stream",
     "text": [
      "Requirement already satisfied: python-dateutil in /opt/conda/lib/python3.7/site-packages (from kaggle) (2.8.1)\r\n"
     ]
    },
    {
     "name": "stdout",
     "output_type": "stream",
     "text": [
      "Requirement already satisfied: certifi in /opt/conda/lib/python3.7/site-packages (from kaggle) (2020.6.20)\r\n"
     ]
    },
    {
     "name": "stdout",
     "output_type": "stream",
     "text": [
      "Requirement already satisfied: python-slugify in /opt/conda/lib/python3.7/site-packages (from kaggle) (4.0.1)\r\n"
     ]
    },
    {
     "name": "stdout",
     "output_type": "stream",
     "text": [
      "Requirement already satisfied: six>=1.10 in /opt/conda/lib/python3.7/site-packages (from kaggle) (1.14.0)\r\n"
     ]
    },
    {
     "name": "stdout",
     "output_type": "stream",
     "text": [
      "Requirement already satisfied: requests in /opt/conda/lib/python3.7/site-packages (from kaggle) (2.23.0)\r\n"
     ]
    },
    {
     "name": "stdout",
     "output_type": "stream",
     "text": [
      "Requirement already satisfied: urllib3<1.25,>=1.21.1 in /opt/conda/lib/python3.7/site-packages (from kaggle) (1.24.3)\r\n"
     ]
    },
    {
     "name": "stdout",
     "output_type": "stream",
     "text": [
      "Requirement already satisfied: text-unidecode>=1.3 in /opt/conda/lib/python3.7/site-packages (from python-slugify->kaggle) (1.3)\r\n"
     ]
    },
    {
     "name": "stdout",
     "output_type": "stream",
     "text": [
      "Requirement already satisfied: idna<3,>=2.5 in /opt/conda/lib/python3.7/site-packages (from requests->kaggle) (2.9)\r\n"
     ]
    },
    {
     "name": "stdout",
     "output_type": "stream",
     "text": [
      "Requirement already satisfied: chardet<4,>=3.0.2 in /opt/conda/lib/python3.7/site-packages (from requests->kaggle) (3.0.4)\r\n"
     ]
    },
    {
     "name": "stdout",
     "output_type": "stream",
     "text": [
      "\u001b[33mWARNING: You are using pip version 20.2.1; however, version 20.2.2 is available.\r\n",
      "You should consider upgrading via the '/opt/conda/bin/python3.7 -m pip install --upgrade pip' command.\u001b[0m\r\n"
     ]
    }
   ],
   "source": [
    "!pip install kaggle"
   ]
  },
  {
   "cell_type": "code",
   "execution_count": null,
   "metadata": {
    "id": "JLkrJD7KyVSO",
    "outputId": "3acea772-9d86-4567-88d4-7f2efde86da5",
    "papermill": {
     "duration": null,
     "end_time": null,
     "exception": false,
     "start_time": "2020-08-16T22:04:34.368465",
     "status": "running"
    },
    "tags": []
   },
   "outputs": [],
   "source": [
    "!apt-get install libgeos-3.5.0\n",
    "!apt-get install libgeos-dev\n",
    "!pip install https://github.com/matplotlib/basemap/archive/master.zip"
   ]
  },
  {
   "cell_type": "code",
   "execution_count": null,
   "metadata": {
    "id": "7lwVYbFbcEYn",
    "outputId": "eb5b7d3f-2907-47c0-f1ef-b80b35f92146",
    "papermill": {
     "duration": null,
     "end_time": null,
     "exception": null,
     "start_time": null,
     "status": "pending"
    },
    "tags": []
   },
   "outputs": [],
   "source": [
    "!pip install geopy"
   ]
  },
  {
   "cell_type": "markdown",
   "execution_count": null,
   "metadata": {
    "id": "ShkaVD1uKpFq",
    "papermill": {
     "duration": null,
     "end_time": null,
     "exception": null,
     "start_time": null,
     "status": "pending"
    },
    "tags": []
   },
   "source": [
    "Ahora a hacer el TP"
   ]
  },
  {
   "cell_type": "code",
   "execution_count": null,
   "metadata": {
    "id": "Qgi-eYL11U8M",
    "papermill": {
     "duration": null,
     "end_time": null,
     "exception": null,
     "start_time": null,
     "status": "pending"
    },
    "tags": []
   },
   "outputs": [],
   "source": [
    "import pandas as pd\n",
    "import seaborn as sns\n",
    "import matplotlib.pyplot as plt\n",
    "import numpy as np\n",
    "from mpl_toolkits.basemap import Basemap\n",
    "from geopy.geocoders import Nominatim"
   ]
  },
  {
   "cell_type": "code",
   "execution_count": null,
   "metadata": {
    "id": "m14HxlerKV12",
    "outputId": "cce599a0-b68f-427f-e6f2-46f3b8d1b45d",
    "papermill": {
     "duration": null,
     "end_time": null,
     "exception": null,
     "start_time": null,
     "status": "pending"
    },
    "tags": []
   },
   "outputs": [],
   "source": [
    "df = pd.read_csv('../input/football/International football results from 1872 to 2020.csv')\n",
    "df.head()"
   ]
  },
  {
   "cell_type": "markdown",
   "execution_count": null,
   "metadata": {
    "id": "d_Pc8YAHLVkt",
    "papermill": {
     "duration": null,
     "end_time": null,
     "exception": null,
     "start_time": null,
     "status": "pending"
    },
    "tags": []
   },
   "source": [
    "Pequeños cambios de limpieza"
   ]
  },
  {
   "cell_type": "code",
   "execution_count": null,
   "metadata": {
    "id": "aLJXy6tALboz",
    "papermill": {
     "duration": null,
     "end_time": null,
     "exception": null,
     "start_time": null,
     "status": "pending"
    },
    "tags": []
   },
   "outputs": [],
   "source": [
    "cities = {'Cordoba': 'Córdoba',\n",
    "          'Belize': 'Belize City',\n",
    "          'Brasilia': 'Brasília',\n",
    "          'Georgetown': 'George Town',\n",
    "          'Bogota': 'Bogotá',\n",
    "          'Jablonec nad Nisou nad Nisou':'Jablonec nad Nisou',\n",
    "          'Congo DR':'Kinshasa',\n",
    "          'al-Mahalla al-Kubra':'Al-Mahalla al-Kubra',\n",
    "          'Ismaila':'Ismailia',\n",
    "          'Addis Abeba':'Addis Ababa',\n",
    "          'Suhkumi':'Sukhumi',\n",
    "          'Frankfurt':'Frankfurt am Main',\n",
    "          'Rhodos':'Rhodes',\n",
    "          'Saint George\\'s':'St. George\\'s',\n",
    "          'Guatemala':'Guatemala City',\n",
    "          'Port au Prince':'Port-au-Prince',\n",
    "          'Teheran':'Tehran',\n",
    "          'Beer Sheva':'Beersheva',\n",
    "          'Ivory Coast':'Abidjan',\n",
    "          'Nursultan':'Nur-Sultan',\n",
    "          'Prishtina':'Pristina',\n",
    "          'al-Farwaniyah':'Al Farwaniyah',\n",
    "          'Kuwait':'Kuwait City',\n",
    "          'Misurata':'Misrata',\n",
    "          'Luxembourg':'Luxembourg City',\n",
    "          'Johor Baharu':'Johor Bahru',\n",
    "          'Kota Baharu':'Kota Bahru',\n",
    "          'Kayès':'Kayes',\n",
    "          'Gzira':'Gżira',\n",
    "          'Fort de France':'Fort-de-France',\n",
    "          'Mamoutzou':'Mamoudzou',\n",
    "          'Queretaro':'Querétaro',\n",
    "          'Chişinău':'Chișinău',\n",
    "          'Ulaanbaatar':'Ulan Bator',\n",
    "          'Look Out':'Lookout',\n",
    "          'Zanzibar':'Zanzibar City',\n",
    "          'Mufalira':'Mufulira',\n",
    "          'Zambia':'Zambia City',\n",
    "          'al-Ain':'Al Ain',\n",
    "          'L\\'viv':'Lviv',\n",
    "          'St. Croix Island':'Saint Croix',\n",
    "          'Chon Buri':'Chonburi',\n",
    "          'St Gallen':'St. Gallen',\n",
    "          'Parmaribo':'Paramaribo',\n",
    "          'Cadiz':'Cádiz',\n",
    "          'Sevilla':'Seville',\n",
    "          'Nelspriut':'Nelspruit',\n",
    "          'Moruleng-Saulspoort':'Moruleng',\n",
    "          'Freetowm':'Freetown',\n",
    "          'al-Hasa':'al-Ahsa',\n",
    "          'Damman':'Dammam',\n",
    "          'Ta’if':'Ta\\'if',\n",
    "          'Saint Kitts and Nevis':'Basseterre',\n",
    "          'Cluj-Napoca':'Cluj',\n",
    "          'Ploieşti':'Ploiești',\n",
    "          'al-Wakrah':'Al Wakrah',\n",
    "          'Guimaraes':'Guimarães',\n",
    "          'Wroclaw':'Wrocław',\n",
    "          'Chorzow':'Chorzów',\n",
    "          'Bacalod':'Bacolod',\n",
    "          'Cebu':'Cebu City',\n",
    "          'Asuncion':'Asunción',\n",
    "          'Port Morseby':'Port Moresby',\n",
    "          'Panama':'Panama City',\n",
    "          'al-Ram':'Al Ram',\n",
    "          'Ar Ram':'Al Ram',\n",
    "          'P\\'yongyang':'Pyongyang',\n",
    "          'P\\'yŏngyang':'Pyongyang',\n",
    "          'Palmerstone North':'Palmerston North',\n",
    "          'Namibia':'Katutura',\n",
    "          'Kénitra':'Kenitra',\n",
    "          'Morocco':'Marrakech',\n",
    "          'Beuthen':'Bytom',\n",
    "          'Herzliyya':'Herzliya',\n",
    "          'Xuçand':'Khujand',\n",
    "          'Kertepe':'Kartepe',\n",
    "          'Groznyy':'Grozny',\n",
    "          'Nilphamari Sadar':'Nilphamari',\n",
    "          'Belle Vue Harel':'Rivière du Rempart',\n",
    "          'Kolkota':'Kolkata',\n",
    "          'Agilat':'Tripoli',\n",
    "          '‘Atele':'Haateiho'}\n",
    "\n",
    "df = df.copy()\n",
    "df['city'] = df['city'].replace(cities)\n",
    "\n",
    "df['date'] = pd.to_datetime(df['date'], infer_datetime_format=True)"
   ]
  },
  {
   "cell_type": "markdown",
   "execution_count": null,
   "metadata": {
    "id": "hEIkxiMdfoOf",
    "papermill": {
     "duration": null,
     "end_time": null,
     "exception": null,
     "start_time": null,
     "status": "pending"
    },
    "tags": []
   },
   "source": [
    "Item a)\n",
    "\n",
    "Efectuar una apreciación sobre el nivel de cada una de las cualidades intrínsecas de calidad para\n",
    "este conjunto de **datos**"
   ]
  },
  {
   "cell_type": "markdown",
   "execution_count": null,
   "metadata": {
    "id": "HHi8Vwa6_k1T",
    "papermill": {
     "duration": null,
     "end_time": null,
     "exception": null,
     "start_time": null,
     "status": "pending"
    },
    "tags": []
   },
   "source": [
    "Para evaluar la precision primero vamos a ver cuantos equipos hay. "
   ]
  },
  {
   "cell_type": "code",
   "execution_count": null,
   "metadata": {
    "id": "OWAr43R7wgeH",
    "outputId": "d6d31c1f-6c77-4d7c-be09-459ed7363706",
    "papermill": {
     "duration": null,
     "end_time": null,
     "exception": null,
     "start_time": null,
     "status": "pending"
    },
    "tags": []
   },
   "outputs": [],
   "source": [
    "equipos_h = df['home_team'].to_list()\n",
    "equipos_a = df['away_team'].to_list()\n",
    "equipos = set(equipos_h+equipos_a)\n",
    "print(len(equipos))"
   ]
  },
  {
   "cell_type": "markdown",
   "execution_count": null,
   "metadata": {
    "id": "7d1XEL-L5LtD",
    "papermill": {
     "duration": null,
     "end_time": null,
     "exception": null,
     "start_time": null,
     "status": "pending"
    },
    "tags": []
   },
   "source": [
    "Calculamos cuantos dias de juego hubo"
   ]
  },
  {
   "cell_type": "code",
   "execution_count": null,
   "metadata": {
    "id": "Jwwtxxb45L5r",
    "outputId": "9345e0e6-376d-404d-f510-be4f8c178bcc",
    "papermill": {
     "duration": null,
     "end_time": null,
     "exception": null,
     "start_time": null,
     "status": "pending"
    },
    "tags": []
   },
   "outputs": [],
   "source": [
    "dates = df['date'].to_list()\n",
    "dates = set(dates)\n",
    "print(len(dates))"
   ]
  },
  {
   "cell_type": "markdown",
   "execution_count": null,
   "metadata": {
    "id": "HsWTLuyWDcmK",
    "papermill": {
     "duration": null,
     "end_time": null,
     "exception": null,
     "start_time": null,
     "status": "pending"
    },
    "tags": []
   },
   "source": [
    "Para evaluar la completitud busquemos cantidad de datos faltantes:"
   ]
  },
  {
   "cell_type": "code",
   "execution_count": null,
   "metadata": {
    "id": "cC8vtbFgDcxu",
    "outputId": "d1a62be1-a9ae-4a38-cae2-2ad750515ca7",
    "papermill": {
     "duration": null,
     "end_time": null,
     "exception": null,
     "start_time": null,
     "status": "pending"
    },
    "tags": []
   },
   "outputs": [],
   "source": [
    "df.isnull().sum()"
   ]
  },
  {
   "cell_type": "markdown",
   "execution_count": null,
   "metadata": {
    "id": "E7sXvnQ1_tDx",
    "papermill": {
     "duration": null,
     "end_time": null,
     "exception": null,
     "start_time": null,
     "status": "pending"
    },
    "tags": []
   },
   "source": [
    "Unicidad, buscamos duplicados:"
   ]
  },
  {
   "cell_type": "code",
   "execution_count": null,
   "metadata": {
    "id": "wvWwRrnkGM3Q",
    "outputId": "0b55b57f-2981-43b9-9f9f-19af50bbcd03",
    "papermill": {
     "duration": null,
     "end_time": null,
     "exception": null,
     "start_time": null,
     "status": "pending"
    },
    "tags": []
   },
   "outputs": [],
   "source": [
    "duplicates= df[df.duplicated()]\n",
    "duplicates.shape\n",
    "# veamos mas a fondo\n",
    "df_short = df[['home_team', 'away_team', 'date']].copy()\n",
    "dups= df_short[df_short.duplicated(keep=False)]\n",
    "dups"
   ]
  },
  {
   "cell_type": "code",
   "execution_count": null,
   "metadata": {
    "id": "jncZPgxBIvcp",
    "outputId": "da81fd02-6e96-4c26-b453-e4693d37b955",
    "papermill": {
     "duration": null,
     "end_time": null,
     "exception": null,
     "start_time": null,
     "status": "pending"
    },
    "tags": []
   },
   "outputs": [],
   "source": [
    "df.iloc[8888]"
   ]
  },
  {
   "cell_type": "code",
   "execution_count": null,
   "metadata": {
    "id": "Y_LmTxilJCPR",
    "outputId": "1c32d1c8-ddc8-4b6d-f4a8-27e57f7746b1",
    "papermill": {
     "duration": null,
     "end_time": null,
     "exception": null,
     "start_time": null,
     "status": "pending"
    },
    "tags": []
   },
   "outputs": [],
   "source": [
    "df.iloc[8889]"
   ]
  },
  {
   "cell_type": "markdown",
   "execution_count": null,
   "metadata": {
    "id": "X5LsXglYJ7bd",
    "papermill": {
     "duration": null,
     "end_time": null,
     "exception": null,
     "start_time": null,
     "status": "pending"
    },
    "tags": []
   },
   "source": [
    "Actualidad: veamos hasta donde hay juegos\n"
   ]
  },
  {
   "cell_type": "code",
   "execution_count": null,
   "metadata": {
    "id": "GlqvaG8kJ6b-",
    "outputId": "2de1a432-a0f0-4697-ee4c-b952d7579719",
    "papermill": {
     "duration": null,
     "end_time": null,
     "exception": null,
     "start_time": null,
     "status": "pending"
    },
    "tags": []
   },
   "outputs": [],
   "source": [
    "df['date'].max()"
   ]
  },
  {
   "cell_type": "markdown",
   "execution_count": null,
   "metadata": {
    "id": "4C0HC0nibgA4",
    "papermill": {
     "duration": null,
     "end_time": null,
     "exception": null,
     "start_time": null,
     "status": "pending"
    },
    "tags": []
   },
   "source": [
    "Item b) Para el analisis descriptivo hacemos "
   ]
  },
  {
   "cell_type": "code",
   "execution_count": null,
   "metadata": {
    "id": "hPu5Zt3kRTMB",
    "outputId": "60199ada-36ba-4ba1-a150-764edd3f1ffa",
    "papermill": {
     "duration": null,
     "end_time": null,
     "exception": null,
     "start_time": null,
     "status": "pending"
    },
    "tags": []
   },
   "outputs": [],
   "source": [
    "df[\"neutral\"] = df[\"neutral\"].astype(int)\n",
    "df.describe()"
   ]
  },
  {
   "cell_type": "code",
   "execution_count": null,
   "metadata": {
    "id": "g7XldKPxWsH6",
    "outputId": "20b91984-aa75-4928-d1be-c6507cb893cd",
    "papermill": {
     "duration": null,
     "end_time": null,
     "exception": null,
     "start_time": null,
     "status": "pending"
    },
    "tags": []
   },
   "outputs": [],
   "source": [
    "df['home_score'].mode()"
   ]
  },
  {
   "cell_type": "code",
   "execution_count": null,
   "metadata": {
    "id": "7Eduirl1W4_m",
    "outputId": "b311ade0-e17a-44e9-cabc-af5ceb03671a",
    "papermill": {
     "duration": null,
     "end_time": null,
     "exception": null,
     "start_time": null,
     "status": "pending"
    },
    "tags": []
   },
   "outputs": [],
   "source": [
    " df['away_score'].mode()"
   ]
  },
  {
   "cell_type": "code",
   "execution_count": null,
   "metadata": {
    "id": "fAyx4hgrw2B0",
    "outputId": "cf995893-f6cf-40cc-8b99-abe7a22cd622",
    "papermill": {
     "duration": null,
     "end_time": null,
     "exception": null,
     "start_time": null,
     "status": "pending"
    },
    "tags": []
   },
   "outputs": [],
   "source": [
    "modas = {}\n",
    "for c in df.columns:\n",
    "  modas[c] = df[c].mode()\n",
    "modas"
   ]
  },
  {
   "cell_type": "code",
   "execution_count": null,
   "metadata": {
    "id": "zL2mk1-90VV9",
    "outputId": "11539858-db11-4600-d6d7-c7b094d74000",
    "papermill": {
     "duration": null,
     "end_time": null,
     "exception": null,
     "start_time": null,
     "status": "pending"
    },
    "tags": []
   },
   "outputs": [],
   "source": [
    "df[['home_score','away_score','neutral']].sum()\n"
   ]
  },
  {
   "cell_type": "code",
   "execution_count": null,
   "metadata": {
    "id": "Kwx2b0Oep0Tl",
    "outputId": "81790317-3d84-40a1-efb8-b016c2fb2dc9",
    "papermill": {
     "duration": null,
     "end_time": null,
     "exception": null,
     "start_time": null,
     "status": "pending"
    },
    "tags": []
   },
   "outputs": [],
   "source": [
    "df['date'].value_counts().plot()\n",
    "plt.xlabel('Fecha del partido')\n",
    "plt.ylabel('Cantidad de partidos')\n",
    "plt.title('Cantidad de partidos en función del tiempo')\n",
    "plt.savefig(\"hist_dates\")"
   ]
  },
  {
   "cell_type": "code",
   "execution_count": null,
   "metadata": {
    "id": "93qkbQBcnhhf",
    "outputId": "197a50b7-3354-4f29-d9d7-84113666471c",
    "papermill": {
     "duration": null,
     "end_time": null,
     "exception": null,
     "start_time": null,
     "status": "pending"
    },
    "tags": []
   },
   "outputs": [],
   "source": [
    "df['date'].apply(lambda x: x.year).plot.box()\n",
    "plt.title('Boxplot del año de los partidos')\n",
    "plt.ylabel('Año del partido')\n",
    "plt.xlabel('')"
   ]
  },
  {
   "cell_type": "code",
   "execution_count": null,
   "metadata": {
    "id": "RtUAhtUHBu6V",
    "outputId": "f94e314f-146a-4a9f-c615-9af89e48201a",
    "papermill": {
     "duration": null,
     "end_time": null,
     "exception": null,
     "start_time": null,
     "status": "pending"
    },
    "tags": []
   },
   "outputs": [],
   "source": [
    "df['date'].value_counts().sort_values()"
   ]
  },
  {
   "cell_type": "code",
   "execution_count": null,
   "metadata": {
    "id": "4KO5rV1YrmZ4",
    "outputId": "56b15d32-f4fd-4a9e-9218-2d2a821280cd",
    "papermill": {
     "duration": null,
     "end_time": null,
     "exception": null,
     "start_time": null,
     "status": "pending"
    },
    "tags": []
   },
   "outputs": [],
   "source": [
    "df['home_team'].value_counts().head(10)"
   ]
  },
  {
   "cell_type": "code",
   "execution_count": null,
   "metadata": {
    "id": "1RDCdG6ppzmX",
    "outputId": "10c85fef-502d-4f84-b085-ebc7829e0039",
    "papermill": {
     "duration": null,
     "end_time": null,
     "exception": null,
     "start_time": null,
     "status": "pending"
    },
    "tags": []
   },
   "outputs": [],
   "source": [
    "df['away_team'].value_counts().head(10)"
   ]
  },
  {
   "cell_type": "code",
   "execution_count": null,
   "metadata": {
    "id": "arA7LdwhbhCV",
    "outputId": "9a650dfe-a209-4259-b34a-1f62aa9499f9",
    "papermill": {
     "duration": null,
     "end_time": null,
     "exception": null,
     "start_time": null,
     "status": "pending"
    },
    "tags": []
   },
   "outputs": [],
   "source": [
    "#df.boxplot(column='home_score')\n",
    "sns.boxplot(y=df['home_score'])\n",
    "plt.ylabel('Cantidad de goles del equipo local')\n",
    "plt.title('Distribución de goles del equipo local')\n",
    "plt.savefig(\"boxplot_home_score\")"
   ]
  },
  {
   "cell_type": "code",
   "execution_count": null,
   "metadata": {
    "id": "dwkn5E_idlgG",
    "outputId": "dcce69f7-a024-4d7f-a086-f79634174470",
    "papermill": {
     "duration": null,
     "end_time": null,
     "exception": null,
     "start_time": null,
     "status": "pending"
    },
    "tags": []
   },
   "outputs": [],
   "source": [
    "df['home_score'].describe()"
   ]
  },
  {
   "cell_type": "code",
   "execution_count": null,
   "metadata": {
    "id": "5U1BhXFcos1k",
    "outputId": "92825fc8-867d-4838-f124-cd096dc4e866",
    "papermill": {
     "duration": null,
     "end_time": null,
     "exception": null,
     "start_time": null,
     "status": "pending"
    },
    "tags": []
   },
   "outputs": [],
   "source": [
    "#df.boxplot(column='away_score')\n",
    "sns.boxplot(y=df['away_score'], palette=\"Set2\")\n",
    "plt.ylabel('Cantidad de goles del equipo visitante')\n",
    "plt.title('Distribución de goles del equipo visitante')\n",
    "plt.savefig(\"boxplot_away_score\")"
   ]
  },
  {
   "cell_type": "code",
   "execution_count": null,
   "metadata": {
    "id": "l2Md8NzddROv",
    "outputId": "548def18-4d87-4eaf-a918-1f147c2f5bae",
    "papermill": {
     "duration": null,
     "end_time": null,
     "exception": null,
     "start_time": null,
     "status": "pending"
    },
    "tags": []
   },
   "outputs": [],
   "source": [
    "df['away_score'].describe()"
   ]
  },
  {
   "cell_type": "code",
   "execution_count": null,
   "metadata": {
    "id": "79Ev0Q1AeBRL",
    "outputId": "bdb6eafe-c405-41cd-e6e7-0b21e5b3c7ba",
    "papermill": {
     "duration": null,
     "end_time": null,
     "exception": null,
     "start_time": null,
     "status": "pending"
    },
    "tags": []
   },
   "outputs": [],
   "source": [
    "df['tournament'].value_counts().head(20)"
   ]
  },
  {
   "cell_type": "code",
   "execution_count": null,
   "metadata": {
    "id": "0DE1zPWuILZn",
    "outputId": "01cc517b-9628-4f60-87b1-bd4469c30aa9",
    "papermill": {
     "duration": null,
     "end_time": null,
     "exception": null,
     "start_time": null,
     "status": "pending"
    },
    "tags": []
   },
   "outputs": [],
   "source": [
    "t = df['tournament'].value_counts().to_list()\n",
    "t = set(t)\n",
    "print(len(t))\n",
    "print( df['tournament'].value_counts())"
   ]
  },
  {
   "cell_type": "code",
   "execution_count": null,
   "metadata": {
    "id": "XgKo4v1CqWIQ",
    "outputId": "e0739f13-e5c7-4e33-a6cd-641af08bc462",
    "papermill": {
     "duration": null,
     "end_time": null,
     "exception": null,
     "start_time": null,
     "status": "pending"
    },
    "tags": []
   },
   "outputs": [],
   "source": [
    "df['city'].value_counts().head(10)"
   ]
  },
  {
   "cell_type": "code",
   "execution_count": null,
   "metadata": {
    "id": "F7FwXzZRTJHo",
    "papermill": {
     "duration": null,
     "end_time": null,
     "exception": null,
     "start_time": null,
     "status": "pending"
    },
    "tags": []
   },
   "outputs": [],
   "source": [
    "# agrego una columna con las coordenadas de las ciudades\n",
    "geolocator = Nominatim(user_agent=\"frula\")\n",
    "coordenadas = []\n",
    "for ciudad in df['city'].unique():\n",
    "  coordenadas.append((geolocator.geocode(ciudad).latitude,geolocator.geocode(ciudad).longitude))\n",
    "\n",
    "dfCoordenadas = pd.DataFrame(list(zip(df['city'].unique(),coordenadas)),columns=['city','coordenadas'])"
   ]
  },
  {
   "cell_type": "code",
   "execution_count": null,
   "metadata": {
    "id": "1liopLN_skbP",
    "outputId": "3558c7a6-4d8f-4c6a-8438-23cbe2e73f20",
    "papermill": {
     "duration": null,
     "end_time": null,
     "exception": null,
     "start_time": null,
     "status": "pending"
    },
    "tags": []
   },
   "outputs": [],
   "source": [
    "dfConCoordenadas = df.groupby('city').count().join(dfCoordenadas.set_index('city'))\n",
    "dfConCoordenadas"
   ]
  },
  {
   "cell_type": "markdown",
   "execution_count": null,
   "metadata": {
    "id": "F44X8EUEI41m",
    "papermill": {
     "duration": null,
     "end_time": null,
     "exception": null,
     "start_time": null,
     "status": "pending"
    },
    "tags": []
   },
   "source": [
    "Para hacer el mapa me guío por https://es.schoolofdata.org/2017/11/02/geodatos-con-python/ y por https://jakevdp.github.io/PythonDataScienceHandbook/04.13-geographic-data-with-basemap.html"
   ]
  },
  {
   "cell_type": "code",
   "execution_count": null,
   "metadata": {
    "id": "zJaPm-evw8Lx",
    "outputId": "e3b25306-47bb-42af-bb61-b4d93420cd0f",
    "papermill": {
     "duration": null,
     "end_time": null,
     "exception": null,
     "start_time": null,
     "status": "pending"
    },
    "tags": []
   },
   "outputs": [],
   "source": [
    "figu, ax = plt.subplots(figsize=(30,15))\n",
    "#eq_map = Basemap(resolution = 'l', area_thresh = 1000.0,lat_0=0, lon_0=0)\n",
    "eq_map = Basemap(projection='robin', resolution = 'l', area_thresh = 1000.0,lat_0=0, lon_0=0)\n",
    "eq_map.shadedrelief()\n",
    "eq_map.drawcoastlines(linewidth=0.5)\n",
    "eq_map.drawcountries()\n",
    "#eq_map.fillcontinents()\n",
    "eq_map.drawmapboundary()\n",
    "eq_map.drawmeridians(np.arange(0, 360, 30))\n",
    "eq_map.drawparallels(np.arange(-90, 90, 30))\n",
    "\n",
    "lon = list(map(lambda x: x[1],list(dfConCoordenadas['coordenadas'])))\n",
    "lat = list(map(lambda x: x[0],list(dfConCoordenadas['coordenadas'])))\n",
    "eq_map.scatter(lon, lat, latlon=True, c=dfConCoordenadas['date'], cmap='autumn_r',s=30) # es increible que primero tenga que pasarle la longitud y luego la latitud\n",
    "cb = plt.colorbar(fraction=0.046, pad=0.02)\n",
    "cb.ax.tick_params(labelsize=30)\n",
    "cb.set_label(label='Cantidad de partidos jugados',size=30)\n",
    "plt.title('Distribución geográfica de los partidos', size='40')\n",
    "plt.show()"
   ]
  },
  {
   "cell_type": "code",
   "execution_count": null,
   "metadata": {
    "id": "ykLcUP4-qWFx",
    "outputId": "3acd087f-bd5f-4939-f090-de4c1e424dc3",
    "papermill": {
     "duration": null,
     "end_time": null,
     "exception": null,
     "start_time": null,
     "status": "pending"
    },
    "tags": []
   },
   "outputs": [],
   "source": [
    "var_categoricas = list(df.select_dtypes(object))\n",
    "print(var_categoricas)"
   ]
  },
  {
   "cell_type": "code",
   "execution_count": null,
   "metadata": {
    "id": "9JgGs7UKo-Qm",
    "outputId": "28d4d90f-7def-4794-cd89-7145267d3850",
    "papermill": {
     "duration": null,
     "end_time": null,
     "exception": null,
     "start_time": null,
     "status": "pending"
    },
    "tags": []
   },
   "outputs": [],
   "source": [
    "df['neutral'].value_counts().plot(kind='pie',autopct='%1.1f%%',labels=['Falso','Verdadero'],legend = False)\n",
    "plt.title('Porcentaje de partidos en estadio neutral')\n",
    "plt.ylabel('')\n",
    "plt.savefig('neutral_pie.png')"
   ]
  },
  {
   "cell_type": "code",
   "execution_count": null,
   "metadata": {
    "id": "SBpzMJfAKynL",
    "outputId": "e5699e80-b529-4b5a-a287-1ee25bbe23af",
    "papermill": {
     "duration": null,
     "end_time": null,
     "exception": null,
     "start_time": null,
     "status": "pending"
    },
    "tags": []
   },
   "outputs": [],
   "source": [
    "ax = sns.barplot(x=df.country.value_counts().head(10).index, y=df.country.value_counts().head(10), palette=\"Set2\")\n",
    "ax.set_ylabel(\"Frecuencia\",size=10)\n",
    "plt.title('Frecuencia de Paises')\n",
    "ax.set_xlabel(\"Pais\",size=10)\n",
    "ax.set_xticklabels(ax.get_xticklabels(), rotation=45)\n",
    "ax.figure.tight_layout()\n",
    "plt.savefig('paises.png')\n",
    "ax"
   ]
  },
  {
   "cell_type": "code",
   "execution_count": null,
   "metadata": {
    "id": "_0Qu75wNKysp",
    "outputId": "ce4e7ad7-9fe4-4f93-92a4-cd84f2e172fa",
    "papermill": {
     "duration": null,
     "end_time": null,
     "exception": null,
     "start_time": null,
     "status": "pending"
    },
    "tags": []
   },
   "outputs": [],
   "source": [
    "c = df['country'].value_counts().to_list()\n",
    "c = set(c)\n",
    "#print(len(c))\n",
    "df['country'].value_counts()"
   ]
  },
  {
   "cell_type": "markdown",
   "execution_count": null,
   "metadata": {
    "id": "guAGru4VbhWZ",
    "papermill": {
     "duration": null,
     "end_time": null,
     "exception": null,
     "start_time": null,
     "status": "pending"
    },
    "tags": []
   },
   "source": [
    "Item c)"
   ]
  },
  {
   "cell_type": "markdown",
   "execution_count": null,
   "metadata": {
    "id": "5Jj3dIzkCn9p",
    "papermill": {
     "duration": null,
     "end_time": null,
     "exception": null,
     "start_time": null,
     "status": "pending"
    },
    "tags": []
   },
   "source": [
    "Análisis goles de local según la selección (categórica - numérica)\n"
   ]
  },
  {
   "cell_type": "code",
   "execution_count": null,
   "metadata": {
    "id": "nu_2tz0YCpL-",
    "outputId": "e432d386-df87-4fbe-8212-040a3f48b327",
    "papermill": {
     "duration": null,
     "end_time": null,
     "exception": null,
     "start_time": null,
     "status": "pending"
    },
    "tags": []
   },
   "outputs": [],
   "source": [
    "dfSoloLocales = df[df['neutral'] == False].groupby('home_team').sum().drop(['away_score','neutral'],axis='columns')\n",
    "ax = dfSoloLocales[dfSoloLocales['home_score'] > 200].plot(kind='bar',figsize=(20,10),fontsize=12,legend=False)\n",
    "ax.set_ylabel(\"Cantidad de goles realizados\",size=12)\n",
    "ax.set_xlabel(\"Selección\",size=12)\n",
    "plt.title(\"Sumatoria de los goles realizados en condición de local\",size=15)"
   ]
  },
  {
   "cell_type": "markdown",
   "execution_count": null,
   "metadata": {
    "id": "ztmmd9VTAg8R",
    "papermill": {
     "duration": null,
     "end_time": null,
     "exception": null,
     "start_time": null,
     "status": "pending"
    },
    "tags": []
   },
   "source": [
    "Correlación de goles locales y goles visitantes (numérica - numérica)"
   ]
  },
  {
   "cell_type": "code",
   "execution_count": null,
   "metadata": {
    "id": "k6ac8McIBiwI",
    "outputId": "f13d3684-5e34-404e-e655-d3f2c425d555",
    "papermill": {
     "duration": null,
     "end_time": null,
     "exception": null,
     "start_time": null,
     "status": "pending"
    },
    "tags": []
   },
   "outputs": [],
   "source": [
    "df.corr()"
   ]
  },
  {
   "cell_type": "code",
   "execution_count": null,
   "metadata": {
    "id": "KoYInCNn6a4t",
    "outputId": "d04f97c4-078f-4b37-c5aa-003a59ec421a",
    "papermill": {
     "duration": null,
     "end_time": null,
     "exception": null,
     "start_time": null,
     "status": "pending"
    },
    "tags": []
   },
   "outputs": [],
   "source": [
    "def correlacion_pearson(data_frame, columna1, columna2): \n",
    "    \"\"\"Retorna el indice de correlacion de Pearson\"\"\"\n",
    "    return np.corrcoef(data_frame[columna1], data_frame[columna2])[0,1];\n",
    "print(\"Índice de correlación de Pearson:\", correlacion_pearson(df, \"home_score\", \"away_score\"));"
   ]
  },
  {
   "cell_type": "code",
   "execution_count": null,
   "metadata": {
    "id": "f4fjCijhPVtx",
    "outputId": "abd5467d-b369-44f8-fd5f-dedbe1369ffb",
    "papermill": {
     "duration": null,
     "end_time": null,
     "exception": null,
     "start_time": null,
     "status": "pending"
    },
    "tags": []
   },
   "outputs": [],
   "source": [
    "data = df[[\"home_score\",\"away_score\"]]\n",
    "count_series = data.groupby([\"home_score\",\"away_score\"]).size()\n",
    "data =count_series.to_frame(name = 'size').reset_index()\n",
    "\n",
    "heatmap1_data = pd.pivot_table(data, values='size', \n",
    "                     index=['away_score'], \n",
    "                     columns='home_score')\n",
    "\n",
    "plt.title('Dispersión de los goles locales y visitantes',size=12)\n",
    "sns.heatmap(heatmap1_data)\n",
    "plt.savefig(\"dispersion_goles.png\");"
   ]
  },
  {
   "cell_type": "markdown",
   "execution_count": null,
   "metadata": {
    "id": "9liKo5N3nUDI",
    "papermill": {
     "duration": null,
     "end_time": null,
     "exception": null,
     "start_time": null,
     "status": "pending"
    },
    "tags": []
   },
   "source": [
    "Análisis de país y partido neutral"
   ]
  },
  {
   "cell_type": "code",
   "execution_count": null,
   "metadata": {
    "id": "DHDDyupxnTdK",
    "outputId": "21a0449b-067d-4c55-e5b0-7af0f3979969",
    "papermill": {
     "duration": null,
     "end_time": null,
     "exception": null,
     "start_time": null,
     "status": "pending"
    },
    "tags": []
   },
   "outputs": [],
   "source": [
    "dfConNeutralSeparado = df[df['neutral'] == True].groupby('country').count().join(df[df['neutral'] == False].groupby('country').count().rename({'neutral':'noNeutral'}, axis='columns'), lsuffix=\"_\")\n",
    "dfConNeutralSeparado = dfConNeutralSeparado.drop(columns=['date', 'date_','home_team','home_team_','away_team','away_team_','home_score','home_score_','away_score','away_score_','tournament','tournament_','city','city_'])\n",
    "ax = dfConNeutralSeparado[dfConNeutralSeparado['neutral']+dfConNeutralSeparado['noNeutral'] > 150].plot(kind=\"bar\",stacked=True,figsize=(20,10),fontsize=12,legend=True)\n",
    "ax.legend(['Neutral','No neutral'])\n",
    "ax.set_ylabel(\"Cantidad de partidos\",size=15)\n",
    "ax.set_xlabel(\"País\",size=15)\n",
    "plt.title(\"Cantidad de partidos jugados en cada país según la existencia de localía\",size=15)"
   ]
  },
  {
   "cell_type": "markdown",
   "execution_count": null,
   "metadata": {
    "id": "5R3hHvsuO5is",
    "papermill": {
     "duration": null,
     "end_time": null,
     "exception": null,
     "start_time": null,
     "status": "pending"
    },
    "tags": []
   },
   "source": [
    "Análisis de torneo y neutral"
   ]
  },
  {
   "cell_type": "code",
   "execution_count": null,
   "metadata": {
    "id": "ofQ8lZoEO4wn",
    "outputId": "e739da5e-ef89-4ba4-9245-3d344024cd91",
    "papermill": {
     "duration": null,
     "end_time": null,
     "exception": null,
     "start_time": null,
     "status": "pending"
    },
    "tags": []
   },
   "outputs": [],
   "source": [
    "dfTorneoNeutral = df[df['neutral'] == True].groupby('tournament').count().join(df[df['neutral'] == False].groupby('tournament').count().rename({'neutral':'noNeutral'}, axis='columns'), lsuffix=\"_\")\n",
    "dfTorneoNeutral = dfTorneoNeutral.drop(columns=['date', 'date_','home_team','home_team_','away_team','away_team_','home_score','home_score_','away_score','away_score_','city','city_','country','country_'])\n",
    "ax = dfTorneoNeutral[dfTorneoNeutral['neutral']+dfTorneoNeutral['noNeutral'] < 1000].plot(kind=\"bar\",stacked=True,figsize=(20,10),fontsize=12,legend=True)\n",
    "ax.legend(['Neutral','No neutral'])\n",
    "ax.set_ylabel(\"Cantidad de partidos\",size=15)\n",
    "ax.set_xlabel(\"Torneo\",size=15)\n",
    "plt.title(\"Cantidad de partidos por torneo según la existencia de localía\",size=15)"
   ]
  },
  {
   "cell_type": "code",
   "execution_count": null,
   "metadata": {
    "id": "rtqhmKhq6B75",
    "outputId": "8abc6cf6-ed0b-4075-c3a4-e737da5462cd",
    "papermill": {
     "duration": null,
     "end_time": null,
     "exception": null,
     "start_time": null,
     "status": "pending"
    },
    "tags": []
   },
   "outputs": [],
   "source": [
    "ax = dfTorneoNeutral[dfTorneoNeutral['neutral']+dfTorneoNeutral['noNeutral'] > 1000].plot(kind=\"bar\",stacked=True,figsize=(7,5),fontsize=10,legend=True)\n",
    "plt.xticks(rotation=0)\n",
    "ax.set_xticklabels(['African Cup of Nations \\n qualification','FIFA World Cup \\n qualification','Friendly','UEFA Euro \\n qualification'])\n",
    "ax.legend(['Neutral','No neutral'])\n",
    "ax.set_ylabel(\"Cantidad de partidos\",size=10)\n",
    "ax.set_xlabel(\"Torneo\",size=10)\n",
    "plt.title(\"Cantidad de partidos según localía de los torneos con más partidos\",size=10)"
   ]
  },
  {
   "cell_type": "markdown",
   "execution_count": null,
   "metadata": {
    "id": "cuJNmMXNQgNe",
    "papermill": {
     "duration": null,
     "end_time": null,
     "exception": null,
     "start_time": null,
     "status": "pending"
    },
    "tags": []
   },
   "source": [
    "Análisis goles visitantes en función del tiempo"
   ]
  },
  {
   "cell_type": "code",
   "execution_count": null,
   "metadata": {
    "id": "P37Fa_F8Qj4A",
    "outputId": "4812e8d6-145c-4589-915d-e352e1caf661",
    "papermill": {
     "duration": null,
     "end_time": null,
     "exception": null,
     "start_time": null,
     "status": "pending"
    },
    "tags": []
   },
   "outputs": [],
   "source": [
    "dfGolesVisitantesTiempo = df.groupby('date').sum()['away_score']\n",
    "ax = dfGolesVisitantesTiempo.plot(kind='area',figsize=(10,10),fontsize=12)\n",
    "ax.set_ylabel(\"Cantidad de goles realizados por equipos visitantes\",size=12)\n",
    "ax.set_xlabel(\"Fecha del partido\",size=12)\n",
    "plt.title(\"Sumatoria de los goles realizados en cada fecha\",size=15)"
   ]
  },
  {
   "cell_type": "markdown",
   "execution_count": null,
   "metadata": {
    "id": "UqI3-adtcBjU",
    "papermill": {
     "duration": null,
     "end_time": null,
     "exception": null,
     "start_time": null,
     "status": "pending"
    },
    "tags": []
   },
   "source": [
    "Claramente se parece a la cantidad de partidos por fecha así que veamos la cantidad de goles por partidos según la fecha"
   ]
  },
  {
   "cell_type": "code",
   "execution_count": null,
   "metadata": {
    "id": "7JdW-F71cImX",
    "outputId": "2f7ff87f-b580-46e9-b9b1-a2d30fc44a1e",
    "papermill": {
     "duration": null,
     "end_time": null,
     "exception": null,
     "start_time": null,
     "status": "pending"
    },
    "tags": []
   },
   "outputs": [],
   "source": [
    "dfAux = df.groupby('date').sum().join(df.groupby('date').count(),rsuffix = \"_count\")\n",
    "dfAux['visitantesPorPartido'] = dfAux['away_score']/dfAux['away_score_count']\n",
    "dfAux = dfAux.drop(columns=['home_team','away_team','home_score','home_score_count','away_score','away_score_count','city','country','neutral','neutral_count','tournament'])\n",
    "ax = dfAux.plot(kind='area',figsize=(10,10),fontsize=12,legend=False)\n",
    "ax.set_ylabel(\"Cantidad promedio de goles realizados por equipos visitantes\",size=12)\n",
    "ax.set_xlabel(\"Fecha\",size=12)\n",
    "plt.title(\"Promedio de los goles realizados en cada fecha\",size=15)"
   ]
  }
 ],
 "metadata": {
  "kernelspec": {
   "display_name": "Python 3",
   "language": "python",
   "name": "python3"
  },
  "language_info": {
   "codemirror_mode": {
    "name": "ipython",
    "version": 3
   },
   "file_extension": ".py",
   "mimetype": "text/x-python",
   "name": "python",
   "nbconvert_exporter": "python",
   "pygments_lexer": "ipython3",
   "version": "3.6.4"
  },
  "papermill": {
   "duration": null,
   "end_time": null,
   "environment_variables": {},
   "exception": null,
   "input_path": "__notebook__.ipynb",
   "output_path": "__notebook__.ipynb",
   "parameters": {},
   "start_time": "2020-08-16T22:04:17.507835",
   "version": "2.1.0"
  }
 },
 "nbformat": 4,
 "nbformat_minor": 4
}