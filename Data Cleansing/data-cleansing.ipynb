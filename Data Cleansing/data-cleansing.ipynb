{
 "cells": [
  {
   "cell_type": "markdown",
   "execution_count": null,
   "metadata": {
    "id": "i0FJ2EWe83IM",
    "papermill": {
     "duration": 0.008098,
     "end_time": "2020-08-16T21:56:36.580932",
     "exception": false,
     "start_time": "2020-08-16T21:56:36.572834",
     "status": "completed"
    },
    "tags": []
   },
   "source": [
    "# TP LIMPIEZA DE DATOS\n",
    "El presente trabajo esta realizado en torno a la data de https://www.sharkattackfile.net/ sobre el registro de accidentes que se producidos por ataques de tiburones."
   ]
  },
  {
   "cell_type": "code",
   "execution_count": 1,
   "metadata": {
    "execution": {
     "iopub.execute_input": "2020-08-16T21:56:36.600838Z",
     "iopub.status.busy": "2020-08-16T21:56:36.599715Z",
     "iopub.status.idle": "2020-08-16T21:56:36.603565Z",
     "shell.execute_reply": "2020-08-16T21:56:36.602764Z"
    },
    "id": "gCb6ZZiBGnAs",
    "papermill": {
     "duration": 0.015745,
     "end_time": "2020-08-16T21:56:36.603712",
     "exception": false,
     "start_time": "2020-08-16T21:56:36.587967",
     "status": "completed"
    },
    "tags": []
   },
   "outputs": [],
   "source": [
    "import pandas as pd"
   ]
  },
  {
   "cell_type": "markdown",
   "execution_count": null,
   "metadata": {
    "id": "094mc8NITn3K",
    "papermill": {
     "duration": 0.006339,
     "end_time": "2020-08-16T21:56:36.616832",
     "exception": false,
     "start_time": "2020-08-16T21:56:36.610493",
     "status": "completed"
    },
    "tags": []
   },
   "source": [
    "Obtengo la planilla tirando un get al html y luego lo \"parseo\""
   ]
  },
  {
   "cell_type": "code",
   "execution_count": 2,
   "metadata": {
    "execution": {
     "iopub.execute_input": "2020-08-16T21:56:36.636005Z",
     "iopub.status.busy": "2020-08-16T21:56:36.634979Z",
     "iopub.status.idle": "2020-08-16T21:56:46.703430Z",
     "shell.execute_reply": "2020-08-16T21:56:46.702298Z"
    },
    "id": "q9zYQimqSMDL",
    "papermill": {
     "duration": 10.08042,
     "end_time": "2020-08-16T21:56:46.703618",
     "exception": false,
     "start_time": "2020-08-16T21:56:36.623198",
     "status": "completed"
    },
    "tags": []
   },
   "outputs": [],
   "source": [
    "#Version1\n",
    "#df = pd.read_html('https://docs.google.com/spreadsheets/d/e/2PACX-1vRRMS9u_TYyr-Ar3iTrBxTtw7H0lzRCZsJrH8nGlJrkebURo9iLvuPkmla9huyrgXsxtKfDIzBaLYqZ/pubhtml', encoding='utf8')[0]\n",
    "#Version2\n",
    "#df = pd.read_html('https://docs.google.com/spreadsheets/d/1J2dWp04si06O6s6C0agTpSZ5g56G2LP3qYuIEgW1ZnQ/edit?usp=sharing', encoding='utf8')[0]\n",
    "df = pd.read_html('https://docs.google.com/spreadsheets/d/1J2dWp04si06O6s6C0agTpSZ5g56G2LP3qYuIEgW1ZnQ/pubhtml', encoding='utf8')[0]\n"
   ]
  },
  {
   "cell_type": "markdown",
   "execution_count": null,
   "metadata": {
    "id": "AE3QNnydUSaE",
    "papermill": {
     "duration": 0.007381,
     "end_time": "2020-08-16T21:56:46.720578",
     "exception": false,
     "start_time": "2020-08-16T21:56:46.713197",
     "status": "completed"
    },
    "tags": []
   },
   "source": [
    "Pongo en los nombres de las columnas lo que hay en la primer fila"
   ]
  },
  {
   "cell_type": "code",
   "execution_count": 3,
   "metadata": {
    "execution": {
     "iopub.execute_input": "2020-08-16T21:56:46.767242Z",
     "iopub.status.busy": "2020-08-16T21:56:46.766070Z",
     "iopub.status.idle": "2020-08-16T21:56:46.769528Z",
     "shell.execute_reply": "2020-08-16T21:56:46.768902Z"
    },
    "id": "hJE9c3nlS4Iz",
    "papermill": {
     "duration": 0.042335,
     "end_time": "2020-08-16T21:56:46.769669",
     "exception": false,
     "start_time": "2020-08-16T21:56:46.727334",
     "status": "completed"
    },
    "tags": []
   },
   "outputs": [],
   "source": [
    "#df.columns = ['Index','Case Number','Date','Year','Type','Country','Area','Location','Activity','Name','Sex','Age','Injury','Fatal (Y/N)','Time','Species','Investigator or Source']\n",
    "#df = df.iloc[1:]\n",
    "df.columns = ['Index','Case Number','Date','Year','Type','Country','Area','Location','Activity','Name','Sex','Age','Injury','Fatal (Y/N)','Time','Species','Investigator or Source','pdf', 'href formula', 'href','Case Number 2','Case Number 3', 'Original Order','Color Type']\n",
    "df = df.iloc[1:]"
   ]
  },
  {
   "cell_type": "code",
   "execution_count": 4,
   "metadata": {
    "execution": {
     "iopub.execute_input": "2020-08-16T21:56:46.794799Z",
     "iopub.status.busy": "2020-08-16T21:56:46.793965Z",
     "iopub.status.idle": "2020-08-16T21:56:46.847517Z",
     "shell.execute_reply": "2020-08-16T21:56:46.848110Z"
    },
    "id": "JkoJ1vHgbg9x",
    "papermill": {
     "duration": 0.070261,
     "end_time": "2020-08-16T21:56:46.848307",
     "exception": false,
     "start_time": "2020-08-16T21:56:46.778046",
     "status": "completed"
    },
    "tags": []
   },
   "outputs": [
    {
     "data": {
      "text/html": [
       "<div>\n",
       "<style scoped>\n",
       "    .dataframe tbody tr th:only-of-type {\n",
       "        vertical-align: middle;\n",
       "    }\n",
       "\n",
       "    .dataframe tbody tr th {\n",
       "        vertical-align: top;\n",
       "    }\n",
       "\n",
       "    .dataframe thead th {\n",
       "        text-align: right;\n",
       "    }\n",
       "</style>\n",
       "<table border=\"1\" class=\"dataframe\">\n",
       "  <thead>\n",
       "    <tr style=\"text-align: right;\">\n",
       "      <th></th>\n",
       "      <th>Index</th>\n",
       "      <th>Case Number</th>\n",
       "      <th>Date</th>\n",
       "      <th>Year</th>\n",
       "      <th>Type</th>\n",
       "      <th>Country</th>\n",
       "      <th>Area</th>\n",
       "      <th>Location</th>\n",
       "      <th>Activity</th>\n",
       "      <th>Name</th>\n",
       "      <th>...</th>\n",
       "      <th>Time</th>\n",
       "      <th>Species</th>\n",
       "      <th>Investigator or Source</th>\n",
       "      <th>pdf</th>\n",
       "      <th>href formula</th>\n",
       "      <th>href</th>\n",
       "      <th>Case Number 2</th>\n",
       "      <th>Case Number 3</th>\n",
       "      <th>Original Order</th>\n",
       "      <th>Color Type</th>\n",
       "    </tr>\n",
       "  </thead>\n",
       "  <tbody>\n",
       "    <tr>\n",
       "      <th>1</th>\n",
       "      <td>2</td>\n",
       "      <td>1957.00.00.h</td>\n",
       "      <td>1957</td>\n",
       "      <td>1957</td>\n",
       "      <td>Boat</td>\n",
       "      <td>CUBA</td>\n",
       "      <td>Havana Province</td>\n",
       "      <td>Cojimar</td>\n",
       "      <td>Fishing</td>\n",
       "      <td>boat, occupant: Portuondo</td>\n",
       "      <td>...</td>\n",
       "      <td>NaN</td>\n",
       "      <td>3.7 m [12'] shark</td>\n",
       "      <td>F. Poli, pp.21-24</td>\n",
       "      <td>1957.00.00.h-boat-Portuondo.pdf</td>\n",
       "      <td>http://sharkattackfile.net/spreadsheets/pdf_di...</td>\n",
       "      <td>http://sharkattackfile.net/spreadsheets/pdf_di...</td>\n",
       "      <td>1957.00.00.h</td>\n",
       "      <td>1957.00.00.h</td>\n",
       "      <td>2094</td>\n",
       "      <td>Boats</td>\n",
       "    </tr>\n",
       "    <tr>\n",
       "      <th>2</th>\n",
       "      <td>3</td>\n",
       "      <td>1956.08.00.c</td>\n",
       "      <td>Aug-1956</td>\n",
       "      <td>1956</td>\n",
       "      <td>Boat</td>\n",
       "      <td>MALTA</td>\n",
       "      <td>Congreve Channel</td>\n",
       "      <td>between Filfla Island and Wied iz-Zurrieq</td>\n",
       "      <td>Fishing</td>\n",
       "      <td>boat: occupants: Nazzareno Zammit &amp; Emmanuel</td>\n",
       "      <td>...</td>\n",
       "      <td>NaN</td>\n",
       "      <td>Porbeagle or white shark</td>\n",
       "      <td>A. Buttigieg</td>\n",
       "      <td>1956.08.00.c-Zammit.pdf</td>\n",
       "      <td>http://sharkattackfile.net/spreadsheets/pdf_di...</td>\n",
       "      <td>http://sharkattackfile.net/spreadsheets/pdf_di...</td>\n",
       "      <td>1956.08.00.c</td>\n",
       "      <td>1956.08.00.c</td>\n",
       "      <td>2066</td>\n",
       "      <td>Boats</td>\n",
       "    </tr>\n",
       "    <tr>\n",
       "      <th>3</th>\n",
       "      <td>4</td>\n",
       "      <td>1958.08.31</td>\n",
       "      <td>31-Aug-1958</td>\n",
       "      <td>1958</td>\n",
       "      <td>Boat</td>\n",
       "      <td>MEXICO</td>\n",
       "      <td>Baja California</td>\n",
       "      <td>Ensenada</td>\n",
       "      <td>Boat stopped to repair electric pump</td>\n",
       "      <td>16' cabin cruiser with 35 hp outboard motor</td>\n",
       "      <td>...</td>\n",
       "      <td>07h15</td>\n",
       "      <td>Hammerhead shark, 5.2 m [17']</td>\n",
       "      <td>G.A. Llano, pp.176-177</td>\n",
       "      <td>1958.08.31-NV-Ensenada.pdf</td>\n",
       "      <td>http://sharkattackfile.net/spreadsheets/pdf_di...</td>\n",
       "      <td>http://sharkattackfile.net/spreadsheets/pdf_di...</td>\n",
       "      <td>1958.08.31</td>\n",
       "      <td>1958.08.31</td>\n",
       "      <td>2165</td>\n",
       "      <td>Boats</td>\n",
       "    </tr>\n",
       "    <tr>\n",
       "      <th>4</th>\n",
       "      <td>5</td>\n",
       "      <td>1959.07.00.b</td>\n",
       "      <td>Late Jul-1959</td>\n",
       "      <td>1959</td>\n",
       "      <td>Boat</td>\n",
       "      <td>NORTH ATLANTIC OCEAN</td>\n",
       "      <td>In the Gulf Stream</td>\n",
       "      <td>Between Bimini &amp; Miami</td>\n",
       "      <td>NaN</td>\n",
       "      <td>17' boat, occupant: Richard Wade</td>\n",
       "      <td>...</td>\n",
       "      <td>NaN</td>\n",
       "      <td>Oceanic whitetip shark,1.8 m [6']</td>\n",
       "      <td>J. Randall in Sharks &amp; Survival, p.356</td>\n",
       "      <td>1959.07.00.b-boat-R-Wade.pdf</td>\n",
       "      <td>http://sharkattackfile.net/spreadsheets/pdf_di...</td>\n",
       "      <td>http://sharkattackfile.net/spreadsheets/pdf_di...</td>\n",
       "      <td>1959.07.00.b</td>\n",
       "      <td>1959.07.00.b</td>\n",
       "      <td>2221</td>\n",
       "      <td>Boats</td>\n",
       "    </tr>\n",
       "    <tr>\n",
       "      <th>5</th>\n",
       "      <td>6</td>\n",
       "      <td>1958.00.00.b</td>\n",
       "      <td>1958</td>\n",
       "      <td>1958</td>\n",
       "      <td>Boat</td>\n",
       "      <td>SOUTH AFRICA</td>\n",
       "      <td>Western Cape Province</td>\n",
       "      <td>Plettenberg Bay</td>\n",
       "      <td>Fishing (trolling)</td>\n",
       "      <td>ski-boat</td>\n",
       "      <td>...</td>\n",
       "      <td>NaN</td>\n",
       "      <td>White shark</td>\n",
       "      <td>T. Wallett, p.27</td>\n",
       "      <td>1958.00.00.b-PlettenburgBay.pdf</td>\n",
       "      <td>http://sharkattackfile.net/spreadsheets/pdf_di...</td>\n",
       "      <td>http://sharkattackfile.net/spreadsheets/pdf_di...</td>\n",
       "      <td>1958.00.00.b</td>\n",
       "      <td>1958.00.00.b</td>\n",
       "      <td>2129</td>\n",
       "      <td>Boats</td>\n",
       "    </tr>\n",
       "    <tr>\n",
       "      <th>...</th>\n",
       "      <td>...</td>\n",
       "      <td>...</td>\n",
       "      <td>...</td>\n",
       "      <td>...</td>\n",
       "      <td>...</td>\n",
       "      <td>...</td>\n",
       "      <td>...</td>\n",
       "      <td>...</td>\n",
       "      <td>...</td>\n",
       "      <td>...</td>\n",
       "      <td>...</td>\n",
       "      <td>...</td>\n",
       "      <td>...</td>\n",
       "      <td>...</td>\n",
       "      <td>...</td>\n",
       "      <td>...</td>\n",
       "      <td>...</td>\n",
       "      <td>...</td>\n",
       "      <td>...</td>\n",
       "      <td>...</td>\n",
       "      <td>...</td>\n",
       "    </tr>\n",
       "    <tr>\n",
       "      <th>3675</th>\n",
       "      <td>3676</td>\n",
       "      <td>1998.01.25.b</td>\n",
       "      <td>25-Jan-1998</td>\n",
       "      <td>1998</td>\n",
       "      <td>Unprovoked</td>\n",
       "      <td>REUNION</td>\n",
       "      <td>Grand'Anse</td>\n",
       "      <td>NaN</td>\n",
       "      <td>Bathing</td>\n",
       "      <td>Philippe Blu</td>\n",
       "      <td>...</td>\n",
       "      <td>Mid afternoon</td>\n",
       "      <td>NaN</td>\n",
       "      <td>G. Van Grevelynghe</td>\n",
       "      <td>1998.01.25.b-Blu.pdf</td>\n",
       "      <td>http://sharkattackfile.net/spreadsheets/pdf_di...</td>\n",
       "      <td>http://sharkattackfile.net/spreadsheets/pdf_di...</td>\n",
       "      <td>1998.01.25.b</td>\n",
       "      <td>1998.01.25.b</td>\n",
       "      <td>4112</td>\n",
       "      <td>Unprovoked</td>\n",
       "    </tr>\n",
       "    <tr>\n",
       "      <th>3676</th>\n",
       "      <td>3677</td>\n",
       "      <td>1998.00.00.b</td>\n",
       "      <td>1998</td>\n",
       "      <td>1998</td>\n",
       "      <td>Unprovoked</td>\n",
       "      <td>REUNION</td>\n",
       "      <td>Beaufonds</td>\n",
       "      <td>NaN</td>\n",
       "      <td>Diving</td>\n",
       "      <td>NaN</td>\n",
       "      <td>...</td>\n",
       "      <td>NaN</td>\n",
       "      <td>NaN</td>\n",
       "      <td>G. Van Grevelynghe</td>\n",
       "      <td>1998.00.00.b-Reunion.pdf</td>\n",
       "      <td>http://sharkattackfile.net/spreadsheets/pdf_di...</td>\n",
       "      <td>http://sharkattackfile.net/spreadsheets/pdf_di...</td>\n",
       "      <td>1998.00.00.b</td>\n",
       "      <td>1998.00.00.b</td>\n",
       "      <td>4107</td>\n",
       "      <td>Unprovoked</td>\n",
       "    </tr>\n",
       "    <tr>\n",
       "      <th>3677</th>\n",
       "      <td>3678</td>\n",
       "      <td>1997.02.20</td>\n",
       "      <td>20-Feb-1997</td>\n",
       "      <td>1997</td>\n",
       "      <td>Unprovoked</td>\n",
       "      <td>REUNION</td>\n",
       "      <td>L'Etang-Sale</td>\n",
       "      <td>NaN</td>\n",
       "      <td>NaN</td>\n",
       "      <td>Laurent Lebon</td>\n",
       "      <td>...</td>\n",
       "      <td>NaN</td>\n",
       "      <td>NaN</td>\n",
       "      <td>LeQuotidien, 12/4/1999</td>\n",
       "      <td>1997.02.20-Lebon.pdf</td>\n",
       "      <td>http://sharkattackfile.net/spreadsheets/pdf_di...</td>\n",
       "      <td>http://sharkattackfile.net/spreadsheets/pdf_di...</td>\n",
       "      <td>1997.02.20</td>\n",
       "      <td>1997.02.20</td>\n",
       "      <td>4054</td>\n",
       "      <td>Unprovoked</td>\n",
       "    </tr>\n",
       "    <tr>\n",
       "      <th>3678</th>\n",
       "      <td>3679</td>\n",
       "      <td>1997.01.03.a</td>\n",
       "      <td>03-Jan-1997</td>\n",
       "      <td>1997</td>\n",
       "      <td>Unprovoked</td>\n",
       "      <td>REUNION</td>\n",
       "      <td>NaN</td>\n",
       "      <td>la Pointe-au-Sel</td>\n",
       "      <td>Spearfishing</td>\n",
       "      <td>David Lonne</td>\n",
       "      <td>...</td>\n",
       "      <td>NaN</td>\n",
       "      <td>Bull shark</td>\n",
       "      <td>Clicanoo, le journal de l'Ile de la Réunion</td>\n",
       "      <td>1997.01.03-Lonne.pdf</td>\n",
       "      <td>http://sharkattackfile.net/spreadsheets/pdf_di...</td>\n",
       "      <td>http://sharkattackfile.net/spreadsheets/pdf_di...</td>\n",
       "      <td>1997.01.03.a</td>\n",
       "      <td>1997.01.03.a</td>\n",
       "      <td>4050</td>\n",
       "      <td>Unprovoked</td>\n",
       "    </tr>\n",
       "    <tr>\n",
       "      <th>3679</th>\n",
       "      <td>3680</td>\n",
       "      <td>1996.01.10</td>\n",
       "      <td>10-Jan-1996</td>\n",
       "      <td>1996</td>\n",
       "      <td>Unprovoked</td>\n",
       "      <td>REUNION</td>\n",
       "      <td>Saint-Paul</td>\n",
       "      <td>Embouchure de l'</td>\n",
       "      <td>NaN</td>\n",
       "      <td>NaN</td>\n",
       "      <td>...</td>\n",
       "      <td>NaN</td>\n",
       "      <td>NaN</td>\n",
       "      <td>NaN</td>\n",
       "      <td>NaN</td>\n",
       "      <td>NaN</td>\n",
       "      <td>NaN</td>\n",
       "      <td>NaN</td>\n",
       "      <td>NaN</td>\n",
       "      <td>NaN</td>\n",
       "      <td>NaN</td>\n",
       "    </tr>\n",
       "  </tbody>\n",
       "</table>\n",
       "<p>3679 rows × 24 columns</p>\n",
       "</div>"
      ],
      "text/plain": [
       "      Index   Case Number           Date  Year        Type  \\\n",
       "1         2  1957.00.00.h           1957  1957        Boat   \n",
       "2         3  1956.08.00.c       Aug-1956  1956        Boat   \n",
       "3         4    1958.08.31    31-Aug-1958  1958        Boat   \n",
       "4         5  1959.07.00.b  Late Jul-1959  1959        Boat   \n",
       "5         6  1958.00.00.b           1958  1958        Boat   \n",
       "...     ...           ...            ...   ...         ...   \n",
       "3675   3676  1998.01.25.b    25-Jan-1998  1998  Unprovoked   \n",
       "3676   3677  1998.00.00.b           1998  1998  Unprovoked   \n",
       "3677   3678    1997.02.20    20-Feb-1997  1997  Unprovoked   \n",
       "3678   3679  1997.01.03.a    03-Jan-1997  1997  Unprovoked   \n",
       "3679   3680    1996.01.10    10-Jan-1996  1996  Unprovoked   \n",
       "\n",
       "                   Country                   Area  \\\n",
       "1                     CUBA        Havana Province   \n",
       "2                    MALTA       Congreve Channel   \n",
       "3                   MEXICO        Baja California   \n",
       "4     NORTH ATLANTIC OCEAN     In the Gulf Stream   \n",
       "5             SOUTH AFRICA  Western Cape Province   \n",
       "...                    ...                    ...   \n",
       "3675               REUNION             Grand'Anse   \n",
       "3676               REUNION              Beaufonds   \n",
       "3677               REUNION           L'Etang-Sale   \n",
       "3678               REUNION                    NaN   \n",
       "3679               REUNION             Saint-Paul   \n",
       "\n",
       "                                       Location  \\\n",
       "1                                       Cojimar   \n",
       "2     between Filfla Island and Wied iz-Zurrieq   \n",
       "3                                      Ensenada   \n",
       "4                        Between Bimini & Miami   \n",
       "5                               Plettenberg Bay   \n",
       "...                                         ...   \n",
       "3675                                        NaN   \n",
       "3676                                        NaN   \n",
       "3677                                        NaN   \n",
       "3678                           la Pointe-au-Sel   \n",
       "3679                           Embouchure de l'   \n",
       "\n",
       "                                  Activity  \\\n",
       "1                                  Fishing   \n",
       "2                                  Fishing   \n",
       "3     Boat stopped to repair electric pump   \n",
       "4                                      NaN   \n",
       "5                       Fishing (trolling)   \n",
       "...                                    ...   \n",
       "3675                               Bathing   \n",
       "3676                                Diving   \n",
       "3677                                   NaN   \n",
       "3678                          Spearfishing   \n",
       "3679                                   NaN   \n",
       "\n",
       "                                              Name  ...           Time  \\\n",
       "1                        boat, occupant: Portuondo  ...            NaN   \n",
       "2     boat: occupants: Nazzareno Zammit & Emmanuel  ...            NaN   \n",
       "3      16' cabin cruiser with 35 hp outboard motor  ...          07h15   \n",
       "4                 17' boat, occupant: Richard Wade  ...            NaN   \n",
       "5                                         ski-boat  ...            NaN   \n",
       "...                                            ...  ...            ...   \n",
       "3675                                  Philippe Blu  ...  Mid afternoon   \n",
       "3676                                           NaN  ...            NaN   \n",
       "3677                                 Laurent Lebon  ...            NaN   \n",
       "3678                                   David Lonne  ...            NaN   \n",
       "3679                                           NaN  ...            NaN   \n",
       "\n",
       "                                Species  \\\n",
       "1                     3.7 m [12'] shark   \n",
       "2              Porbeagle or white shark   \n",
       "3         Hammerhead shark, 5.2 m [17']   \n",
       "4     Oceanic whitetip shark,1.8 m [6']   \n",
       "5                           White shark   \n",
       "...                                 ...   \n",
       "3675                                NaN   \n",
       "3676                                NaN   \n",
       "3677                                NaN   \n",
       "3678                         Bull shark   \n",
       "3679                                NaN   \n",
       "\n",
       "                           Investigator or Source  \\\n",
       "1                               F. Poli, pp.21-24   \n",
       "2                                    A. Buttigieg   \n",
       "3                          G.A. Llano, pp.176-177   \n",
       "4          J. Randall in Sharks & Survival, p.356   \n",
       "5                                T. Wallett, p.27   \n",
       "...                                           ...   \n",
       "3675                           G. Van Grevelynghe   \n",
       "3676                           G. Van Grevelynghe   \n",
       "3677                       LeQuotidien, 12/4/1999   \n",
       "3678  Clicanoo, le journal de l'Ile de la Réunion   \n",
       "3679                                          NaN   \n",
       "\n",
       "                                  pdf  \\\n",
       "1     1957.00.00.h-boat-Portuondo.pdf   \n",
       "2             1956.08.00.c-Zammit.pdf   \n",
       "3          1958.08.31-NV-Ensenada.pdf   \n",
       "4        1959.07.00.b-boat-R-Wade.pdf   \n",
       "5     1958.00.00.b-PlettenburgBay.pdf   \n",
       "...                               ...   \n",
       "3675             1998.01.25.b-Blu.pdf   \n",
       "3676         1998.00.00.b-Reunion.pdf   \n",
       "3677             1997.02.20-Lebon.pdf   \n",
       "3678             1997.01.03-Lonne.pdf   \n",
       "3679                              NaN   \n",
       "\n",
       "                                           href formula  \\\n",
       "1     http://sharkattackfile.net/spreadsheets/pdf_di...   \n",
       "2     http://sharkattackfile.net/spreadsheets/pdf_di...   \n",
       "3     http://sharkattackfile.net/spreadsheets/pdf_di...   \n",
       "4     http://sharkattackfile.net/spreadsheets/pdf_di...   \n",
       "5     http://sharkattackfile.net/spreadsheets/pdf_di...   \n",
       "...                                                 ...   \n",
       "3675  http://sharkattackfile.net/spreadsheets/pdf_di...   \n",
       "3676  http://sharkattackfile.net/spreadsheets/pdf_di...   \n",
       "3677  http://sharkattackfile.net/spreadsheets/pdf_di...   \n",
       "3678  http://sharkattackfile.net/spreadsheets/pdf_di...   \n",
       "3679                                                NaN   \n",
       "\n",
       "                                                   href Case Number 2  \\\n",
       "1     http://sharkattackfile.net/spreadsheets/pdf_di...  1957.00.00.h   \n",
       "2     http://sharkattackfile.net/spreadsheets/pdf_di...  1956.08.00.c   \n",
       "3     http://sharkattackfile.net/spreadsheets/pdf_di...    1958.08.31   \n",
       "4     http://sharkattackfile.net/spreadsheets/pdf_di...  1959.07.00.b   \n",
       "5     http://sharkattackfile.net/spreadsheets/pdf_di...  1958.00.00.b   \n",
       "...                                                 ...           ...   \n",
       "3675  http://sharkattackfile.net/spreadsheets/pdf_di...  1998.01.25.b   \n",
       "3676  http://sharkattackfile.net/spreadsheets/pdf_di...  1998.00.00.b   \n",
       "3677  http://sharkattackfile.net/spreadsheets/pdf_di...    1997.02.20   \n",
       "3678  http://sharkattackfile.net/spreadsheets/pdf_di...  1997.01.03.a   \n",
       "3679                                                NaN           NaN   \n",
       "\n",
       "     Case Number 3 Original Order  Color Type  \n",
       "1     1957.00.00.h           2094       Boats  \n",
       "2     1956.08.00.c           2066       Boats  \n",
       "3       1958.08.31           2165       Boats  \n",
       "4     1959.07.00.b           2221       Boats  \n",
       "5     1958.00.00.b           2129       Boats  \n",
       "...            ...            ...         ...  \n",
       "3675  1998.01.25.b           4112  Unprovoked  \n",
       "3676  1998.00.00.b           4107  Unprovoked  \n",
       "3677    1997.02.20           4054  Unprovoked  \n",
       "3678  1997.01.03.a           4050  Unprovoked  \n",
       "3679           NaN            NaN         NaN  \n",
       "\n",
       "[3679 rows x 24 columns]"
      ]
     },
     "execution_count": 4,
     "metadata": {},
     "output_type": "execute_result"
    }
   ],
   "source": [
    "df"
   ]
  },
  {
   "cell_type": "markdown",
   "execution_count": null,
   "metadata": {
    "id": "LhoKEh6TIFVi",
    "papermill": {
     "duration": 0.007287,
     "end_time": "2020-08-16T21:56:46.863071",
     "exception": false,
     "start_time": "2020-08-16T21:56:46.855784",
     "status": "completed"
    },
    "tags": []
   },
   "source": [
    "Veo datos faltantes o inconsitentes de tipo y de país"
   ]
  },
  {
   "cell_type": "code",
   "execution_count": 5,
   "metadata": {
    "execution": {
     "iopub.execute_input": "2020-08-16T21:56:46.890036Z",
     "iopub.status.busy": "2020-08-16T21:56:46.889261Z",
     "iopub.status.idle": "2020-08-16T21:56:46.896566Z",
     "shell.execute_reply": "2020-08-16T21:56:46.897149Z"
    },
    "id": "nK3i6AZUIFHn",
    "outputId": "3ba3b545-79c4-47ab-ec73-dec4ee226798",
    "papermill": {
     "duration": 0.026962,
     "end_time": "2020-08-16T21:56:46.897329",
     "exception": false,
     "start_time": "2020-08-16T21:56:46.870367",
     "status": "completed"
    },
    "tags": []
   },
   "outputs": [
    {
     "data": {
      "text/plain": [
       "0.027996738244088066"
      ]
     },
     "execution_count": 5,
     "metadata": {},
     "output_type": "execute_result"
    }
   ],
   "source": [
    "len(df[df['Country'].isin(['UNKNOWN','NORTH ATLANTIC OCEAN','ATLANTIC OCEAN','INDIAN OCEAN','NORTH PACIFIC OCEAN','PACIFIC OCEAN','NORTH SEA','PALAU','PALESTINIAN TERRITORIES','BAY OF BENGAL','MIDATLANTICOCEAN','MID-PACIFCOCEAN','PERSIANGULF','REDSEA/INDIANOCEAN','SAN DOMINGO','SOLOMON ISLANDS/VANUATU','SOUTH ATLANTIC OCEAN','UNKOWN','TURKS & CAICOS','AFRICA','ASIA?','Coast of AFRICA','DIEGO GARCIA','EQUATORIAL GUINEA/CAMEROON','GULF OF ADEN','IRAN/IRAQ','MAYOTTE','MEDITERRANEAN SEA','NORTHERN ARABIAN SEA','RED SEA','SOUTH CHINA SEA','TASMAN SEA','THE BALKANS','WESTERN SAMOA'])])/len(df)"
   ]
  },
  {
   "cell_type": "code",
   "execution_count": 6,
   "metadata": {
    "execution": {
     "iopub.execute_input": "2020-08-16T21:56:46.923291Z",
     "iopub.status.busy": "2020-08-16T21:56:46.922379Z",
     "iopub.status.idle": "2020-08-16T21:56:46.927063Z",
     "shell.execute_reply": "2020-08-16T21:56:46.926172Z"
    },
    "id": "8Rptr5QZIE5r",
    "outputId": "1a8c6c85-ef3b-4e45-85f0-a0806a77945b",
    "papermill": {
     "duration": 0.021906,
     "end_time": "2020-08-16T21:56:46.927237",
     "exception": false,
     "start_time": "2020-08-16T21:56:46.905331",
     "status": "completed"
    },
    "tags": []
   },
   "outputs": [
    {
     "data": {
      "text/plain": [
       "808"
      ]
     },
     "execution_count": 6,
     "metadata": {},
     "output_type": "execute_result"
    }
   ],
   "source": [
    "len(df[df['Color Type'] != df['Type']])"
   ]
  },
  {
   "cell_type": "code",
   "execution_count": 7,
   "metadata": {
    "execution": {
     "iopub.execute_input": "2020-08-16T21:56:46.954575Z",
     "iopub.status.busy": "2020-08-16T21:56:46.953661Z",
     "iopub.status.idle": "2020-08-16T21:56:46.958274Z",
     "shell.execute_reply": "2020-08-16T21:56:46.957620Z"
    },
    "id": "M_4luluFXK23",
    "outputId": "de839717-2f94-4ffb-d55b-33029902699f",
    "papermill": {
     "duration": 0.023178,
     "end_time": "2020-08-16T21:56:46.958403",
     "exception": false,
     "start_time": "2020-08-16T21:56:46.935225",
     "status": "completed"
    },
    "tags": []
   },
   "outputs": [
    {
     "data": {
      "text/plain": [
       "AUSTRALIA           1261\n",
       "USA                  455\n",
       "PAPUA NEW GUINEA     132\n",
       "SOUTH AFRICA         126\n",
       "BAHAMAS              121\n",
       "                    ... \n",
       "FALKLAND ISLANDS       1\n",
       "BAHREIN                1\n",
       "SAN DOMINGO            1\n",
       "ARGENTINA              1\n",
       "THAILAND               1\n",
       "Name: Country, Length: 173, dtype: int64"
      ]
     },
     "execution_count": 7,
     "metadata": {},
     "output_type": "execute_result"
    }
   ],
   "source": [
    "df['Country'].value_counts()"
   ]
  },
  {
   "cell_type": "markdown",
   "execution_count": null,
   "metadata": {
    "id": "FK4hsDxNbOus",
    "papermill": {
     "duration": 0.007497,
     "end_time": "2020-08-16T21:56:46.973832",
     "exception": false,
     "start_time": "2020-08-16T21:56:46.966335",
     "status": "completed"
    },
    "tags": []
   },
   "source": [
    "Trimeo"
   ]
  },
  {
   "cell_type": "code",
   "execution_count": 8,
   "metadata": {
    "execution": {
     "iopub.execute_input": "2020-08-16T21:56:46.999689Z",
     "iopub.status.busy": "2020-08-16T21:56:46.998775Z",
     "iopub.status.idle": "2020-08-16T21:56:47.002263Z",
     "shell.execute_reply": "2020-08-16T21:56:47.001468Z"
    },
    "id": "5XHMgX44bOTO",
    "papermill": {
     "duration": 0.020453,
     "end_time": "2020-08-16T21:56:47.002419",
     "exception": false,
     "start_time": "2020-08-16T21:56:46.981966",
     "status": "completed"
    },
    "tags": []
   },
   "outputs": [],
   "source": [
    "df['Country'] = df['Country'].str.strip()"
   ]
  },
  {
   "cell_type": "markdown",
   "execution_count": null,
   "metadata": {
    "id": "NksQbqtQarZG",
    "papermill": {
     "duration": 0.007913,
     "end_time": "2020-08-16T21:56:47.018431",
     "exception": false,
     "start_time": "2020-08-16T21:56:47.010518",
     "status": "completed"
    },
    "tags": []
   },
   "source": [
    "Empezamos con los reemplazos"
   ]
  },
  {
   "cell_type": "code",
   "execution_count": 9,
   "metadata": {
    "execution": {
     "iopub.execute_input": "2020-08-16T21:56:47.049292Z",
     "iopub.status.busy": "2020-08-16T21:56:47.045267Z",
     "iopub.status.idle": "2020-08-16T21:56:47.061803Z",
     "shell.execute_reply": "2020-08-16T21:56:47.062411Z"
    },
    "id": "7k1tKEb6aq-X",
    "papermill": {
     "duration": 0.036199,
     "end_time": "2020-08-16T21:56:47.062595",
     "exception": false,
     "start_time": "2020-08-16T21:56:47.026396",
     "status": "completed"
    },
    "tags": []
   },
   "outputs": [],
   "source": [
    "countries = { # por clusters del open refine\n",
    "             'RED SEA?': 'RED SEA',\n",
    "             'INDIAN OCEAN?': 'INDIAN OCEAN',\n",
    "             'Sierra Leone': 'SIERRA LEONE',\n",
    "             'Seychelles': 'SEYCHELLES',\n",
    "             'SUDAN?': 'SUDAN',\n",
    "             'Fiji':'FIJI',\n",
    "             'UNITED ARAB EMIRATES (UAE)':'UNITED ARAB EMIRATES',\n",
    "             'ST. MAARTIN':'ST. MARTIN',\n",
    "             # cosas a manopla\n",
    "             'ADMIRALTY ISLANDS':'PAPUA NEW GUINEA',\n",
    "             'ANDAMAN / NICOBAR ISLANDAS':'INDIA',\n",
    "             'ANDAMAN ISLANDS':'INDIA',\n",
    "             'AZORES':'PORTUGAL',\n",
    "             'ENGLAND':'UNITED KINGDOM',\n",
    "             'BRITISH ISLES':'UNITED KINGDOM',\n",
    "             'CEYLON':'SRI LANKA',\n",
    "             'CEYLON (SRI LANKA)':'SRI LANKA',\n",
    "             'COLUMBIA':'COLOMBIA',\n",
    "             'CRETE':'GREECE',\n",
    "             'FALKLAND ISLANDS':'ARGENTINA', # ;)\n",
    "             'GRAND CAYMAN':'CAYMAN ISLANDS',\n",
    "             'IRELAND':'UNITED KINGDOM',\n",
    "             'JAVA':'INDONESIA',\n",
    "             'JOHNSTON ISLAND':'USA',\n",
    "             'MALDIVE ISLANDS':'MALDIVES'\n",
    "             }\n",
    "\n",
    "df = df.copy()\n",
    "df['Country'] = df['Country'].replace(countries)"
   ]
  },
  {
   "cell_type": "markdown",
   "execution_count": null,
   "metadata": {
    "id": "MPw0miiAHmVI",
    "papermill": {
     "duration": 0.008066,
     "end_time": "2020-08-16T21:56:47.078856",
     "exception": false,
     "start_time": "2020-08-16T21:56:47.070790",
     "status": "completed"
    },
    "tags": []
   },
   "source": [
    "A partir de la información provista se necesita conocer:\n",
    "\n",
    "a) La cantidad de incidentes de cada tipo\n",
    "\n",
    "b) La cantidad de incidentes de cada tipo por país"
   ]
  },
  {
   "cell_type": "code",
   "execution_count": 10,
   "metadata": {
    "execution": {
     "iopub.execute_input": "2020-08-16T21:56:47.117174Z",
     "iopub.status.busy": "2020-08-16T21:56:47.116050Z",
     "iopub.status.idle": "2020-08-16T21:56:47.121755Z",
     "shell.execute_reply": "2020-08-16T21:56:47.121062Z"
    },
    "id": "wCPcvgdiHqBX",
    "outputId": "6a3faf14-26f0-465d-f765-5e5745f7604a",
    "papermill": {
     "duration": 0.034447,
     "end_time": "2020-08-16T21:56:47.121890",
     "exception": false,
     "start_time": "2020-08-16T21:56:47.087443",
     "status": "completed"
    },
    "tags": []
   },
   "outputs": [
    {
     "data": {
      "text/html": [
       "<div>\n",
       "<style scoped>\n",
       "    .dataframe tbody tr th:only-of-type {\n",
       "        vertical-align: middle;\n",
       "    }\n",
       "\n",
       "    .dataframe tbody tr th {\n",
       "        vertical-align: top;\n",
       "    }\n",
       "\n",
       "    .dataframe thead th {\n",
       "        text-align: right;\n",
       "    }\n",
       "</style>\n",
       "<table border=\"1\" class=\"dataframe\">\n",
       "  <thead>\n",
       "    <tr style=\"text-align: right;\">\n",
       "      <th></th>\n",
       "      <th>Color Type</th>\n",
       "      <th>Incidentes</th>\n",
       "    </tr>\n",
       "  </thead>\n",
       "  <tbody>\n",
       "    <tr>\n",
       "      <th>5</th>\n",
       "      <td>Unprovoked</td>\n",
       "      <td>2265</td>\n",
       "    </tr>\n",
       "    <tr>\n",
       "      <th>3</th>\n",
       "      <td>Provoked</td>\n",
       "      <td>597</td>\n",
       "    </tr>\n",
       "    <tr>\n",
       "      <th>4</th>\n",
       "      <td>Questionable</td>\n",
       "      <td>567</td>\n",
       "    </tr>\n",
       "    <tr>\n",
       "      <th>0</th>\n",
       "      <td>Air/Sea Disasters</td>\n",
       "      <td>242</td>\n",
       "    </tr>\n",
       "    <tr>\n",
       "      <th>1</th>\n",
       "      <td>Boats</td>\n",
       "      <td>6</td>\n",
       "    </tr>\n",
       "    <tr>\n",
       "      <th>2</th>\n",
       "      <td>Color Type</td>\n",
       "      <td>1</td>\n",
       "    </tr>\n",
       "  </tbody>\n",
       "</table>\n",
       "</div>"
      ],
      "text/plain": [
       "          Color Type  Incidentes\n",
       "5         Unprovoked        2265\n",
       "3           Provoked         597\n",
       "4       Questionable         567\n",
       "0  Air/Sea Disasters         242\n",
       "1              Boats           6\n",
       "2         Color Type           1"
      ]
     },
     "execution_count": 10,
     "metadata": {},
     "output_type": "execute_result"
    }
   ],
   "source": [
    "# Cantidad de Incidentes por Tipo:\n",
    "df.groupby([\"Color Type\"]).size().reset_index(name=\"Incidentes\").sort_values(['Incidentes'], ascending=False)"
   ]
  },
  {
   "cell_type": "code",
   "execution_count": 11,
   "metadata": {
    "execution": {
     "iopub.execute_input": "2020-08-16T21:56:47.148249Z",
     "iopub.status.busy": "2020-08-16T21:56:47.146097Z",
     "iopub.status.idle": "2020-08-16T21:56:47.166595Z",
     "shell.execute_reply": "2020-08-16T21:56:47.165787Z"
    },
    "id": "pSdQejpwJacY",
    "outputId": "09d49a5f-fce0-4c93-8457-458936911dbc",
    "papermill": {
     "duration": 0.036157,
     "end_time": "2020-08-16T21:56:47.166737",
     "exception": false,
     "start_time": "2020-08-16T21:56:47.130580",
     "status": "completed"
    },
    "tags": []
   },
   "outputs": [
    {
     "data": {
      "text/html": [
       "<div>\n",
       "<style scoped>\n",
       "    .dataframe tbody tr th:only-of-type {\n",
       "        vertical-align: middle;\n",
       "    }\n",
       "\n",
       "    .dataframe tbody tr th {\n",
       "        vertical-align: top;\n",
       "    }\n",
       "\n",
       "    .dataframe thead th {\n",
       "        text-align: right;\n",
       "    }\n",
       "</style>\n",
       "<table border=\"1\" class=\"dataframe\">\n",
       "  <thead>\n",
       "    <tr style=\"text-align: right;\">\n",
       "      <th></th>\n",
       "      <th>Country</th>\n",
       "      <th>Color Type</th>\n",
       "      <th>Incidentes</th>\n",
       "    </tr>\n",
       "  </thead>\n",
       "  <tbody>\n",
       "    <tr>\n",
       "      <th>18</th>\n",
       "      <td>AUSTRALIA</td>\n",
       "      <td>Unprovoked</td>\n",
       "      <td>971</td>\n",
       "    </tr>\n",
       "    <tr>\n",
       "      <th>311</th>\n",
       "      <td>USA</td>\n",
       "      <td>Provoked</td>\n",
       "      <td>215</td>\n",
       "    </tr>\n",
       "    <tr>\n",
       "      <th>312</th>\n",
       "      <td>USA</td>\n",
       "      <td>Questionable</td>\n",
       "      <td>203</td>\n",
       "    </tr>\n",
       "    <tr>\n",
       "      <th>16</th>\n",
       "      <td>AUSTRALIA</td>\n",
       "      <td>Provoked</td>\n",
       "      <td>140</td>\n",
       "    </tr>\n",
       "    <tr>\n",
       "      <th>17</th>\n",
       "      <td>AUSTRALIA</td>\n",
       "      <td>Questionable</td>\n",
       "      <td>126</td>\n",
       "    </tr>\n",
       "    <tr>\n",
       "      <th>240</th>\n",
       "      <td>PAPUA NEW GUINEA</td>\n",
       "      <td>Unprovoked</td>\n",
       "      <td>112</td>\n",
       "    </tr>\n",
       "    <tr>\n",
       "      <th>22</th>\n",
       "      <td>BAHAMAS</td>\n",
       "      <td>Unprovoked</td>\n",
       "      <td>95</td>\n",
       "    </tr>\n",
       "    <tr>\n",
       "      <th>37</th>\n",
       "      <td>BRAZIL</td>\n",
       "      <td>Unprovoked</td>\n",
       "      <td>93</td>\n",
       "    </tr>\n",
       "    <tr>\n",
       "      <th>209</th>\n",
       "      <td>NEW ZEALAND</td>\n",
       "      <td>Unprovoked</td>\n",
       "      <td>86</td>\n",
       "    </tr>\n",
       "    <tr>\n",
       "      <th>186</th>\n",
       "      <td>MEXICO</td>\n",
       "      <td>Unprovoked</td>\n",
       "      <td>69</td>\n",
       "    </tr>\n",
       "  </tbody>\n",
       "</table>\n",
       "</div>"
      ],
      "text/plain": [
       "              Country    Color Type  Incidentes\n",
       "18          AUSTRALIA    Unprovoked         971\n",
       "311               USA      Provoked         215\n",
       "312               USA  Questionable         203\n",
       "16          AUSTRALIA      Provoked         140\n",
       "17          AUSTRALIA  Questionable         126\n",
       "240  PAPUA NEW GUINEA    Unprovoked         112\n",
       "22            BAHAMAS    Unprovoked          95\n",
       "37             BRAZIL    Unprovoked          93\n",
       "209       NEW ZEALAND    Unprovoked          86\n",
       "186            MEXICO    Unprovoked          69"
      ]
     },
     "execution_count": 11,
     "metadata": {},
     "output_type": "execute_result"
    }
   ],
   "source": [
    "# Para ver la cantidad de incidentes de cada tipo por país primero generamos una lista de todos los paises\n",
    "# puse un sort para que ponga arriba los casos más frecuentes. Tomamos los primeros 10 \n",
    "df.groupby([\"Country\", \"Color Type\"]).size().reset_index(name=\"Incidentes\").sort_values(['Incidentes'], ascending=False).head(10)"
   ]
  },
  {
   "cell_type": "code",
   "execution_count": null,
   "metadata": {
    "id": "uDclCI8VJx1d",
    "papermill": {
     "duration": 0.008706,
     "end_time": "2020-08-16T21:56:47.184369",
     "exception": false,
     "start_time": "2020-08-16T21:56:47.175663",
     "status": "completed"
    },
    "tags": []
   },
   "outputs": [],
   "source": []
  }
 ],
 "metadata": {
  "kernelspec": {
   "display_name": "Python 3",
   "language": "python",
   "name": "python3"
  },
  "language_info": {
   "codemirror_mode": {
    "name": "ipython",
    "version": 3
   },
   "file_extension": ".py",
   "mimetype": "text/x-python",
   "name": "python",
   "nbconvert_exporter": "python",
   "pygments_lexer": "ipython3",
   "version": "3.7.6"
  },
  "papermill": {
   "duration": 15.774868,
   "end_time": "2020-08-16T21:56:47.302730",
   "environment_variables": {},
   "exception": null,
   "input_path": "__notebook__.ipynb",
   "output_path": "__notebook__.ipynb",
   "parameters": {},
   "start_time": "2020-08-16T21:56:31.527862",
   "version": "2.1.0"
  }
 },
 "nbformat": 4,
 "nbformat_minor": 4
}
