{
 "cells": [
  {
   "cell_type": "markdown",
   "execution_count": null,
   "metadata": {
    "papermill": {
     "duration": 0.025633,
     "end_time": "2020-08-23T19:55:55.068476",
     "exception": false,
     "start_time": "2020-08-23T19:55:55.042843",
     "status": "completed"
    },
    "tags": []
   },
   "source": [
    "# **Aproximación a la Calidad de Datos**\n",
    "Realizado por David Venegas  \n",
    "1er Cuatrimestre a distancia 2020  \n",
    "EXACTAS, UBA  "
   ]
  },
  {
   "cell_type": "markdown",
   "execution_count": null,
   "metadata": {
    "papermill": {
     "duration": 0.019923,
     "end_time": "2020-08-23T19:55:55.108201",
     "exception": false,
     "start_time": "2020-08-23T19:55:55.088278",
     "status": "completed"
    },
    "tags": []
   },
   "source": [
    "Primero necesitaremos la siguiente biblioteca"
   ]
  },
  {
   "cell_type": "code",
   "execution_count": 1,
   "metadata": {
    "execution": {
     "iopub.execute_input": "2020-08-23T19:55:55.155067Z",
     "iopub.status.busy": "2020-08-23T19:55:55.154205Z",
     "iopub.status.idle": "2020-08-23T19:56:08.212283Z",
     "shell.execute_reply": "2020-08-23T19:56:08.211382Z"
    },
    "papermill": {
     "duration": 13.084202,
     "end_time": "2020-08-23T19:56:08.212437",
     "exception": false,
     "start_time": "2020-08-23T19:55:55.128235",
     "status": "completed"
    },
    "tags": []
   },
   "outputs": [
    {
     "name": "stdout",
     "output_type": "stream",
     "text": [
      "Collecting pywaffle\r\n",
      "  Downloading pywaffle-0.6.1-py2.py3-none-any.whl (526 kB)\r\n",
      "\u001b[K     |████████████████████████████████| 526 kB 416 kB/s \r\n",
      "\u001b[?25hRequirement already satisfied: matplotlib in /opt/conda/lib/python3.7/site-packages (from pywaffle) (3.2.1)\r\n",
      "Requirement already satisfied: numpy>=1.11 in /opt/conda/lib/python3.7/site-packages (from matplotlib->pywaffle) (1.18.5)\r\n",
      "Requirement already satisfied: cycler>=0.10 in /opt/conda/lib/python3.7/site-packages (from matplotlib->pywaffle) (0.10.0)\r\n",
      "Requirement already satisfied: kiwisolver>=1.0.1 in /opt/conda/lib/python3.7/site-packages (from matplotlib->pywaffle) (1.2.0)\r\n",
      "Requirement already satisfied: pyparsing!=2.0.4,!=2.1.2,!=2.1.6,>=2.0.1 in /opt/conda/lib/python3.7/site-packages (from matplotlib->pywaffle) (2.4.7)\r\n",
      "Requirement already satisfied: python-dateutil>=2.1 in /opt/conda/lib/python3.7/site-packages (from matplotlib->pywaffle) (2.8.1)\r\n",
      "Requirement already satisfied: six in /opt/conda/lib/python3.7/site-packages (from cycler>=0.10->matplotlib->pywaffle) (1.14.0)\r\n",
      "Installing collected packages: pywaffle\r\n",
      "Successfully installed pywaffle-0.6.1\r\n",
      "\u001b[33mWARNING: You are using pip version 20.2.1; however, version 20.2.2 is available.\r\n",
      "You should consider upgrading via the '/opt/conda/bin/python3.7 -m pip install --upgrade pip' command.\u001b[0m\r\n"
     ]
    }
   ],
   "source": [
    "!pip install pywaffle"
   ]
  },
  {
   "cell_type": "code",
   "execution_count": 2,
   "metadata": {
    "execution": {
     "iopub.execute_input": "2020-08-23T19:56:08.262918Z",
     "iopub.status.busy": "2020-08-23T19:56:08.262120Z",
     "iopub.status.idle": "2020-08-23T19:56:09.442230Z",
     "shell.execute_reply": "2020-08-23T19:56:09.441295Z"
    },
    "papermill": {
     "duration": 1.208183,
     "end_time": "2020-08-23T19:56:09.442388",
     "exception": false,
     "start_time": "2020-08-23T19:56:08.234205",
     "status": "completed"
    },
    "tags": []
   },
   "outputs": [],
   "source": [
    "import numpy as np\n",
    "import pandas as pd\n",
    "import seaborn as sns\n",
    "import matplotlib.pyplot as plt\n",
    "from pywaffle import Waffle"
   ]
  },
  {
   "cell_type": "markdown",
   "execution_count": null,
   "metadata": {
    "papermill": {
     "duration": 0.020985,
     "end_time": "2020-08-23T19:56:09.485427",
     "exception": false,
     "start_time": "2020-08-23T19:56:09.464442",
     "status": "completed"
    },
    "tags": []
   },
   "source": [
    "# Análisis Preliminar\n",
    "Imprimimos los primeros valores del dataset."
   ]
  },
  {
   "cell_type": "code",
   "execution_count": 3,
   "metadata": {
    "execution": {
     "iopub.execute_input": "2020-08-23T19:56:09.544095Z",
     "iopub.status.busy": "2020-08-23T19:56:09.543216Z",
     "iopub.status.idle": "2020-08-23T19:56:10.330066Z",
     "shell.execute_reply": "2020-08-23T19:56:10.330834Z"
    },
    "papermill": {
     "duration": 0.824076,
     "end_time": "2020-08-23T19:56:10.331043",
     "exception": false,
     "start_time": "2020-08-23T19:56:09.506967",
     "status": "completed"
    },
    "tags": []
   },
   "outputs": [
    {
     "name": "stdout",
     "output_type": "stream",
     "text": [
      "El dataset tiene 52053 filas, y 44 columnas\n"
     ]
    },
    {
     "data": {
      "text/html": [
       "<div>\n",
       "<style scoped>\n",
       "    .dataframe tbody tr th:only-of-type {\n",
       "        vertical-align: middle;\n",
       "    }\n",
       "\n",
       "    .dataframe tbody tr th {\n",
       "        vertical-align: top;\n",
       "    }\n",
       "\n",
       "    .dataframe thead th {\n",
       "        text-align: right;\n",
       "    }\n",
       "</style>\n",
       "<table border=\"1\" class=\"dataframe\">\n",
       "  <thead>\n",
       "    <tr style=\"text-align: right;\">\n",
       "      <th></th>\n",
       "      <th>car</th>\n",
       "      <th>car_desc</th>\n",
       "      <th>jur</th>\n",
       "      <th>jur_desc</th>\n",
       "      <th>sjur</th>\n",
       "      <th>sjur_desc</th>\n",
       "      <th>ent</th>\n",
       "      <th>ent_desc</th>\n",
       "      <th>og</th>\n",
       "      <th>eg_desc</th>\n",
       "      <th>...</th>\n",
       "      <th>eco</th>\n",
       "      <th>eco_desc</th>\n",
       "      <th>fte</th>\n",
       "      <th>fte_desc</th>\n",
       "      <th>geo</th>\n",
       "      <th>geo_desc</th>\n",
       "      <th>sancion</th>\n",
       "      <th>vigente</th>\n",
       "      <th>definitivo</th>\n",
       "      <th>devengado</th>\n",
       "    </tr>\n",
       "  </thead>\n",
       "  <tbody>\n",
       "    <tr>\n",
       "      <th>0</th>\n",
       "      <td>1</td>\n",
       "      <td>Administracion Central</td>\n",
       "      <td>1</td>\n",
       "      <td>Legislatura De La Ciudad De Buenos Aires</td>\n",
       "      <td>0</td>\n",
       "      <td>Legislatura De La Ciudad De Buenos Aires</td>\n",
       "      <td>0</td>\n",
       "      <td>Legislatura De La Ciudad De Buenos Aires</td>\n",
       "      <td>1</td>\n",
       "      <td>Legislatura De La Ciudad De Buenos Aires</td>\n",
       "      <td>...</td>\n",
       "      <td>21200000</td>\n",
       "      <td>Remuneraciones Al Personal</td>\n",
       "      <td>11</td>\n",
       "      <td>Tesoro De La Ciudad</td>\n",
       "      <td>1</td>\n",
       "      <td>Comuna 1</td>\n",
       "      <td>958764741</td>\n",
       "      <td>1077764741</td>\n",
       "      <td>6.554030e+08</td>\n",
       "      <td>6.554030e+08</td>\n",
       "    </tr>\n",
       "    <tr>\n",
       "      <th>1</th>\n",
       "      <td>1</td>\n",
       "      <td>Administracion Central</td>\n",
       "      <td>1</td>\n",
       "      <td>Legislatura De La Ciudad De Buenos Aires</td>\n",
       "      <td>0</td>\n",
       "      <td>Legislatura De La Ciudad De Buenos Aires</td>\n",
       "      <td>0</td>\n",
       "      <td>Legislatura De La Ciudad De Buenos Aires</td>\n",
       "      <td>1</td>\n",
       "      <td>Legislatura De La Ciudad De Buenos Aires</td>\n",
       "      <td>...</td>\n",
       "      <td>21200000</td>\n",
       "      <td>Remuneraciones Al Personal</td>\n",
       "      <td>11</td>\n",
       "      <td>Tesoro De La Ciudad</td>\n",
       "      <td>1</td>\n",
       "      <td>Comuna 1</td>\n",
       "      <td>79897062</td>\n",
       "      <td>79897062</td>\n",
       "      <td>3.970436e+07</td>\n",
       "      <td>3.970436e+07</td>\n",
       "    </tr>\n",
       "    <tr>\n",
       "      <th>2</th>\n",
       "      <td>1</td>\n",
       "      <td>Administracion Central</td>\n",
       "      <td>1</td>\n",
       "      <td>Legislatura De La Ciudad De Buenos Aires</td>\n",
       "      <td>0</td>\n",
       "      <td>Legislatura De La Ciudad De Buenos Aires</td>\n",
       "      <td>0</td>\n",
       "      <td>Legislatura De La Ciudad De Buenos Aires</td>\n",
       "      <td>1</td>\n",
       "      <td>Legislatura De La Ciudad De Buenos Aires</td>\n",
       "      <td>...</td>\n",
       "      <td>21200000</td>\n",
       "      <td>Remuneraciones Al Personal</td>\n",
       "      <td>11</td>\n",
       "      <td>Tesoro De La Ciudad</td>\n",
       "      <td>1</td>\n",
       "      <td>Comuna 1</td>\n",
       "      <td>208100268</td>\n",
       "      <td>208100268</td>\n",
       "      <td>1.466619e+08</td>\n",
       "      <td>1.466619e+08</td>\n",
       "    </tr>\n",
       "    <tr>\n",
       "      <th>3</th>\n",
       "      <td>1</td>\n",
       "      <td>Administracion Central</td>\n",
       "      <td>1</td>\n",
       "      <td>Legislatura De La Ciudad De Buenos Aires</td>\n",
       "      <td>0</td>\n",
       "      <td>Legislatura De La Ciudad De Buenos Aires</td>\n",
       "      <td>0</td>\n",
       "      <td>Legislatura De La Ciudad De Buenos Aires</td>\n",
       "      <td>1</td>\n",
       "      <td>Legislatura De La Ciudad De Buenos Aires</td>\n",
       "      <td>...</td>\n",
       "      <td>21200000</td>\n",
       "      <td>Remuneraciones Al Personal</td>\n",
       "      <td>11</td>\n",
       "      <td>Tesoro De La Ciudad</td>\n",
       "      <td>1</td>\n",
       "      <td>Comuna 1</td>\n",
       "      <td>830336506</td>\n",
       "      <td>830336506</td>\n",
       "      <td>5.952491e+08</td>\n",
       "      <td>5.952491e+08</td>\n",
       "    </tr>\n",
       "    <tr>\n",
       "      <th>4</th>\n",
       "      <td>1</td>\n",
       "      <td>Administracion Central</td>\n",
       "      <td>1</td>\n",
       "      <td>Legislatura De La Ciudad De Buenos Aires</td>\n",
       "      <td>0</td>\n",
       "      <td>Legislatura De La Ciudad De Buenos Aires</td>\n",
       "      <td>0</td>\n",
       "      <td>Legislatura De La Ciudad De Buenos Aires</td>\n",
       "      <td>1</td>\n",
       "      <td>Legislatura De La Ciudad De Buenos Aires</td>\n",
       "      <td>...</td>\n",
       "      <td>21200000</td>\n",
       "      <td>Remuneraciones Al Personal</td>\n",
       "      <td>11</td>\n",
       "      <td>Tesoro De La Ciudad</td>\n",
       "      <td>1</td>\n",
       "      <td>Comuna 1</td>\n",
       "      <td>69194709</td>\n",
       "      <td>69194709</td>\n",
       "      <td>3.481410e+07</td>\n",
       "      <td>3.481410e+07</td>\n",
       "    </tr>\n",
       "  </tbody>\n",
       "</table>\n",
       "<p>5 rows × 44 columns</p>\n",
       "</div>"
      ],
      "text/plain": [
       "   car                car_desc  jur                                  jur_desc  \\\n",
       "0    1  Administracion Central    1  Legislatura De La Ciudad De Buenos Aires   \n",
       "1    1  Administracion Central    1  Legislatura De La Ciudad De Buenos Aires   \n",
       "2    1  Administracion Central    1  Legislatura De La Ciudad De Buenos Aires   \n",
       "3    1  Administracion Central    1  Legislatura De La Ciudad De Buenos Aires   \n",
       "4    1  Administracion Central    1  Legislatura De La Ciudad De Buenos Aires   \n",
       "\n",
       "   sjur                                 sjur_desc  ent  \\\n",
       "0     0  Legislatura De La Ciudad De Buenos Aires    0   \n",
       "1     0  Legislatura De La Ciudad De Buenos Aires    0   \n",
       "2     0  Legislatura De La Ciudad De Buenos Aires    0   \n",
       "3     0  Legislatura De La Ciudad De Buenos Aires    0   \n",
       "4     0  Legislatura De La Ciudad De Buenos Aires    0   \n",
       "\n",
       "                                   ent_desc  og  \\\n",
       "0  Legislatura De La Ciudad De Buenos Aires   1   \n",
       "1  Legislatura De La Ciudad De Buenos Aires   1   \n",
       "2  Legislatura De La Ciudad De Buenos Aires   1   \n",
       "3  Legislatura De La Ciudad De Buenos Aires   1   \n",
       "4  Legislatura De La Ciudad De Buenos Aires   1   \n",
       "\n",
       "                                    eg_desc  ...       eco  \\\n",
       "0  Legislatura De La Ciudad De Buenos Aires  ...  21200000   \n",
       "1  Legislatura De La Ciudad De Buenos Aires  ...  21200000   \n",
       "2  Legislatura De La Ciudad De Buenos Aires  ...  21200000   \n",
       "3  Legislatura De La Ciudad De Buenos Aires  ...  21200000   \n",
       "4  Legislatura De La Ciudad De Buenos Aires  ...  21200000   \n",
       "\n",
       "                     eco_desc  fte             fte_desc  geo  geo_desc  \\\n",
       "0  Remuneraciones Al Personal   11  Tesoro De La Ciudad    1  Comuna 1   \n",
       "1  Remuneraciones Al Personal   11  Tesoro De La Ciudad    1  Comuna 1   \n",
       "2  Remuneraciones Al Personal   11  Tesoro De La Ciudad    1  Comuna 1   \n",
       "3  Remuneraciones Al Personal   11  Tesoro De La Ciudad    1  Comuna 1   \n",
       "4  Remuneraciones Al Personal   11  Tesoro De La Ciudad    1  Comuna 1   \n",
       "\n",
       "     sancion     vigente    definitivo     devengado  \n",
       "0  958764741  1077764741  6.554030e+08  6.554030e+08  \n",
       "1   79897062    79897062  3.970436e+07  3.970436e+07  \n",
       "2  208100268   208100268  1.466619e+08  1.466619e+08  \n",
       "3  830336506   830336506  5.952491e+08  5.952491e+08  \n",
       "4   69194709    69194709  3.481410e+07  3.481410e+07  \n",
       "\n",
       "[5 rows x 44 columns]"
      ]
     },
     "execution_count": 3,
     "metadata": {},
     "output_type": "execute_result"
    }
   ],
   "source": [
    "df_presupuesto = pd.read_csv(\"../input/presupuesto-ejecutado-caba-2018-3er-trimestre/presupuesto-ejecutado-2018-tercer-trimestre.csv\")\n",
    "print('El dataset tiene ' + str(df_presupuesto.shape[0]) + ' filas, y ' + str(df_presupuesto.shape[1]) + ' columnas')\n",
    "df_presupuesto.head()"
   ]
  },
  {
   "cell_type": "markdown",
   "execution_count": null,
   "metadata": {
    "papermill": {
     "duration": 0.022126,
     "end_time": "2020-08-23T19:56:10.375068",
     "exception": false,
     "start_time": "2020-08-23T19:56:10.352942",
     "status": "completed"
    },
    "tags": []
   },
   "source": [
    "# Consistencia\n",
    "Revisamos para cada variable que datos faltan o mejor dicho cuantos datos NULL existen. En la próxima tabla podemos apreciar que no faltan datos."
   ]
  },
  {
   "cell_type": "code",
   "execution_count": 4,
   "metadata": {
    "execution": {
     "iopub.execute_input": "2020-08-23T19:56:10.425214Z",
     "iopub.status.busy": "2020-08-23T19:56:10.424350Z",
     "iopub.status.idle": "2020-08-23T19:56:10.572625Z",
     "shell.execute_reply": "2020-08-23T19:56:10.571945Z"
    },
    "papermill": {
     "duration": 0.175608,
     "end_time": "2020-08-23T19:56:10.572783",
     "exception": false,
     "start_time": "2020-08-23T19:56:10.397175",
     "status": "completed"
    },
    "tags": []
   },
   "outputs": [
    {
     "data": {
      "text/plain": [
       "car           True\n",
       "car_desc      True\n",
       "jur           True\n",
       "jur_desc      True\n",
       "sjur          True\n",
       "sjur_desc     True\n",
       "ent           True\n",
       "ent_desc      True\n",
       "og            True\n",
       "eg_desc       True\n",
       "ue            True\n",
       "ue_desc       True\n",
       "prog          True\n",
       "prog_desc     True\n",
       "sprog         True\n",
       "sprog_desc    True\n",
       "proy          True\n",
       "proy_desc     True\n",
       "actividad     True\n",
       "act_desc      True\n",
       "ob            True\n",
       "ob_desc       True\n",
       "fin           True\n",
       "fin_desc      True\n",
       "fun           True\n",
       "fun_desc      True\n",
       "inc           True\n",
       "inc_desc      True\n",
       "ppal          True\n",
       "ppal_desc     True\n",
       "par           True\n",
       "par_desc      True\n",
       "spar          True\n",
       "spar_desc     True\n",
       "eco           True\n",
       "eco_desc      True\n",
       "fte           True\n",
       "fte_desc      True\n",
       "geo           True\n",
       "geo_desc      True\n",
       "sancion       True\n",
       "vigente       True\n",
       "definitivo    True\n",
       "devengado     True\n",
       "dtype: bool"
      ]
     },
     "execution_count": 4,
     "metadata": {},
     "output_type": "execute_result"
    }
   ],
   "source": [
    "df_presupuesto.isnull().sum() == 0"
   ]
  },
  {
   "cell_type": "markdown",
   "execution_count": null,
   "metadata": {
    "papermill": {
     "duration": 0.022186,
     "end_time": "2020-08-23T19:56:10.617903",
     "exception": false,
     "start_time": "2020-08-23T19:56:10.595717",
     "status": "completed"
    },
    "tags": []
   },
   "source": [
    "## Descripción Numérica\n",
    "Ahora calculamos la media de cada variable numérica, su desviación estandar, mediana, mínimo y máximo. "
   ]
  },
  {
   "cell_type": "code",
   "execution_count": 5,
   "metadata": {
    "execution": {
     "iopub.execute_input": "2020-08-23T19:56:10.673695Z",
     "iopub.status.busy": "2020-08-23T19:56:10.672625Z",
     "iopub.status.idle": "2020-08-23T19:56:10.677865Z",
     "shell.execute_reply": "2020-08-23T19:56:10.677095Z"
    },
    "papermill": {
     "duration": 0.037237,
     "end_time": "2020-08-23T19:56:10.678010",
     "exception": false,
     "start_time": "2020-08-23T19:56:10.640773",
     "status": "completed"
    },
    "tags": []
   },
   "outputs": [
    {
     "data": {
      "text/plain": [
       "car             int64\n",
       "car_desc       object\n",
       "jur             int64\n",
       "jur_desc       object\n",
       "sjur            int64\n",
       "sjur_desc      object\n",
       "ent             int64\n",
       "ent_desc       object\n",
       "og              int64\n",
       "eg_desc        object\n",
       "ue              int64\n",
       "ue_desc        object\n",
       "prog            int64\n",
       "prog_desc      object\n",
       "sprog           int64\n",
       "sprog_desc     object\n",
       "proy            int64\n",
       "proy_desc      object\n",
       "actividad       int64\n",
       "act_desc       object\n",
       "ob              int64\n",
       "ob_desc        object\n",
       "fin             int64\n",
       "fin_desc       object\n",
       "fun             int64\n",
       "fun_desc       object\n",
       "inc             int64\n",
       "inc_desc       object\n",
       "ppal            int64\n",
       "ppal_desc      object\n",
       "par             int64\n",
       "par_desc       object\n",
       "spar            int64\n",
       "spar_desc      object\n",
       "eco             int64\n",
       "eco_desc       object\n",
       "fte             int64\n",
       "fte_desc       object\n",
       "geo             int64\n",
       "geo_desc       object\n",
       "sancion         int64\n",
       "vigente         int64\n",
       "definitivo    float64\n",
       "devengado     float64\n",
       "dtype: object"
      ]
     },
     "execution_count": 5,
     "metadata": {},
     "output_type": "execute_result"
    }
   ],
   "source": [
    "#Revisamos los tipos de cada columna\n",
    "df_presupuesto.dtypes"
   ]
  },
  {
   "cell_type": "code",
   "execution_count": 6,
   "metadata": {
    "execution": {
     "iopub.execute_input": "2020-08-23T19:56:10.743672Z",
     "iopub.status.busy": "2020-08-23T19:56:10.742690Z",
     "iopub.status.idle": "2020-08-23T19:56:10.805226Z",
     "shell.execute_reply": "2020-08-23T19:56:10.804368Z"
    },
    "papermill": {
     "duration": 0.104892,
     "end_time": "2020-08-23T19:56:10.805373",
     "exception": false,
     "start_time": "2020-08-23T19:56:10.700481",
     "status": "completed"
    },
    "tags": []
   },
   "outputs": [],
   "source": [
    "#Convertimos las variebles numéricas que son códigos a categóricas\n",
    "df_presupuesto['car'] = df_presupuesto.car.astype('category')\n",
    "df_presupuesto['jur'] = df_presupuesto.jur.astype('category')\n",
    "df_presupuesto['sjur'] = df_presupuesto.sjur.astype('category')\n",
    "df_presupuesto['og'] = df_presupuesto.og.astype('category')\n",
    "df_presupuesto['ue'] = df_presupuesto.ue.astype('category')\n",
    "df_presupuesto['prog'] = df_presupuesto.prog.astype('category')\n",
    "df_presupuesto['sprog'] = df_presupuesto.sprog.astype('category')\n",
    "df_presupuesto['proy'] = df_presupuesto.proy.astype('category')\n",
    "df_presupuesto['actividad'] = df_presupuesto.actividad.astype('category')\n",
    "df_presupuesto['ob'] = df_presupuesto.ob.astype('category')\n",
    "df_presupuesto['fin'] = df_presupuesto.fin.astype('category')\n",
    "df_presupuesto['fun'] = df_presupuesto.fun.astype('category')\n",
    "df_presupuesto['inc'] = df_presupuesto.inc.astype('category')\n",
    "df_presupuesto['ppal'] = df_presupuesto.ppal.astype('category')\n",
    "df_presupuesto['par'] = df_presupuesto.par.astype('category')\n",
    "df_presupuesto['spar'] = df_presupuesto.spar.astype('category')\n",
    "df_presupuesto['eco'] = df_presupuesto.eco.astype('category')\n",
    "df_presupuesto['fte'] = df_presupuesto.fte.astype('category')\n",
    "df_presupuesto['geo'] = df_presupuesto.geo.astype('category')\n",
    "df_presupuesto['fin'] = df_presupuesto.fin.astype('category')\n",
    "df_presupuesto['ent'] = df_presupuesto.ent.astype('category')"
   ]
  },
  {
   "cell_type": "code",
   "execution_count": 7,
   "metadata": {
    "execution": {
     "iopub.execute_input": "2020-08-23T19:56:10.872400Z",
     "iopub.status.busy": "2020-08-23T19:56:10.871116Z",
     "iopub.status.idle": "2020-08-23T19:56:10.905403Z",
     "shell.execute_reply": "2020-08-23T19:56:10.904590Z"
    },
    "papermill": {
     "duration": 0.077379,
     "end_time": "2020-08-23T19:56:10.905547",
     "exception": false,
     "start_time": "2020-08-23T19:56:10.828168",
     "status": "completed"
    },
    "tags": []
   },
   "outputs": [
    {
     "data": {
      "text/html": [
       "<div>\n",
       "<style scoped>\n",
       "    .dataframe tbody tr th:only-of-type {\n",
       "        vertical-align: middle;\n",
       "    }\n",
       "\n",
       "    .dataframe tbody tr th {\n",
       "        vertical-align: top;\n",
       "    }\n",
       "\n",
       "    .dataframe thead th {\n",
       "        text-align: right;\n",
       "    }\n",
       "</style>\n",
       "<table border=\"1\" class=\"dataframe\">\n",
       "  <thead>\n",
       "    <tr style=\"text-align: right;\">\n",
       "      <th></th>\n",
       "      <th>sancion</th>\n",
       "      <th>vigente</th>\n",
       "      <th>definitivo</th>\n",
       "      <th>devengado</th>\n",
       "    </tr>\n",
       "  </thead>\n",
       "  <tbody>\n",
       "    <tr>\n",
       "      <th>count</th>\n",
       "      <td>5.205300e+04</td>\n",
       "      <td>5.205300e+04</td>\n",
       "      <td>5.205300e+04</td>\n",
       "      <td>5.205300e+04</td>\n",
       "    </tr>\n",
       "    <tr>\n",
       "      <th>mean</th>\n",
       "      <td>4.280371e+06</td>\n",
       "      <td>4.831267e+06</td>\n",
       "      <td>3.399354e+06</td>\n",
       "      <td>3.133693e+06</td>\n",
       "    </tr>\n",
       "    <tr>\n",
       "      <th>std</th>\n",
       "      <td>4.165309e+07</td>\n",
       "      <td>8.166233e+07</td>\n",
       "      <td>6.868158e+07</td>\n",
       "      <td>6.829328e+07</td>\n",
       "    </tr>\n",
       "    <tr>\n",
       "      <th>min</th>\n",
       "      <td>0.000000e+00</td>\n",
       "      <td>0.000000e+00</td>\n",
       "      <td>0.000000e+00</td>\n",
       "      <td>0.000000e+00</td>\n",
       "    </tr>\n",
       "    <tr>\n",
       "      <th>25%</th>\n",
       "      <td>0.000000e+00</td>\n",
       "      <td>5.000000e+03</td>\n",
       "      <td>0.000000e+00</td>\n",
       "      <td>0.000000e+00</td>\n",
       "    </tr>\n",
       "    <tr>\n",
       "      <th>50%</th>\n",
       "      <td>2.700000e+04</td>\n",
       "      <td>7.209100e+04</td>\n",
       "      <td>1.870000e+04</td>\n",
       "      <td>1.455198e+04</td>\n",
       "    </tr>\n",
       "    <tr>\n",
       "      <th>75%</th>\n",
       "      <td>4.622310e+05</td>\n",
       "      <td>7.807920e+05</td>\n",
       "      <td>3.979640e+05</td>\n",
       "      <td>3.417903e+05</td>\n",
       "    </tr>\n",
       "    <tr>\n",
       "      <th>max</th>\n",
       "      <td>4.008702e+09</td>\n",
       "      <td>1.217582e+10</td>\n",
       "      <td>1.217582e+10</td>\n",
       "      <td>1.217582e+10</td>\n",
       "    </tr>\n",
       "  </tbody>\n",
       "</table>\n",
       "</div>"
      ],
      "text/plain": [
       "            sancion       vigente    definitivo     devengado\n",
       "count  5.205300e+04  5.205300e+04  5.205300e+04  5.205300e+04\n",
       "mean   4.280371e+06  4.831267e+06  3.399354e+06  3.133693e+06\n",
       "std    4.165309e+07  8.166233e+07  6.868158e+07  6.829328e+07\n",
       "min    0.000000e+00  0.000000e+00  0.000000e+00  0.000000e+00\n",
       "25%    0.000000e+00  5.000000e+03  0.000000e+00  0.000000e+00\n",
       "50%    2.700000e+04  7.209100e+04  1.870000e+04  1.455198e+04\n",
       "75%    4.622310e+05  7.807920e+05  3.979640e+05  3.417903e+05\n",
       "max    4.008702e+09  1.217582e+10  1.217582e+10  1.217582e+10"
      ]
     },
     "execution_count": 7,
     "metadata": {},
     "output_type": "execute_result"
    }
   ],
   "source": [
    "df_presupuesto.describe()"
   ]
  },
  {
   "cell_type": "markdown",
   "execution_count": null,
   "metadata": {
    "papermill": {
     "duration": 0.022458,
     "end_time": "2020-08-23T19:56:10.950631",
     "exception": false,
     "start_time": "2020-08-23T19:56:10.928173",
     "status": "completed"
    },
    "tags": []
   },
   "source": [
    "## Análisis Descriptivo"
   ]
  },
  {
   "cell_type": "markdown",
   "execution_count": null,
   "metadata": {
    "papermill": {
     "duration": 0.022364,
     "end_time": "2020-08-23T19:56:10.995949",
     "exception": false,
     "start_time": "2020-08-23T19:56:10.973585",
     "status": "completed"
    },
    "tags": []
   },
   "source": [
    "Calculamos la cantidad de valores únicos por variable categórica"
   ]
  },
  {
   "cell_type": "code",
   "execution_count": 8,
   "metadata": {
    "execution": {
     "iopub.execute_input": "2020-08-23T19:56:11.066968Z",
     "iopub.status.busy": "2020-08-23T19:56:11.062063Z",
     "iopub.status.idle": "2020-08-23T19:56:11.223711Z",
     "shell.execute_reply": "2020-08-23T19:56:11.222836Z"
    },
    "papermill": {
     "duration": 0.20118,
     "end_time": "2020-08-23T19:56:11.223849",
     "exception": false,
     "start_time": "2020-08-23T19:56:11.022669",
     "status": "completed"
    },
    "tags": []
   },
   "outputs": [],
   "source": [
    "df_unique = df_presupuesto.select_dtypes(['object']).nunique().to_frame().reset_index()\n",
    "df_unique.columns = ['Variable','Cantidad de Valores Unicos']"
   ]
  },
  {
   "cell_type": "code",
   "execution_count": 9,
   "metadata": {
    "execution": {
     "iopub.execute_input": "2020-08-23T19:56:11.283427Z",
     "iopub.status.busy": "2020-08-23T19:56:11.282457Z",
     "iopub.status.idle": "2020-08-23T19:56:11.288432Z",
     "shell.execute_reply": "2020-08-23T19:56:11.287713Z"
    },
    "papermill": {
     "duration": 0.041892,
     "end_time": "2020-08-23T19:56:11.288584",
     "exception": false,
     "start_time": "2020-08-23T19:56:11.246692",
     "status": "completed"
    },
    "tags": []
   },
   "outputs": [
    {
     "data": {
      "text/html": [
       "<div>\n",
       "<style scoped>\n",
       "    .dataframe tbody tr th:only-of-type {\n",
       "        vertical-align: middle;\n",
       "    }\n",
       "\n",
       "    .dataframe tbody tr th {\n",
       "        vertical-align: top;\n",
       "    }\n",
       "\n",
       "    .dataframe thead th {\n",
       "        text-align: right;\n",
       "    }\n",
       "</style>\n",
       "<table border=\"1\" class=\"dataframe\">\n",
       "  <thead>\n",
       "    <tr style=\"text-align: right;\">\n",
       "      <th></th>\n",
       "      <th>Variable</th>\n",
       "      <th>Cantidad de Valores Unicos</th>\n",
       "    </tr>\n",
       "  </thead>\n",
       "  <tbody>\n",
       "    <tr>\n",
       "      <th>0</th>\n",
       "      <td>car_desc</td>\n",
       "      <td>2</td>\n",
       "    </tr>\n",
       "    <tr>\n",
       "      <th>1</th>\n",
       "      <td>jur_desc</td>\n",
       "      <td>22</td>\n",
       "    </tr>\n",
       "    <tr>\n",
       "      <th>2</th>\n",
       "      <td>sjur_desc</td>\n",
       "      <td>29</td>\n",
       "    </tr>\n",
       "    <tr>\n",
       "      <th>3</th>\n",
       "      <td>ent_desc</td>\n",
       "      <td>59</td>\n",
       "    </tr>\n",
       "    <tr>\n",
       "      <th>4</th>\n",
       "      <td>eg_desc</td>\n",
       "      <td>59</td>\n",
       "    </tr>\n",
       "    <tr>\n",
       "      <th>5</th>\n",
       "      <td>ue_desc</td>\n",
       "      <td>345</td>\n",
       "    </tr>\n",
       "    <tr>\n",
       "      <th>6</th>\n",
       "      <td>prog_desc</td>\n",
       "      <td>513</td>\n",
       "    </tr>\n",
       "    <tr>\n",
       "      <th>7</th>\n",
       "      <td>sprog_desc</td>\n",
       "      <td>556</td>\n",
       "    </tr>\n",
       "    <tr>\n",
       "      <th>8</th>\n",
       "      <td>proy_desc</td>\n",
       "      <td>808</td>\n",
       "    </tr>\n",
       "    <tr>\n",
       "      <th>9</th>\n",
       "      <td>act_desc</td>\n",
       "      <td>1677</td>\n",
       "    </tr>\n",
       "    <tr>\n",
       "      <th>10</th>\n",
       "      <td>ob_desc</td>\n",
       "      <td>2191</td>\n",
       "    </tr>\n",
       "    <tr>\n",
       "      <th>11</th>\n",
       "      <td>fin_desc</td>\n",
       "      <td>5</td>\n",
       "    </tr>\n",
       "    <tr>\n",
       "      <th>12</th>\n",
       "      <td>fun_desc</td>\n",
       "      <td>20</td>\n",
       "    </tr>\n",
       "    <tr>\n",
       "      <th>13</th>\n",
       "      <td>inc_desc</td>\n",
       "      <td>8</td>\n",
       "    </tr>\n",
       "    <tr>\n",
       "      <th>14</th>\n",
       "      <td>ppal_desc</td>\n",
       "      <td>49</td>\n",
       "    </tr>\n",
       "    <tr>\n",
       "      <th>15</th>\n",
       "      <td>par_desc</td>\n",
       "      <td>173</td>\n",
       "    </tr>\n",
       "    <tr>\n",
       "      <th>16</th>\n",
       "      <td>spar_desc</td>\n",
       "      <td>367</td>\n",
       "    </tr>\n",
       "    <tr>\n",
       "      <th>17</th>\n",
       "      <td>eco_desc</td>\n",
       "      <td>23</td>\n",
       "    </tr>\n",
       "    <tr>\n",
       "      <th>18</th>\n",
       "      <td>fte_desc</td>\n",
       "      <td>7</td>\n",
       "    </tr>\n",
       "    <tr>\n",
       "      <th>19</th>\n",
       "      <td>geo_desc</td>\n",
       "      <td>16</td>\n",
       "    </tr>\n",
       "  </tbody>\n",
       "</table>\n",
       "</div>"
      ],
      "text/plain": [
       "      Variable  Cantidad de Valores Unicos\n",
       "0     car_desc                           2\n",
       "1     jur_desc                          22\n",
       "2    sjur_desc                          29\n",
       "3     ent_desc                          59\n",
       "4      eg_desc                          59\n",
       "5      ue_desc                         345\n",
       "6    prog_desc                         513\n",
       "7   sprog_desc                         556\n",
       "8    proy_desc                         808\n",
       "9     act_desc                        1677\n",
       "10     ob_desc                        2191\n",
       "11    fin_desc                           5\n",
       "12    fun_desc                          20\n",
       "13    inc_desc                           8\n",
       "14   ppal_desc                          49\n",
       "15    par_desc                         173\n",
       "16   spar_desc                         367\n",
       "17    eco_desc                          23\n",
       "18    fte_desc                           7\n",
       "19    geo_desc                          16"
      ]
     },
     "execution_count": 9,
     "metadata": {},
     "output_type": "execute_result"
    }
   ],
   "source": [
    "df_unique"
   ]
  },
  {
   "cell_type": "markdown",
   "execution_count": null,
   "metadata": {
    "papermill": {
     "duration": 0.023576,
     "end_time": "2020-08-23T19:56:11.336350",
     "exception": false,
     "start_time": "2020-08-23T19:56:11.312774",
     "status": "completed"
    },
    "tags": []
   },
   "source": [
    "Vemos algunos datos relevantes de todas las variables "
   ]
  },
  {
   "cell_type": "code",
   "execution_count": 10,
   "metadata": {
    "execution": {
     "iopub.execute_input": "2020-08-23T19:56:11.405676Z",
     "iopub.status.busy": "2020-08-23T19:56:11.404786Z",
     "iopub.status.idle": "2020-08-23T19:56:11.887421Z",
     "shell.execute_reply": "2020-08-23T19:56:11.886726Z"
    },
    "papermill": {
     "duration": 0.527224,
     "end_time": "2020-08-23T19:56:11.887571",
     "exception": false,
     "start_time": "2020-08-23T19:56:11.360347",
     "status": "completed"
    },
    "scrolled": false,
    "tags": []
   },
   "outputs": [
    {
     "data": {
      "text/html": [
       "<div>\n",
       "<style scoped>\n",
       "    .dataframe tbody tr th:only-of-type {\n",
       "        vertical-align: middle;\n",
       "    }\n",
       "\n",
       "    .dataframe tbody tr th {\n",
       "        vertical-align: top;\n",
       "    }\n",
       "\n",
       "    .dataframe thead th {\n",
       "        text-align: right;\n",
       "    }\n",
       "</style>\n",
       "<table border=\"1\" class=\"dataframe\">\n",
       "  <thead>\n",
       "    <tr style=\"text-align: right;\">\n",
       "      <th></th>\n",
       "      <th>car_desc</th>\n",
       "      <th>jur_desc</th>\n",
       "      <th>sjur_desc</th>\n",
       "      <th>ent_desc</th>\n",
       "      <th>eg_desc</th>\n",
       "      <th>ue_desc</th>\n",
       "      <th>prog_desc</th>\n",
       "      <th>sprog_desc</th>\n",
       "      <th>proy_desc</th>\n",
       "      <th>act_desc</th>\n",
       "      <th>ob_desc</th>\n",
       "      <th>fin_desc</th>\n",
       "      <th>fun_desc</th>\n",
       "      <th>inc_desc</th>\n",
       "      <th>ppal_desc</th>\n",
       "      <th>par_desc</th>\n",
       "      <th>spar_desc</th>\n",
       "      <th>eco_desc</th>\n",
       "      <th>fte_desc</th>\n",
       "      <th>geo_desc</th>\n",
       "    </tr>\n",
       "  </thead>\n",
       "  <tbody>\n",
       "    <tr>\n",
       "      <th>count</th>\n",
       "      <td>52053</td>\n",
       "      <td>52053</td>\n",
       "      <td>52053</td>\n",
       "      <td>52053</td>\n",
       "      <td>52053</td>\n",
       "      <td>52053</td>\n",
       "      <td>52053</td>\n",
       "      <td>52053</td>\n",
       "      <td>52053</td>\n",
       "      <td>52053</td>\n",
       "      <td>52053</td>\n",
       "      <td>52053</td>\n",
       "      <td>52053</td>\n",
       "      <td>52053</td>\n",
       "      <td>52053</td>\n",
       "      <td>52053</td>\n",
       "      <td>52053</td>\n",
       "      <td>52053</td>\n",
       "      <td>52053</td>\n",
       "      <td>52053</td>\n",
       "    </tr>\n",
       "    <tr>\n",
       "      <th>unique</th>\n",
       "      <td>2</td>\n",
       "      <td>22</td>\n",
       "      <td>29</td>\n",
       "      <td>59</td>\n",
       "      <td>59</td>\n",
       "      <td>345</td>\n",
       "      <td>513</td>\n",
       "      <td>556</td>\n",
       "      <td>808</td>\n",
       "      <td>1677</td>\n",
       "      <td>2191</td>\n",
       "      <td>5</td>\n",
       "      <td>20</td>\n",
       "      <td>8</td>\n",
       "      <td>49</td>\n",
       "      <td>173</td>\n",
       "      <td>367</td>\n",
       "      <td>23</td>\n",
       "      <td>7</td>\n",
       "      <td>16</td>\n",
       "    </tr>\n",
       "    <tr>\n",
       "      <th>top</th>\n",
       "      <td>Administracion Central</td>\n",
       "      <td>Ministerio De Educación E Innovación</td>\n",
       "      <td>Ministerio De Educación E Innovación</td>\n",
       "      <td>Ministerio De Educación E Innovación</td>\n",
       "      <td>Ministerio De Educación E Innovación</td>\n",
       "      <td>Dir. Gral De Educacion De Gestion Estatal</td>\n",
       "      <td>Atención Médica General En Hospitales De Agudos</td>\n",
       "      <td>Educacion Primaria</td>\n",
       "      <td>Educacion Primaria</td>\n",
       "      <td>Administración Y Servicios Generales</td>\n",
       "      <td>Administración Y Servicios Generales</td>\n",
       "      <td>Servicios Sociales</td>\n",
       "      <td>Dirección Ejecutiva</td>\n",
       "      <td>Gastos En Personal</td>\n",
       "      <td>Personal Permanente</td>\n",
       "      <td>Otros No Especificados Precedentemente</td>\n",
       "      <td>Otros No Especificados Precedentemente</td>\n",
       "      <td>Remuneraciones Al Personal</td>\n",
       "      <td>Tesoro De La Ciudad</td>\n",
       "      <td>Comuna 1</td>\n",
       "    </tr>\n",
       "    <tr>\n",
       "      <th>freq</th>\n",
       "      <td>43287</td>\n",
       "      <td>8078</td>\n",
       "      <td>8078</td>\n",
       "      <td>8078</td>\n",
       "      <td>8078</td>\n",
       "      <td>3943</td>\n",
       "      <td>2042</td>\n",
       "      <td>1285</td>\n",
       "      <td>1285</td>\n",
       "      <td>5552</td>\n",
       "      <td>5552</td>\n",
       "      <td>25106</td>\n",
       "      <td>8045</td>\n",
       "      <td>17258</td>\n",
       "      <td>7026</td>\n",
       "      <td>5287</td>\n",
       "      <td>5287</td>\n",
       "      <td>17258</td>\n",
       "      <td>45841</td>\n",
       "      <td>19622</td>\n",
       "    </tr>\n",
       "  </tbody>\n",
       "</table>\n",
       "</div>"
      ],
      "text/plain": [
       "                      car_desc                              jur_desc  \\\n",
       "count                    52053                                 52053   \n",
       "unique                       2                                    22   \n",
       "top     Administracion Central  Ministerio De Educación E Innovación   \n",
       "freq                     43287                                  8078   \n",
       "\n",
       "                                   sjur_desc  \\\n",
       "count                                  52053   \n",
       "unique                                    29   \n",
       "top     Ministerio De Educación E Innovación   \n",
       "freq                                    8078   \n",
       "\n",
       "                                    ent_desc  \\\n",
       "count                                  52053   \n",
       "unique                                    59   \n",
       "top     Ministerio De Educación E Innovación   \n",
       "freq                                    8078   \n",
       "\n",
       "                                     eg_desc  \\\n",
       "count                                  52053   \n",
       "unique                                    59   \n",
       "top     Ministerio De Educación E Innovación   \n",
       "freq                                    8078   \n",
       "\n",
       "                                          ue_desc  \\\n",
       "count                                       52053   \n",
       "unique                                        345   \n",
       "top     Dir. Gral De Educacion De Gestion Estatal   \n",
       "freq                                         3943   \n",
       "\n",
       "                                              prog_desc          sprog_desc  \\\n",
       "count                                             52053               52053   \n",
       "unique                                              513                 556   \n",
       "top     Atención Médica General En Hospitales De Agudos  Educacion Primaria   \n",
       "freq                                               2042                1285   \n",
       "\n",
       "                 proy_desc                              act_desc  \\\n",
       "count                52053                                 52053   \n",
       "unique                 808                                  1677   \n",
       "top     Educacion Primaria  Administración Y Servicios Generales   \n",
       "freq                  1285                                  5552   \n",
       "\n",
       "                                     ob_desc            fin_desc  \\\n",
       "count                                  52053               52053   \n",
       "unique                                  2191                   5   \n",
       "top     Administración Y Servicios Generales  Servicios Sociales   \n",
       "freq                                    5552               25106   \n",
       "\n",
       "                   fun_desc            inc_desc            ppal_desc  \\\n",
       "count                 52053               52053                52053   \n",
       "unique                   20                   8                   49   \n",
       "top     Dirección Ejecutiva  Gastos En Personal  Personal Permanente   \n",
       "freq                   8045               17258                 7026   \n",
       "\n",
       "                                      par_desc  \\\n",
       "count                                    52053   \n",
       "unique                                     173   \n",
       "top     Otros No Especificados Precedentemente   \n",
       "freq                                      5287   \n",
       "\n",
       "                                     spar_desc                    eco_desc  \\\n",
       "count                                    52053                       52053   \n",
       "unique                                     367                          23   \n",
       "top     Otros No Especificados Precedentemente  Remuneraciones Al Personal   \n",
       "freq                                      5287                       17258   \n",
       "\n",
       "                   fte_desc  geo_desc  \n",
       "count                 52053     52053  \n",
       "unique                    7        16  \n",
       "top     Tesoro De La Ciudad  Comuna 1  \n",
       "freq                  45841     19622  "
      ]
     },
     "execution_count": 10,
     "metadata": {},
     "output_type": "execute_result"
    }
   ],
   "source": [
    "df_presupuesto.describe(include=object)"
   ]
  },
  {
   "cell_type": "markdown",
   "execution_count": null,
   "metadata": {
    "papermill": {
     "duration": 0.023538,
     "end_time": "2020-08-23T19:56:11.935551",
     "exception": false,
     "start_time": "2020-08-23T19:56:11.912013",
     "status": "completed"
    },
    "tags": []
   },
   "source": [
    "## CARACTER\n",
    "Graficamos la frecuencia de la variable usando pyWaffle"
   ]
  },
  {
   "cell_type": "code",
   "execution_count": 11,
   "metadata": {
    "execution": {
     "iopub.execute_input": "2020-08-23T19:56:12.014271Z",
     "iopub.status.busy": "2020-08-23T19:56:12.005286Z",
     "iopub.status.idle": "2020-08-23T19:56:12.560623Z",
     "shell.execute_reply": "2020-08-23T19:56:12.559776Z"
    },
    "papermill": {
     "duration": 0.599591,
     "end_time": "2020-08-23T19:56:12.560765",
     "exception": false,
     "start_time": "2020-08-23T19:56:11.961174",
     "status": "completed"
    },
    "tags": []
   },
   "outputs": [
    {
     "data": {
      "image/png": "[encoded data removed]",
      "text/plain": [
       "<Waffle size 504x360 with 1 Axes>"
      ]
     },
     "metadata": {
      "needs_background": "light"
     },
     "output_type": "display_data"
    }
   ],
   "source": [
    "df = df_presupuesto\n",
    "calculated = df.car_desc.value_counts()\n",
    "data = calculated.to_dict()\n",
    "\n",
    "fig = plt.figure(\n",
    "    FigureClass=Waffle,\n",
    "    figsize = [7,5],\n",
    "    rows=5,\n",
    "    columns=20,\n",
    "    values=data,\n",
    "    plot_anchor='N',\n",
    "    tight_layout= False,\n",
    "    title={\n",
    "        'label': 'Frecuencia Car_desc',\n",
    "        'loc': 'center',\n",
    "        'fontdict': {\n",
    "            'fontsize': 20\n",
    "        }\n",
    "    },\n",
    "    labels=[f\"{k} ({int(v / sum(data.values()) * 100)}%)\" for k, v in data.items()],\n",
    "        legend={\n",
    "        'loc': 'lower right',\n",
    "        'bbox_to_anchor': (0.787, -0.4),\n",
    "        'framealpha': 0,\n",
    "        'fontsize': 12\n",
    "    }\n",
    "\n",
    ")\n",
    "fig.savefig('car.jpeg', bbox_inches='tight', pad_inches=0)"
   ]
  },
  {
   "cell_type": "markdown",
   "execution_count": null,
   "metadata": {
    "papermill": {
     "duration": 0.02394,
     "end_time": "2020-08-23T19:56:12.609650",
     "exception": false,
     "start_time": "2020-08-23T19:56:12.585710",
     "status": "completed"
    },
    "tags": []
   },
   "source": [
    "## Jurisdicción, Subjicción, Finalidad, Función, Inciso, Ubicación geográfica.\n",
    "Graficamos la frecuencia de las variables usando seaborn.\n",
    "\n"
   ]
  },
  {
   "cell_type": "code",
   "execution_count": 12,
   "metadata": {
    "execution": {
     "iopub.execute_input": "2020-08-23T19:56:12.675698Z",
     "iopub.status.busy": "2020-08-23T19:56:12.674886Z",
     "iopub.status.idle": "2020-08-23T19:56:16.160728Z",
     "shell.execute_reply": "2020-08-23T19:56:16.160019Z"
    },
    "papermill": {
     "duration": 3.526258,
     "end_time": "2020-08-23T19:56:16.160894",
     "exception": false,
     "start_time": "2020-08-23T19:56:12.634636",
     "status": "completed"
    },
    "tags": []
   },
   "outputs": [
    {
     "data": {
      "image/png": "[encoded data removed]",
      "text/plain": [
       "<Figure size 1008x432 with 1 Axes>"
      ]
     },
     "metadata": {
      "needs_background": "light"
     },
     "output_type": "display_data"
    },
    {
     "data": {
      "image/png": "[encoded data removed]",
      "text/plain": [
       "<Figure size 1008x432 with 1 Axes>"
      ]
     },
     "metadata": {
      "needs_background": "light"
     },
     "output_type": "display_data"
    },
    {
     "data": {
      "image/png": "[encoded data removed]",
      "text/plain": [
       "<Figure size 432x288 with 1 Axes>"
      ]
     },
     "metadata": {
      "needs_background": "light"
     },
     "output_type": "display_data"
    },
    {
     "data": {
      "image/png": "[encoded data removed]",
      "text/plain": [
       "<Figure size 1008x288 with 1 Axes>"
      ]
     },
     "metadata": {
      "needs_background": "light"
     },
     "output_type": "display_data"
    },
    {
     "data": {
      "image/png": "[encoded data removed]",
      "text/plain": [
       "<Figure size 1008x288 with 1 Axes>"
      ]
     },
     "metadata": {
      "needs_background": "light"
     },
     "output_type": "display_data"
    },
    {
     "data": {
      "image/png": "[encoded data removed]",
      "text/plain": [
       "<Figure size 1008x288 with 1 Axes>"
      ]
     },
     "metadata": {
      "needs_background": "light"
     },
     "output_type": "display_data"
    }
   ],
   "source": [
    "#var_categoricas = list(df_presupuesto.select_dtypes(object))\n",
    "var_categoricas = ['jur_desc','sjur_desc', 'geo_desc',\"fin_desc\",\"fun_desc\", \"inc_desc\"]\n",
    "for variable in var_categoricas:\n",
    "    sns.countplot(y=variable, data=df_presupuesto)\n",
    "    plt.title(F'Frecuencia de {variable}')\n",
    "    plt.xlabel('Apariciones')\n",
    "    plt.ylabel(variable)\n",
    "    plt.tight_layout()\n",
    "    plt.setp(plt.xticks()[1], rotation=30, ha='right')\n",
    "    if (variable in ['jur_desc','sjur_desc'] ):\n",
    "        plt.gcf().set_size_inches(14,6 )\n",
    "    elif (variable in ['fin_desc', \"fun_desc\",\"inc_desc\"] ):\n",
    "        plt.gcf().set_size_inches(14,4 )\n",
    "    plt.tick_params(axis='y', labelsize=10)\n",
    "    plt.savefig(f\"{variable}.jpeg\", bbox_inches='tight')\n",
    "    plt.show()"
   ]
  },
  {
   "cell_type": "markdown",
   "execution_count": null,
   "metadata": {
    "papermill": {
     "duration": 0.026335,
     "end_time": "2020-08-23T19:56:16.214899",
     "exception": false,
     "start_time": "2020-08-23T19:56:16.188564",
     "status": "completed"
    },
    "tags": []
   },
   "source": [
    "Vemos además la proporción de la frecuencia de cada variable."
   ]
  },
  {
   "cell_type": "code",
   "execution_count": 13,
   "metadata": {
    "execution": {
     "iopub.execute_input": "2020-08-23T19:56:16.293400Z",
     "iopub.status.busy": "2020-08-23T19:56:16.292346Z",
     "iopub.status.idle": "2020-08-23T19:56:16.297809Z",
     "shell.execute_reply": "2020-08-23T19:56:16.297154Z"
    },
    "papermill": {
     "duration": 0.0559,
     "end_time": "2020-08-23T19:56:16.297976",
     "exception": false,
     "start_time": "2020-08-23T19:56:16.242076",
     "status": "completed"
    },
    "tags": []
   },
   "outputs": [
    {
     "data": {
      "text/plain": [
       "Ministerio De Educación E Innovación                0.155188\n",
       "Ministerio De Salud                                 0.123855\n",
       "Ministerio De Ambiente Y Espacio Publico            0.104201\n",
       "Jefatura De Gabinete De Ministros                   0.099322\n",
       "Jefatura De Gobierno                                0.093232\n",
       "Ministerio De Justicia Y Seguridad                  0.089582\n",
       "Ministerio De Desarrollo Urbano Y Transporte        0.059824\n",
       "Ministerio De Economía Y Finanzas                   0.055981\n",
       "Ministerio De Cultura                               0.054060\n",
       "Min.Hàbitat Y Des. Humano                           0.053734\n",
       "Min.Modern.Innovacion Y Tecnologia                  0.035099\n",
       "Ministerio De Gobierno                              0.027299\n",
       "Ministerio Publico                                  0.012910\n",
       "Procuracion General  De La Ciudad                   0.007627\n",
       "Consejo De La Magistratura                          0.006820\n",
       "Tribunal Superior De Justicia                       0.006320\n",
       "Defensoria Del Pueblo                               0.004591\n",
       "Sindicatura General De La Ciudad De Buenos Aires    0.003727\n",
       "Obligaciones A Cargo Del Tesoro                     0.003669\n",
       "Legislatura De La Ciudad De Buenos Aires            0.001460\n",
       "Auditoria General De La Ciudad De Buenos Aires      0.001210\n",
       "Servicio De La Deuda Publica                        0.000288\n",
       "Name: jur_desc, dtype: float64"
      ]
     },
     "execution_count": 13,
     "metadata": {},
     "output_type": "execute_result"
    }
   ],
   "source": [
    "df_presupuesto['jur_desc'].value_counts(normalize=True)"
   ]
  },
  {
   "cell_type": "code",
   "execution_count": 14,
   "metadata": {
    "execution": {
     "iopub.execute_input": "2020-08-23T19:56:16.376579Z",
     "iopub.status.busy": "2020-08-23T19:56:16.365507Z",
     "iopub.status.idle": "2020-08-23T19:56:16.381827Z",
     "shell.execute_reply": "2020-08-23T19:56:16.381190Z"
    },
    "papermill": {
     "duration": 0.05662,
     "end_time": "2020-08-23T19:56:16.381983",
     "exception": false,
     "start_time": "2020-08-23T19:56:16.325363",
     "status": "completed"
    },
    "tags": []
   },
   "outputs": [
    {
     "data": {
      "text/plain": [
       "Ministerio De Educación E Innovación                0.155188\n",
       "Ministerio De Salud                                 0.123855\n",
       "Jefatura De Gabinete De Ministros                   0.099322\n",
       "Ministerio De Ambiente Y Espacio Publico            0.097535\n",
       "Ministerio De Desarrollo Urbano Y Transporte        0.059824\n",
       "Ministerio De Economía Y Finanzas                   0.055981\n",
       "Ministerio De Cultura                               0.054060\n",
       "Min.Hàbitat Y Des. Humano                           0.053734\n",
       "Ministerio De Justicia Y Seguridad                  0.052485\n",
       "Plan De Seguridad  Publica                          0.037097\n",
       "Min.Modern.Innovacion Y Tecnologia                  0.035099\n",
       "Vicejefatura De Gobierno                            0.028836\n",
       "Ministerio De Gobierno                              0.027299\n",
       "Sec.Gral. Y Realaciones Internacionales             0.018769\n",
       "Organismos Descentralizados                         0.018692\n",
       "Ministerio Publico                                  0.012910\n",
       "Secretaria Legal Y Tecnica                          0.009068\n",
       "Secretaria De Medios                                0.008933\n",
       "Jefatura De Gobierno                                0.008933\n",
       "Procuracion General  De La Ciudad                   0.007627\n",
       "Consejo De La Magistratura                          0.006820\n",
       "Vias Peatonales                                     0.006666\n",
       "Tribunal Superior De Justicia                       0.006320\n",
       "Defensoria Del Pueblo                               0.004591\n",
       "Sindicatura General De La Ciudad De Buenos Aires    0.003727\n",
       "Obligaciones A Cargo Del Tesoro                     0.003669\n",
       "Legislatura De La Ciudad De Buenos Aires            0.001460\n",
       "Auditoria General De La Ciudad De Buenos Aires      0.001210\n",
       "Servicio De La Deuda Publica                        0.000288\n",
       "Name: sjur_desc, dtype: float64"
      ]
     },
     "execution_count": 14,
     "metadata": {},
     "output_type": "execute_result"
    }
   ],
   "source": [
    "df_presupuesto['sjur_desc'].value_counts(normalize=True)"
   ]
  },
  {
   "cell_type": "code",
   "execution_count": 15,
   "metadata": {
    "execution": {
     "iopub.execute_input": "2020-08-23T19:56:16.460382Z",
     "iopub.status.busy": "2020-08-23T19:56:16.457683Z",
     "iopub.status.idle": "2020-08-23T19:56:16.466227Z",
     "shell.execute_reply": "2020-08-23T19:56:16.465545Z"
    },
    "papermill": {
     "duration": 0.05599,
     "end_time": "2020-08-23T19:56:16.466379",
     "exception": false,
     "start_time": "2020-08-23T19:56:16.410389",
     "status": "completed"
    },
    "tags": []
   },
   "outputs": [
    {
     "data": {
      "text/plain": [
       "Ministerio De Educación E Innovación            8078\n",
       "Ministerio De Salud                             6447\n",
       "Ministerio De Ambiente Y Espacio Publico        3478\n",
       "Ministerio De Desarrollo Urbano Y Transporte    3114\n",
       "Min.Hàbitat Y Des. Humano                       2797\n",
       "Ministerio De Cultura                           2515\n",
       "Jefatura De Gabinete De Ministros               2244\n",
       "Ministerio De Justicia Y Seguridad              1907\n",
       "Ministerio De Economía Y Finanzas               1858\n",
       "Plan De Seguridad  Publica                      1843\n",
       "Name: ent_desc, dtype: int64"
      ]
     },
     "execution_count": 15,
     "metadata": {},
     "output_type": "execute_result"
    }
   ],
   "source": [
    "df_presupuesto['ent_desc'].value_counts().head(10)"
   ]
  },
  {
   "cell_type": "markdown",
   "execution_count": null,
   "metadata": {
    "papermill": {
     "duration": 0.02736,
     "end_time": "2020-08-23T19:56:16.521136",
     "exception": false,
     "start_time": "2020-08-23T19:56:16.493776",
     "status": "completed"
    },
    "tags": []
   },
   "source": [
    "Algunas varibles tienen demasiados posibles valores para graficarlas así que vamos a listar sus valores principales para hacer tablas:\n",
    "## Oficina de Gestión"
   ]
  },
  {
   "cell_type": "code",
   "execution_count": 16,
   "metadata": {
    "execution": {
     "iopub.execute_input": "2020-08-23T19:56:16.600132Z",
     "iopub.status.busy": "2020-08-23T19:56:16.599094Z",
     "iopub.status.idle": "2020-08-23T19:56:16.604441Z",
     "shell.execute_reply": "2020-08-23T19:56:16.605042Z"
    },
    "papermill": {
     "duration": 0.056602,
     "end_time": "2020-08-23T19:56:16.605230",
     "exception": false,
     "start_time": "2020-08-23T19:56:16.548628",
     "status": "completed"
    },
    "tags": []
   },
   "outputs": [
    {
     "data": {
      "text/plain": [
       "Ministerio De Educación E Innovación            0.155188\n",
       "Ministerio De Salud                             0.123855\n",
       "Ministerio De Ambiente Y Espacio Publico        0.066817\n",
       "Ministerio De Desarrollo Urbano Y Transporte    0.059824\n",
       "Min.Hàbitat Y Des. Humano                       0.053734\n",
       "Ministerio De Cultura                           0.048316\n",
       "Jefatura De Gabinete De Ministros               0.043110\n",
       "Ministerio De Justicia Y Seguridad              0.036636\n",
       "Ministerio De Economía Y Finanzas               0.035694\n",
       "Plan De Seguridad  Publica                      0.035406\n",
       "Name: eg_desc, dtype: float64"
      ]
     },
     "execution_count": 16,
     "metadata": {},
     "output_type": "execute_result"
    }
   ],
   "source": [
    "df_presupuesto['eg_desc'].value_counts(normalize=True).head(10)"
   ]
  },
  {
   "cell_type": "code",
   "execution_count": 17,
   "metadata": {
    "execution": {
     "iopub.execute_input": "2020-08-23T19:56:16.674461Z",
     "iopub.status.busy": "2020-08-23T19:56:16.673372Z",
     "iopub.status.idle": "2020-08-23T19:56:16.678565Z",
     "shell.execute_reply": "2020-08-23T19:56:16.677806Z"
    },
    "papermill": {
     "duration": 0.046055,
     "end_time": "2020-08-23T19:56:16.678694",
     "exception": false,
     "start_time": "2020-08-23T19:56:16.632639",
     "status": "completed"
    },
    "tags": []
   },
   "outputs": [
    {
     "data": {
      "text/plain": [
       "False"
      ]
     },
     "execution_count": 17,
     "metadata": {},
     "output_type": "execute_result"
    }
   ],
   "source": [
    "# Es raro que spar se parezca tanto a par así que revisamos si hay diferencias \n",
    "df_presupuesto['eg_desc'].equals(df_presupuesto['ent_desc'])\n",
    "#Y comprobamos que no son iguales siempre, solo en sus principales items"
   ]
  },
  {
   "cell_type": "code",
   "execution_count": 18,
   "metadata": {
    "execution": {
     "iopub.execute_input": "2020-08-23T19:56:16.765201Z",
     "iopub.status.busy": "2020-08-23T19:56:16.763903Z",
     "iopub.status.idle": "2020-08-23T19:56:16.882515Z",
     "shell.execute_reply": "2020-08-23T19:56:16.881719Z"
    },
    "papermill": {
     "duration": 0.176303,
     "end_time": "2020-08-23T19:56:16.882660",
     "exception": false,
     "start_time": "2020-08-23T19:56:16.706357",
     "status": "completed"
    },
    "tags": []
   },
   "outputs": [],
   "source": [
    "df = df_presupuesto\n",
    "df1 = df_presupuesto['eg_desc']\n",
    "df2 = df_presupuesto['ent_desc']\n",
    "df[\"Eq\"] = df1.where(df1.values!=df2.values).notna()\n",
    "new = df.loc[df['eg_desc'] != df['ent_desc']]\n",
    "new[['eg_desc','ent_desc']].to_csv(\"comparacion-eg-vs-ent.csv\")"
   ]
  },
  {
   "cell_type": "markdown",
   "execution_count": null,
   "metadata": {
    "papermill": {
     "duration": 0.027236,
     "end_time": "2020-08-23T19:56:16.937980",
     "exception": false,
     "start_time": "2020-08-23T19:56:16.910744",
     "status": "completed"
    },
    "tags": []
   },
   "source": [
    "## Unidad ejecutora"
   ]
  },
  {
   "cell_type": "code",
   "execution_count": 19,
   "metadata": {
    "execution": {
     "iopub.execute_input": "2020-08-23T19:56:17.020933Z",
     "iopub.status.busy": "2020-08-23T19:56:17.014211Z",
     "iopub.status.idle": "2020-08-23T19:56:17.027569Z",
     "shell.execute_reply": "2020-08-23T19:56:17.026769Z"
    },
    "papermill": {
     "duration": 0.061489,
     "end_time": "2020-08-23T19:56:17.027733",
     "exception": false,
     "start_time": "2020-08-23T19:56:16.966244",
     "status": "completed"
    },
    "tags": []
   },
   "outputs": [
    {
     "data": {
      "text/plain": [
       "Dir. Gral De Educacion De Gestion Estatal                       3943\n",
       "Agencia Ambiental                                                777\n",
       "Ss. Carrera Docente Y Formacion Tecnico Profesional              670\n",
       "Subsecretaria De Coordinacion Pedagogica Y Equidad Educativa     621\n",
       "Administ.Gubernamental De Ingresos Publicos                      616\n",
       "Consejo De Los Derechos De Las Niñas, Niños Y  Adolescentes      591\n",
       "Dir.Gral. Fiscalizaciòn Del Espacio Publico                      551\n",
       "Dir.Gral.Patrimonio Museos Y Casco Historico                     542\n",
       "Dirección General De Educación Superior                          528\n",
       "Direccion General De Espacios Verdes                             518\n",
       "Name: ue_desc, dtype: int64"
      ]
     },
     "execution_count": 19,
     "metadata": {},
     "output_type": "execute_result"
    }
   ],
   "source": [
    "df_presupuesto['ue_desc'].value_counts().head(10)"
   ]
  },
  {
   "cell_type": "markdown",
   "execution_count": null,
   "metadata": {
    "papermill": {
     "duration": 0.027933,
     "end_time": "2020-08-23T19:56:17.084762",
     "exception": false,
     "start_time": "2020-08-23T19:56:17.056829",
     "status": "completed"
    },
    "tags": []
   },
   "source": [
    "## Programa"
   ]
  },
  {
   "cell_type": "code",
   "execution_count": 20,
   "metadata": {
    "execution": {
     "iopub.execute_input": "2020-08-23T19:56:17.162038Z",
     "iopub.status.busy": "2020-08-23T19:56:17.161154Z",
     "iopub.status.idle": "2020-08-23T19:56:17.168620Z",
     "shell.execute_reply": "2020-08-23T19:56:17.169170Z"
    },
    "papermill": {
     "duration": 0.056239,
     "end_time": "2020-08-23T19:56:17.169344",
     "exception": false,
     "start_time": "2020-08-23T19:56:17.113105",
     "status": "completed"
    },
    "tags": []
   },
   "outputs": [
    {
     "data": {
      "text/plain": [
       "Atención Médica General En Hospitales De Agudos    0.039229\n",
       "Educacion Primaria                                 0.024686\n",
       "Educacion Inicial                                  0.017040\n",
       "Atención De Salud Mental                           0.014351\n",
       "Educacion Del Adulto Y Del Adolescente             0.011431\n",
       "Atención Médica De Patologías Específicas          0.010009\n",
       "Cuidado Y Puesta En Valor De Espacios Verdes       0.009951\n",
       "Administracion De Infracciones En La Ciudad        0.009221\n",
       "Policía De La Ciudad                               0.008741\n",
       "Atención Médica Materno Infantil                   0.008626\n",
       "Name: prog_desc, dtype: float64"
      ]
     },
     "execution_count": 20,
     "metadata": {},
     "output_type": "execute_result"
    }
   ],
   "source": [
    "df_presupuesto['prog_desc'].value_counts(normalize=True).head(10)"
   ]
  },
  {
   "cell_type": "markdown",
   "execution_count": null,
   "metadata": {
    "papermill": {
     "duration": 0.028228,
     "end_time": "2020-08-23T19:56:17.225604",
     "exception": false,
     "start_time": "2020-08-23T19:56:17.197376",
     "status": "completed"
    },
    "tags": []
   },
   "source": [
    "## Subprograma"
   ]
  },
  {
   "cell_type": "code",
   "execution_count": 21,
   "metadata": {
    "execution": {
     "iopub.execute_input": "2020-08-23T19:56:17.306500Z",
     "iopub.status.busy": "2020-08-23T19:56:17.303273Z",
     "iopub.status.idle": "2020-08-23T19:56:17.312805Z",
     "shell.execute_reply": "2020-08-23T19:56:17.312130Z"
    },
    "papermill": {
     "duration": 0.059095,
     "end_time": "2020-08-23T19:56:17.312980",
     "exception": false,
     "start_time": "2020-08-23T19:56:17.253885",
     "status": "completed"
    },
    "tags": []
   },
   "outputs": [
    {
     "data": {
      "text/plain": [
       "Educacion Primaria                              0.024686\n",
       "Educacion Inicial                               0.017040\n",
       "Educacion Del Adulto Y Del Adolescente          0.011431\n",
       "Cuidado Y Puesta En Valor De Espacios Verdes    0.009951\n",
       "Administracion De Infracciones En La Ciudad     0.009221\n",
       "Policía De La Ciudad                            0.008741\n",
       "Educacion Media                                 0.008607\n",
       "Sistema Estadístico De La Ciudad.               0.008395\n",
       "Actividades Centrales                           0.008318\n",
       "Sanidad Y Tenencia Responsable De Mascotas      0.008049\n",
       "Name: sprog_desc, dtype: float64"
      ]
     },
     "execution_count": 21,
     "metadata": {},
     "output_type": "execute_result"
    }
   ],
   "source": [
    "df_presupuesto['sprog_desc'].value_counts(normalize=True).head(10)"
   ]
  },
  {
   "cell_type": "markdown",
   "execution_count": null,
   "metadata": {
    "papermill": {
     "duration": 0.028382,
     "end_time": "2020-08-23T19:56:17.427653",
     "exception": false,
     "start_time": "2020-08-23T19:56:17.399271",
     "status": "completed"
    },
    "tags": []
   },
   "source": [
    "## Proyecto"
   ]
  },
  {
   "cell_type": "code",
   "execution_count": 22,
   "metadata": {
    "execution": {
     "iopub.execute_input": "2020-08-23T19:56:17.504478Z",
     "iopub.status.busy": "2020-08-23T19:56:17.497542Z",
     "iopub.status.idle": "2020-08-23T19:56:17.513506Z",
     "shell.execute_reply": "2020-08-23T19:56:17.512814Z"
    },
    "papermill": {
     "duration": 0.057677,
     "end_time": "2020-08-23T19:56:17.513684",
     "exception": false,
     "start_time": "2020-08-23T19:56:17.456007",
     "status": "completed"
    },
    "tags": []
   },
   "outputs": [
    {
     "data": {
      "text/plain": [
       "Educacion Primaria                              0.024686\n",
       "Educacion Inicial                               0.017040\n",
       "Educacion Del Adulto Y Del Adolescente          0.011431\n",
       "Administracion De Infracciones En La Ciudad     0.009221\n",
       "Educacion Media                                 0.008607\n",
       "Sistema Estadístico De La Ciudad.               0.008357\n",
       "Actividades Centrales                           0.008126\n",
       "Sanidad Y Tenencia Responsable De Mascotas      0.008049\n",
       "Policía De La Ciudad                            0.007473\n",
       "Cuidado Y Puesta En Valor De Espacios Verdes    0.007147\n",
       "Name: proy_desc, dtype: float64"
      ]
     },
     "execution_count": 22,
     "metadata": {},
     "output_type": "execute_result"
    }
   ],
   "source": [
    "df_presupuesto['proy_desc'].value_counts(normalize=True).head(10)"
   ]
  },
  {
   "cell_type": "markdown",
   "execution_count": null,
   "metadata": {
    "papermill": {
     "duration": 0.029838,
     "end_time": "2020-08-23T19:56:17.573675",
     "exception": false,
     "start_time": "2020-08-23T19:56:17.543837",
     "status": "completed"
    },
    "tags": []
   },
   "source": [
    "## Actividad"
   ]
  },
  {
   "cell_type": "code",
   "execution_count": 23,
   "metadata": {
    "execution": {
     "iopub.execute_input": "2020-08-23T19:56:17.651945Z",
     "iopub.status.busy": "2020-08-23T19:56:17.645251Z",
     "iopub.status.idle": "2020-08-23T19:56:17.660758Z",
     "shell.execute_reply": "2020-08-23T19:56:17.659927Z"
    },
    "papermill": {
     "duration": 0.058523,
     "end_time": "2020-08-23T19:56:17.660936",
     "exception": false,
     "start_time": "2020-08-23T19:56:17.602413",
     "status": "completed"
    },
    "tags": []
   },
   "outputs": [
    {
     "data": {
      "text/plain": [
       "Administración Y Servicios Generales          5552\n",
       "Conducción                                    5338\n",
       "Conduccion                                    4816\n",
       "Administracion Y Servicios Generales          3297\n",
       "Conducción Y Administración                   1518\n",
       "Servicios De Diagnóstico Y Tratamiento        1030\n",
       "Servicios Generales De Mantenimiento           557\n",
       "Atención Ambulatoria - Consultorio Externo     472\n",
       "Servicios De Internación                       401\n",
       "Mantenimiento Comunal                          400\n",
       "Name: act_desc, dtype: int64"
      ]
     },
     "execution_count": 23,
     "metadata": {},
     "output_type": "execute_result"
    }
   ],
   "source": [
    "df_presupuesto['act_desc'].value_counts().head(10)"
   ]
  },
  {
   "cell_type": "markdown",
   "execution_count": null,
   "metadata": {
    "papermill": {
     "duration": 0.028504,
     "end_time": "2020-08-23T19:56:17.719102",
     "exception": false,
     "start_time": "2020-08-23T19:56:17.690598",
     "status": "completed"
    },
    "tags": []
   },
   "source": [
    "## Obra"
   ]
  },
  {
   "cell_type": "code",
   "execution_count": 24,
   "metadata": {
    "execution": {
     "iopub.execute_input": "2020-08-23T19:56:17.798053Z",
     "iopub.status.busy": "2020-08-23T19:56:17.797135Z",
     "iopub.status.idle": "2020-08-23T19:56:17.806259Z",
     "shell.execute_reply": "2020-08-23T19:56:17.806829Z"
    },
    "papermill": {
     "duration": 0.059157,
     "end_time": "2020-08-23T19:56:17.807035",
     "exception": false,
     "start_time": "2020-08-23T19:56:17.747878",
     "status": "completed"
    },
    "tags": []
   },
   "outputs": [
    {
     "data": {
      "text/plain": [
       "Administración Y Servicios Generales          5552\n",
       "Conducción                                    5338\n",
       "Conduccion                                    4816\n",
       "Administracion Y Servicios Generales          3297\n",
       "Conducción Y Administración                   1518\n",
       "Servicios De Diagnóstico Y Tratamiento        1030\n",
       "Servicios Generales De Mantenimiento           557\n",
       "Atención Ambulatoria - Consultorio Externo     472\n",
       "Servicios De Internación                       401\n",
       "Mantenimiento Comunal                          400\n",
       "Name: ob_desc, dtype: int64"
      ]
     },
     "execution_count": 24,
     "metadata": {},
     "output_type": "execute_result"
    }
   ],
   "source": [
    "df_presupuesto['ob_desc'].value_counts().head(10)"
   ]
  },
  {
   "cell_type": "code",
   "execution_count": 25,
   "metadata": {
    "execution": {
     "iopub.execute_input": "2020-08-23T19:56:17.880085Z",
     "iopub.status.busy": "2020-08-23T19:56:17.878782Z",
     "iopub.status.idle": "2020-08-23T19:56:17.924367Z",
     "shell.execute_reply": "2020-08-23T19:56:17.923540Z"
    },
    "papermill": {
     "duration": 0.088105,
     "end_time": "2020-08-23T19:56:17.924549",
     "exception": false,
     "start_time": "2020-08-23T19:56:17.836444",
     "status": "completed"
    },
    "tags": []
   },
   "outputs": [],
   "source": [
    "# Es raro que spar se parezca tanto a par así que revisamos si hay diferencias \n",
    "df['ob_desc'].equals(df['act_desc'])\n",
    "#Y comprobamos que no son iguales siempre, solo en sus principales items\n",
    "df = df_presupuesto\n",
    "df1 = df_presupuesto['ob_desc']\n",
    "df2 = df_presupuesto['act_desc']\n",
    "df[\"Eq\"] = df1.where(df1.values!=df2.values).notna()\n",
    "new = df.loc[df['ob_desc'] != df['act_desc']]\n",
    "new[['ob_desc','act_desc']]\n",
    "new[['ob_desc','act_desc']].to_csv(\"comparacion.csv\")"
   ]
  },
  {
   "cell_type": "markdown",
   "execution_count": null,
   "metadata": {
    "papermill": {
     "duration": 0.028933,
     "end_time": "2020-08-23T19:56:17.983040",
     "exception": false,
     "start_time": "2020-08-23T19:56:17.954107",
     "status": "completed"
    },
    "tags": []
   },
   "source": [
    "## Finalidad"
   ]
  },
  {
   "cell_type": "code",
   "execution_count": 26,
   "metadata": {
    "execution": {
     "iopub.execute_input": "2020-08-23T19:56:18.056830Z",
     "iopub.status.busy": "2020-08-23T19:56:18.056030Z",
     "iopub.status.idle": "2020-08-23T19:56:18.067092Z",
     "shell.execute_reply": "2020-08-23T19:56:18.066383Z"
    },
    "papermill": {
     "duration": 0.05051,
     "end_time": "2020-08-23T19:56:18.067231",
     "exception": false,
     "start_time": "2020-08-23T19:56:18.016721",
     "status": "completed"
    },
    "tags": []
   },
   "outputs": [
    {
     "data": {
      "text/plain": [
       "3    25106\n",
       "1    14162\n",
       "4     8454\n",
       "2     4316\n",
       "5       15\n",
       "Name: fin, dtype: int64"
      ]
     },
     "execution_count": 26,
     "metadata": {},
     "output_type": "execute_result"
    }
   ],
   "source": [
    "df_presupuesto['fin'].value_counts()"
   ]
  },
  {
   "cell_type": "markdown",
   "execution_count": null,
   "metadata": {
    "papermill": {
     "duration": 0.03004,
     "end_time": "2020-08-23T19:56:18.127351",
     "exception": false,
     "start_time": "2020-08-23T19:56:18.097311",
     "status": "completed"
    },
    "tags": []
   },
   "source": [
    "## Función"
   ]
  },
  {
   "cell_type": "code",
   "execution_count": 27,
   "metadata": {
    "execution": {
     "iopub.execute_input": "2020-08-23T19:56:18.197118Z",
     "iopub.status.busy": "2020-08-23T19:56:18.196233Z",
     "iopub.status.idle": "2020-08-23T19:56:18.206050Z",
     "shell.execute_reply": "2020-08-23T19:56:18.205201Z"
    },
    "papermill": {
     "duration": 0.047581,
     "end_time": "2020-08-23T19:56:18.206205",
     "exception": false,
     "start_time": "2020-08-23T19:56:18.158624",
     "status": "completed"
    },
    "tags": []
   },
   "outputs": [
    {
     "data": {
      "text/plain": [
       "2    11460\n",
       "4    10482\n",
       "3     8825\n",
       "1     6729\n",
       "5     4352\n",
       "6     4335\n",
       "9     3389\n",
       "7     2121\n",
       "8      360\n",
       "Name: fun, dtype: int64"
      ]
     },
     "execution_count": 27,
     "metadata": {},
     "output_type": "execute_result"
    }
   ],
   "source": [
    "df_presupuesto['fun'].value_counts()"
   ]
  },
  {
   "cell_type": "markdown",
   "execution_count": null,
   "metadata": {
    "papermill": {
     "duration": 0.030695,
     "end_time": "2020-08-23T19:56:18.268181",
     "exception": false,
     "start_time": "2020-08-23T19:56:18.237486",
     "status": "completed"
    },
    "tags": []
   },
   "source": [
    "## Partida principal"
   ]
  },
  {
   "cell_type": "code",
   "execution_count": 28,
   "metadata": {
    "execution": {
     "iopub.execute_input": "2020-08-23T19:56:18.350433Z",
     "iopub.status.busy": "2020-08-23T19:56:18.349214Z",
     "iopub.status.idle": "2020-08-23T19:56:18.359811Z",
     "shell.execute_reply": "2020-08-23T19:56:18.359102Z"
    },
    "papermill": {
     "duration": 0.061505,
     "end_time": "2020-08-23T19:56:18.359989",
     "exception": false,
     "start_time": "2020-08-23T19:56:18.298484",
     "status": "completed"
    },
    "tags": []
   },
   "outputs": [
    {
     "data": {
      "text/plain": [
       "Personal Permanente                                    0.134978\n",
       "Otros Bienes De Consumo                                0.093482\n",
       "Personal Transitorio                                   0.088986\n",
       "Servicios Especializados, Comerciales Y Financieros    0.065049\n",
       "Productos Químicos, Combustibles Y Lubricantes         0.058133\n",
       "Mantenimiento, Reparación Y Limpieza                   0.057403\n",
       "Maquinaria Y Equipo                                    0.057038\n",
       "Pulpa,Papel, Cartón Y Sus Productos                    0.053638\n",
       "Otros Servicios                                        0.037923\n",
       "Asignaciones Familiares                                0.037001\n",
       "Name: ppal_desc, dtype: float64"
      ]
     },
     "execution_count": 28,
     "metadata": {},
     "output_type": "execute_result"
    }
   ],
   "source": [
    "df_presupuesto['ppal_desc'].value_counts(normalize=True).head(10)"
   ]
  },
  {
   "cell_type": "markdown",
   "execution_count": null,
   "metadata": {
    "papermill": {
     "duration": 0.029616,
     "end_time": "2020-08-23T19:56:18.420715",
     "exception": false,
     "start_time": "2020-08-23T19:56:18.391099",
     "status": "completed"
    },
    "tags": []
   },
   "source": [
    "## Partida parcial"
   ]
  },
  {
   "cell_type": "code",
   "execution_count": 29,
   "metadata": {
    "execution": {
     "iopub.execute_input": "2020-08-23T19:56:18.505581Z",
     "iopub.status.busy": "2020-08-23T19:56:18.504374Z",
     "iopub.status.idle": "2020-08-23T19:56:18.509737Z",
     "shell.execute_reply": "2020-08-23T19:56:18.509054Z"
    },
    "papermill": {
     "duration": 0.059522,
     "end_time": "2020-08-23T19:56:18.509895",
     "exception": false,
     "start_time": "2020-08-23T19:56:18.450373",
     "status": "completed"
    },
    "tags": []
   },
   "outputs": [
    {
     "data": {
      "text/plain": [
       "Otros No Especificados Precedentemente       5287\n",
       "Contribuciones Patronales                    3333\n",
       "Retribución Del Cargo                        3328\n",
       "Sueldo Anual Complementario                  3238\n",
       "Complementos                                 3143\n",
       "Seguros De Riesgo De Trabajo                 1656\n",
       "Personal Permanente                          1164\n",
       "Alimentos Para Personas                      1039\n",
       "Útiles De Escritorio, Oficina Y Enseñanza    1008\n",
       "Productos Farmacéuticos Y Medicinales         958\n",
       "Name: par_desc, dtype: int64"
      ]
     },
     "execution_count": 29,
     "metadata": {},
     "output_type": "execute_result"
    }
   ],
   "source": [
    "df_presupuesto['par_desc'].value_counts().head(10)"
   ]
  },
  {
   "cell_type": "markdown",
   "execution_count": null,
   "metadata": {
    "papermill": {
     "duration": 0.030458,
     "end_time": "2020-08-23T19:56:18.571602",
     "exception": false,
     "start_time": "2020-08-23T19:56:18.541144",
     "status": "completed"
    },
    "tags": []
   },
   "source": [
    "## Subpartida"
   ]
  },
  {
   "cell_type": "code",
   "execution_count": 30,
   "metadata": {
    "execution": {
     "iopub.execute_input": "2020-08-23T19:56:18.652448Z",
     "iopub.status.busy": "2020-08-23T19:56:18.651605Z",
     "iopub.status.idle": "2020-08-23T19:56:18.660577Z",
     "shell.execute_reply": "2020-08-23T19:56:18.659786Z"
    },
    "papermill": {
     "duration": 0.059172,
     "end_time": "2020-08-23T19:56:18.660710",
     "exception": false,
     "start_time": "2020-08-23T19:56:18.601538",
     "status": "completed"
    },
    "tags": []
   },
   "outputs": [
    {
     "data": {
      "text/plain": [
       "Otros No Especificados Precedentemente       0.101570\n",
       "Contribuciones Patronales                    0.064031\n",
       "Retribución Del Cargo                        0.063935\n",
       "Sueldo Anual Complementario                  0.062206\n",
       "Complementos                                 0.060381\n",
       "Seguros De Riesgo De Trabajo                 0.031814\n",
       "Personal Permanente                          0.022362\n",
       "Alimentos Para Personas                      0.019960\n",
       "Útiles De Escritorio, Oficina Y Enseñanza    0.019365\n",
       "Productos Farmacéuticos Y Medicinales        0.018404\n",
       "Name: spar_desc, dtype: float64"
      ]
     },
     "execution_count": 30,
     "metadata": {},
     "output_type": "execute_result"
    }
   ],
   "source": [
    "df_presupuesto['spar_desc'].value_counts(normalize=True).head(10)"
   ]
  },
  {
   "cell_type": "code",
   "execution_count": 31,
   "metadata": {
    "execution": {
     "iopub.execute_input": "2020-08-23T19:56:18.738715Z",
     "iopub.status.busy": "2020-08-23T19:56:18.734453Z",
     "iopub.status.idle": "2020-08-23T19:56:18.772606Z",
     "shell.execute_reply": "2020-08-23T19:56:18.771835Z"
    },
    "papermill": {
     "duration": 0.081852,
     "end_time": "2020-08-23T19:56:18.772753",
     "exception": false,
     "start_time": "2020-08-23T19:56:18.690901",
     "status": "completed"
    },
    "tags": []
   },
   "outputs": [],
   "source": [
    "# Es raro que spar se parezca tanto a par así que revisamos si hay diferencias \n",
    "df['par_desc'].equals(df['spar_desc'])\n",
    "#Y comprobamos que no son iguales siempre, solo en sus principales items\n",
    "df = df_presupuesto\n",
    "df1 = df_presupuesto['par_desc']\n",
    "df2 = df_presupuesto['spar_desc']\n",
    "df[\"Eq\"] = df1.where(df1.values!=df2.values).notna()\n",
    "new = df.loc[df['par_desc'] != df['spar_desc']]\n",
    "new[['par_desc','spar_desc']]\n",
    "new[['par_desc','spar_desc']].to_csv(\"comparacion par vs spar.csv\")"
   ]
  },
  {
   "cell_type": "markdown",
   "execution_count": null,
   "metadata": {
    "papermill": {
     "duration": 0.030154,
     "end_time": "2020-08-23T19:56:18.833836",
     "exception": false,
     "start_time": "2020-08-23T19:56:18.803682",
     "status": "completed"
    },
    "tags": []
   },
   "source": [
    "## Clasificador económico"
   ]
  },
  {
   "cell_type": "code",
   "execution_count": 32,
   "metadata": {
    "execution": {
     "iopub.execute_input": "2020-08-23T19:56:18.918838Z",
     "iopub.status.busy": "2020-08-23T19:56:18.917898Z",
     "iopub.status.idle": "2020-08-23T19:56:18.923364Z",
     "shell.execute_reply": "2020-08-23T19:56:18.922671Z"
    },
    "papermill": {
     "duration": 0.059482,
     "end_time": "2020-08-23T19:56:18.923502",
     "exception": false,
     "start_time": "2020-08-23T19:56:18.864020",
     "status": "completed"
    },
    "tags": []
   },
   "outputs": [
    {
     "data": {
      "text/plain": [
       "Remuneraciones Al Personal               17258\n",
       "Bienes De Consumo                        14895\n",
       "Servicios No Personales                  13499\n",
       "Maquinaria Y Equipo                       2973\n",
       "Al Sector Privado                         1484\n",
       "Construcciones Del Dominio Privado         688\n",
       "Construcciones Del Dominio Público         557\n",
       "Activos Financieros                        179\n",
       "Bienes De Uso                              178\n",
       "Activos Intangibles                        174\n",
       "Al Sector Público                           70\n",
       "Transferencias                              32\n",
       "Impuestos Directos                          16\n",
       "Concesión De Préstamo De Largo Plazo        14\n",
       "Al Sector Externo                           13\n",
       "Intereses                                   10\n",
       "Arrendamiento De Tierras Y Terrenos          3\n",
       "Adelanto A Proveedores Y Contratistas        3\n",
       "Impuestos Indirectos                         2\n",
       "Edificios E Instalaciones                    2\n",
       "Derechos Sobre Bienes Intangibles            1\n",
       "Concesión De Préstamo De Corto Plazo         1\n",
       "Otras Pérdidas                               1\n",
       "Name: eco_desc, dtype: int64"
      ]
     },
     "execution_count": 32,
     "metadata": {},
     "output_type": "execute_result"
    }
   ],
   "source": [
    "df_presupuesto['eco_desc'].value_counts()"
   ]
  },
  {
   "cell_type": "code",
   "execution_count": 33,
   "metadata": {
    "execution": {
     "iopub.execute_input": "2020-08-23T19:56:19.059081Z",
     "iopub.status.busy": "2020-08-23T19:56:19.057781Z",
     "iopub.status.idle": "2020-08-23T19:56:19.063265Z",
     "shell.execute_reply": "2020-08-23T19:56:19.062489Z"
    },
    "papermill": {
     "duration": 0.109244,
     "end_time": "2020-08-23T19:56:19.063399",
     "exception": false,
     "start_time": "2020-08-23T19:56:18.954155",
     "status": "completed"
    },
    "tags": []
   },
   "outputs": [
    {
     "data": {
      "text/plain": [
       "[33.154669279388315,\n",
       " 28.615065414097167,\n",
       " 25.933183486062283,\n",
       " 5.711486369661691,\n",
       " 1.3428620828770677]"
      ]
     },
     "execution_count": 33,
     "metadata": {},
     "output_type": "execute_result"
    }
   ],
   "source": [
    "df = df_presupuesto\n",
    "calculated = df.eco_desc.value_counts()\n",
    "data = calculated.to_list()\n",
    "otros = sum(filter(lambda x: (x/52053)*100<=1, data))\n",
    "data = filter(lambda x: (x/52053)*100>3, data) \n",
    "data = [x/52053*100 for x in data] + [otros/52053*100]\n",
    "data"
   ]
  },
  {
   "cell_type": "code",
   "execution_count": 34,
   "metadata": {
    "execution": {
     "iopub.execute_input": "2020-08-23T19:56:19.151240Z",
     "iopub.status.busy": "2020-08-23T19:56:19.136910Z",
     "iopub.status.idle": "2020-08-23T19:56:19.356015Z",
     "shell.execute_reply": "2020-08-23T19:56:19.355320Z"
    },
    "papermill": {
     "duration": 0.261392,
     "end_time": "2020-08-23T19:56:19.356148",
     "exception": false,
     "start_time": "2020-08-23T19:56:19.094756",
     "status": "completed"
    },
    "tags": []
   },
   "outputs": [
    {
     "data": {
      "image/png": "[encoded data removed]",
      "text/plain": [
       "<Figure size 864x288 with 1 Axes>"
      ]
     },
     "metadata": {},
     "output_type": "display_data"
    }
   ],
   "source": [
    "labels = ['Remuneraciones Al Personal', 'Bienes De Consumo ', 'Servicios No Personales', 'Maquinaria Y Equipo ', 'Otros']\n",
    "sizes = data\n",
    "labels = [f\"{k} ({round(v,2)}%)\" for k, v in zip(labels, data)]\n",
    "colors = ['yellowgreen', 'gold', 'lightskyblue', 'lightcoral', 'grey']\n",
    "patches, texts = plt.pie(sizes, colors=colors, shadow=True, startangle=90)\n",
    "plt.legend(patches, labels,  bbox_to_anchor=(0.7, 0.85), prop={'size': 16})\n",
    "plt.axis('equal')\n",
    "plt.gcf().set_size_inches(12,4 )\n",
    "plt.savefig(\"eco_desc.jpeg\", bbox_inches='tight')\n",
    "plt.show()"
   ]
  },
  {
   "cell_type": "markdown",
   "execution_count": null,
   "metadata": {
    "papermill": {
     "duration": 0.031549,
     "end_time": "2020-08-23T19:56:19.420243",
     "exception": false,
     "start_time": "2020-08-23T19:56:19.388694",
     "status": "completed"
    },
    "tags": []
   },
   "source": [
    "## Fuente de financiamiento"
   ]
  },
  {
   "cell_type": "code",
   "execution_count": 35,
   "metadata": {
    "execution": {
     "iopub.execute_input": "2020-08-23T19:56:19.505836Z",
     "iopub.status.busy": "2020-08-23T19:56:19.502433Z",
     "iopub.status.idle": "2020-08-23T19:56:19.511430Z",
     "shell.execute_reply": "2020-08-23T19:56:19.510576Z"
    },
    "papermill": {
     "duration": 0.060017,
     "end_time": "2020-08-23T19:56:19.511583",
     "exception": false,
     "start_time": "2020-08-23T19:56:19.451566",
     "status": "completed"
    },
    "tags": []
   },
   "outputs": [
    {
     "data": {
      "text/plain": [
       "Tesoro De La Ciudad                   45841\n",
       "Recursos Propios                       2297\n",
       "Transferencias Afectadas               2146\n",
       "Recursos Con Afectacion Especifica     1180\n",
       "Transferencias Internas                 548\n",
       "Financiamiento Externo                   38\n",
       "Financiamiento Interno                    3\n",
       "Name: fte_desc, dtype: int64"
      ]
     },
     "execution_count": 35,
     "metadata": {},
     "output_type": "execute_result"
    }
   ],
   "source": [
    "df_presupuesto['fte_desc'].value_counts().head(10)"
   ]
  },
  {
   "cell_type": "code",
   "execution_count": 36,
   "metadata": {
    "execution": {
     "iopub.execute_input": "2020-08-23T19:56:19.609689Z",
     "iopub.status.busy": "2020-08-23T19:56:19.603331Z",
     "iopub.status.idle": "2020-08-23T19:56:19.814700Z",
     "shell.execute_reply": "2020-08-23T19:56:19.814050Z"
    },
    "papermill": {
     "duration": 0.271692,
     "end_time": "2020-08-23T19:56:19.814843",
     "exception": false,
     "start_time": "2020-08-23T19:56:19.543151",
     "status": "completed"
    },
    "tags": []
   },
   "outputs": [
    {
     "data": {
      "image/png": "[encoded data removed]",
      "text/plain": [
       "<Figure size 864x288 with 1 Axes>"
      ]
     },
     "metadata": {},
     "output_type": "display_data"
    }
   ],
   "source": [
    "df = df_presupuesto\n",
    "calculated = df.fte_desc.value_counts()\n",
    "data = calculated.to_list()\n",
    "otros = sum(filter(lambda x: (x/52053)*100<=1, data))\n",
    "data = filter(lambda x: (x/52053)*100>3, data) \n",
    "data = [x/52053*100 for x in data] + [otros/52053*100]\n",
    "labels = df.fte_desc.unique()\n",
    "sizes = data\n",
    "labels = [f\"{k} ({round(v,2)}%)\" for k, v in zip(labels, data)]\n",
    "colors = ['yellowgreen', 'gold', 'lightskyblue', 'lightcoral', 'grey']\n",
    "patches, texts = plt.pie(sizes, colors=colors, shadow=True, startangle=90)\n",
    "plt.legend(patches, labels,  bbox_to_anchor=(0.7, 0.85), prop={'size': 16})\n",
    "plt.axis('equal')\n",
    "plt.gcf().set_size_inches(12,4 )\n",
    "plt.savefig(\"fte_desc.jpeg\", bbox_inches='tight')\n",
    "plt.show()"
   ]
  },
  {
   "cell_type": "markdown",
   "execution_count": null,
   "metadata": {
    "papermill": {
     "duration": 0.031849,
     "end_time": "2020-08-23T19:56:19.879171",
     "exception": false,
     "start_time": "2020-08-23T19:56:19.847322",
     "status": "completed"
    },
    "tags": []
   },
   "source": [
    "## Sanción"
   ]
  },
  {
   "cell_type": "code",
   "execution_count": 37,
   "metadata": {
    "execution": {
     "iopub.execute_input": "2020-08-23T19:56:19.953255Z",
     "iopub.status.busy": "2020-08-23T19:56:19.952409Z",
     "iopub.status.idle": "2020-08-23T19:56:20.046780Z",
     "shell.execute_reply": "2020-08-23T19:56:20.045638Z"
    },
    "papermill": {
     "duration": 0.135582,
     "end_time": "2020-08-23T19:56:20.047031",
     "exception": false,
     "start_time": "2020-08-23T19:56:19.911449",
     "status": "completed"
    },
    "tags": []
   },
   "outputs": [
    {
     "data": {
      "text/plain": [
       "16042"
      ]
     },
     "execution_count": 37,
     "metadata": {},
     "output_type": "execute_result"
    }
   ],
   "source": [
    "df_S = df_presupuesto.loc[(df_presupuesto[\"sancion\"] > 10000000) & (df_presupuesto[\"sancion\"] != 0)]\n",
    "df_s = df_presupuesto.loc[(df_presupuesto[\"sancion\"] <= 10000000) & (df_presupuesto[\"sancion\"] != 0)]\n",
    "df_presupuesto[df_presupuesto.sancion == 0].count()[\"sancion\"] "
   ]
  },
  {
   "cell_type": "code",
   "execution_count": 38,
   "metadata": {
    "execution": {
     "iopub.execute_input": "2020-08-23T19:56:20.132660Z",
     "iopub.status.busy": "2020-08-23T19:56:20.127199Z",
     "iopub.status.idle": "2020-08-23T19:56:20.517764Z",
     "shell.execute_reply": "2020-08-23T19:56:20.516991Z"
    },
    "papermill": {
     "duration": 0.433255,
     "end_time": "2020-08-23T19:56:20.517917",
     "exception": false,
     "start_time": "2020-08-23T19:56:20.084662",
     "status": "completed"
    },
    "tags": []
   },
   "outputs": [
    {
     "data": {
      "image/png": "[encoded data removed]",
      "text/plain": [
       "<Figure size 432x288 with 1 Axes>"
      ]
     },
     "metadata": {},
     "output_type": "display_data"
    }
   ],
   "source": [
    "sns.set(style=\"whitegrid\")\n",
    "ax = sns.boxplot(x=df_S[\"sancion\"])\n",
    "ax.set_title('Frecuencia de sancion > 10 M')\n",
    "fig = ax.get_figure()\n",
    "fig.savefig('S.png')"
   ]
  },
  {
   "cell_type": "code",
   "execution_count": 39,
   "metadata": {
    "execution": {
     "iopub.execute_input": "2020-08-23T19:56:20.599283Z",
     "iopub.status.busy": "2020-08-23T19:56:20.598067Z",
     "iopub.status.idle": "2020-08-23T19:56:20.947593Z",
     "shell.execute_reply": "2020-08-23T19:56:20.946896Z"
    },
    "papermill": {
     "duration": 0.396632,
     "end_time": "2020-08-23T19:56:20.947730",
     "exception": false,
     "start_time": "2020-08-23T19:56:20.551098",
     "status": "completed"
    },
    "tags": []
   },
   "outputs": [
    {
     "data": {
      "image/png": "[encoded data removed]",
      "text/plain": [
       "<Figure size 432x288 with 1 Axes>"
      ]
     },
     "metadata": {},
     "output_type": "display_data"
    }
   ],
   "source": [
    "sns.set(style=\"whitegrid\")\n",
    "ax = sns.boxplot(x=df_s[\"sancion\"])\n",
    "ax.set_title('Frecuencia de sancion <= 10 M')\n",
    "fig = ax.get_figure()\n",
    "fig.savefig('s.png')"
   ]
  },
  {
   "cell_type": "code",
   "execution_count": 40,
   "metadata": {
    "execution": {
     "iopub.execute_input": "2020-08-23T19:56:21.027339Z",
     "iopub.status.busy": "2020-08-23T19:56:21.025113Z",
     "iopub.status.idle": "2020-08-23T19:56:21.037900Z",
     "shell.execute_reply": "2020-08-23T19:56:21.037185Z"
    },
    "papermill": {
     "duration": 0.057193,
     "end_time": "2020-08-23T19:56:21.038088",
     "exception": false,
     "start_time": "2020-08-23T19:56:20.980895",
     "status": "completed"
    },
    "tags": []
   },
   "outputs": [
    {
     "name": "stdout",
     "output_type": "stream",
     "text": [
      "837750.7935153069 \n",
      " 111485.0 \n",
      " 1690943.963655971\n",
      "\n",
      "\n",
      "\n",
      "\n",
      "68288004.32422969 \n",
      " 27635764.0 \n",
      " 165105224.26716858\n"
     ]
    }
   ],
   "source": [
    "print(df_s[\"sancion\"].mean(),\"\\n\", df_s[\"sancion\"].median(), \"\\n\", df_s[\"sancion\"].std())\n",
    "print(\"\\n\\n\\n\")\n",
    "print(df_S[\"sancion\"].mean(),\"\\n\", df_S[\"sancion\"].median(), \"\\n\", df_S[\"sancion\"].std())\n"
   ]
  },
  {
   "cell_type": "markdown",
   "execution_count": null,
   "metadata": {
    "papermill": {
     "duration": 0.034774,
     "end_time": "2020-08-23T19:56:21.107813",
     "exception": false,
     "start_time": "2020-08-23T19:56:21.073039",
     "status": "completed"
    },
    "tags": []
   },
   "source": [
    "## Vigente"
   ]
  },
  {
   "cell_type": "code",
   "execution_count": 41,
   "metadata": {
    "execution": {
     "iopub.execute_input": "2020-08-23T19:56:21.186630Z",
     "iopub.status.busy": "2020-08-23T19:56:21.185728Z",
     "iopub.status.idle": "2020-08-23T19:56:21.252271Z",
     "shell.execute_reply": "2020-08-23T19:56:21.251030Z"
    },
    "papermill": {
     "duration": 0.110931,
     "end_time": "2020-08-23T19:56:21.252490",
     "exception": false,
     "start_time": "2020-08-23T19:56:21.141559",
     "status": "completed"
    },
    "tags": []
   },
   "outputs": [
    {
     "name": "stdout",
     "output_type": "stream",
     "text": [
      "5585\n",
      "789175.2974419302 \n",
      " 89720.0 \n",
      " 1644460.1858367086\n",
      "\n",
      "\n",
      "\n",
      "\n",
      "69749225.36243981 \n",
      " 24007975.0 \n",
      " 327029752.8676659\n"
     ]
    }
   ],
   "source": [
    "df_V = df_presupuesto.loc[(df_presupuesto[\"vigente\"] > 10000000) & (df_presupuesto[\"vigente\"] != 0)]\n",
    "df_v = df_presupuesto.loc[(df_presupuesto[\"vigente\"] <= 10000000) & (df_presupuesto[\"vigente\"] != 0)]\n",
    "print(df_presupuesto[df_presupuesto.vigente == 0].count()[\"vigente\"])\n",
    "\n",
    "print(df_v[\"vigente\"].mean(),\"\\n\", df_v[\"vigente\"].median(), \"\\n\", df_v[\"vigente\"].std())\n",
    "print(\"\\n\\n\\n\")\n",
    "print(df_V[\"vigente\"].mean(),\"\\n\", df_V[\"vigente\"].median(), \"\\n\", df_V[\"vigente\"].std())\n"
   ]
  },
  {
   "cell_type": "code",
   "execution_count": 42,
   "metadata": {
    "execution": {
     "iopub.execute_input": "2020-08-23T19:56:21.341588Z",
     "iopub.status.busy": "2020-08-23T19:56:21.340558Z",
     "iopub.status.idle": "2020-08-23T19:56:21.680085Z",
     "shell.execute_reply": "2020-08-23T19:56:21.679387Z"
    },
    "papermill": {
     "duration": 0.388334,
     "end_time": "2020-08-23T19:56:21.680229",
     "exception": false,
     "start_time": "2020-08-23T19:56:21.291895",
     "status": "completed"
    },
    "tags": []
   },
   "outputs": [
    {
     "data": {
      "image/png": "[encoded data removed]",
      "text/plain": [
       "<Figure size 432x288 with 1 Axes>"
      ]
     },
     "metadata": {},
     "output_type": "display_data"
    }
   ],
   "source": [
    "sns.set(style=\"whitegrid\")\n",
    "ax = sns.boxplot(x=df_V[\"vigente\"],palette=\"Reds\")\n",
    "ax.set_title('Frecuencia de vigente > 10 M')\n",
    "fig = ax.get_figure()\n",
    "fig.savefig('V.png')\n"
   ]
  },
  {
   "cell_type": "code",
   "execution_count": 43,
   "metadata": {
    "execution": {
     "iopub.execute_input": "2020-08-23T19:56:21.886287Z",
     "iopub.status.busy": "2020-08-23T19:56:21.885106Z",
     "iopub.status.idle": "2020-08-23T19:56:22.240191Z",
     "shell.execute_reply": "2020-08-23T19:56:22.239371Z"
    },
    "papermill": {
     "duration": 0.52638,
     "end_time": "2020-08-23T19:56:22.240338",
     "exception": false,
     "start_time": "2020-08-23T19:56:21.713958",
     "status": "completed"
    },
    "tags": []
   },
   "outputs": [
    {
     "data": {
      "image/png": "[encoded data removed]",
      "text/plain": [
       "<Figure size 432x288 with 1 Axes>"
      ]
     },
     "metadata": {},
     "output_type": "display_data"
    }
   ],
   "source": [
    "sns.set(style=\"whitegrid\")\n",
    "ax = sns.boxplot(x=df_v[\"vigente\"],palette=\"Reds\")\n",
    "ax.set_title('Frecuencia de vigente <= 10 M')\n",
    "fig = ax.get_figure()\n",
    "fig.savefig('v.png')"
   ]
  },
  {
   "cell_type": "markdown",
   "execution_count": null,
   "metadata": {
    "papermill": {
     "duration": 0.033188,
     "end_time": "2020-08-23T19:56:22.307982",
     "exception": false,
     "start_time": "2020-08-23T19:56:22.274794",
     "status": "completed"
    },
    "tags": []
   },
   "source": [
    "## Definitivo"
   ]
  },
  {
   "cell_type": "code",
   "execution_count": 44,
   "metadata": {
    "execution": {
     "iopub.execute_input": "2020-08-23T19:56:22.387498Z",
     "iopub.status.busy": "2020-08-23T19:56:22.386295Z",
     "iopub.status.idle": "2020-08-23T19:56:22.476960Z",
     "shell.execute_reply": "2020-08-23T19:56:22.475988Z"
    },
    "papermill": {
     "duration": 0.13547,
     "end_time": "2020-08-23T19:56:22.477154",
     "exception": false,
     "start_time": "2020-08-23T19:56:22.341684",
     "status": "completed"
    },
    "tags": []
   },
   "outputs": [
    {
     "name": "stdout",
     "output_type": "stream",
     "text": [
      "16007\n",
      "804575.8209438261 \n",
      " 98203.685 \n",
      " 1660673.3695460786\n",
      "\n",
      "\n",
      "\n",
      "\n",
      "63386999.91345608 \n",
      " 23543106.75 \n",
      " 316379007.24462354\n"
     ]
    }
   ],
   "source": [
    "df_D = df_presupuesto.loc[(df_presupuesto[\"definitivo\"] > 10000000) & (df_presupuesto[\"definitivo\"] != 0)]\n",
    "df_d = df_presupuesto.loc[(df_presupuesto[\"definitivo\"] <= 10000000) & (df_presupuesto[\"definitivo\"] != 0)]\n",
    "print(df_presupuesto[df_presupuesto.definitivo == 0].count()[\"definitivo\"])\n",
    "\n",
    "print(df_d[\"definitivo\"].mean(),\"\\n\", df_d[\"definitivo\"].median(), \"\\n\", df_d[\"definitivo\"].std())\n",
    "print(\"\\n\\n\\n\")\n",
    "print(df_D[\"definitivo\"].mean(),\"\\n\", df_D[\"definitivo\"].median(), \"\\n\", df_D[\"definitivo\"].std())"
   ]
  },
  {
   "cell_type": "code",
   "execution_count": 45,
   "metadata": {
    "execution": {
     "iopub.execute_input": "2020-08-23T19:56:22.556672Z",
     "iopub.status.busy": "2020-08-23T19:56:22.555744Z",
     "iopub.status.idle": "2020-08-23T19:56:22.892404Z",
     "shell.execute_reply": "2020-08-23T19:56:22.892989Z"
    },
    "papermill": {
     "duration": 0.380788,
     "end_time": "2020-08-23T19:56:22.893173",
     "exception": false,
     "start_time": "2020-08-23T19:56:22.512385",
     "status": "completed"
    },
    "tags": []
   },
   "outputs": [
    {
     "data": {
      "image/png": "[encoded data removed]",
      "text/plain": [
       "<Figure size 432x288 with 1 Axes>"
      ]
     },
     "metadata": {},
     "output_type": "display_data"
    }
   ],
   "source": [
    "sns.set(style=\"whitegrid\")\n",
    "ax = sns.boxplot(x=df_D[\"definitivo\"], palette=\"Greens\")\n",
    "ax.set_title('Frecuencia de definitivo > 10 M')\n",
    "fig = ax.get_figure()\n",
    "fig.savefig('D.png')"
   ]
  },
  {
   "cell_type": "code",
   "execution_count": 46,
   "metadata": {
    "execution": {
     "iopub.execute_input": "2020-08-23T19:56:22.973239Z",
     "iopub.status.busy": "2020-08-23T19:56:22.970352Z",
     "iopub.status.idle": "2020-08-23T19:56:23.327236Z",
     "shell.execute_reply": "2020-08-23T19:56:23.326190Z"
    },
    "papermill": {
     "duration": 0.3995,
     "end_time": "2020-08-23T19:56:23.327383",
     "exception": false,
     "start_time": "2020-08-23T19:56:22.927883",
     "status": "completed"
    },
    "tags": []
   },
   "outputs": [
    {
     "data": {
      "image/png": "[encoded data removed]",
      "text/plain": [
       "<Figure size 432x288 with 1 Axes>"
      ]
     },
     "metadata": {},
     "output_type": "display_data"
    }
   ],
   "source": [
    "sns.set(style=\"whitegrid\")\n",
    "ax = sns.boxplot(x=df_d[\"definitivo\"], palette=\"Greens\")\n",
    "ax.set_title('Frecuencia de definitivo <= 10 M')\n",
    "fig = ax.get_figure()\n",
    "fig.savefig('d.png')"
   ]
  },
  {
   "cell_type": "code",
   "execution_count": 47,
   "metadata": {
    "execution": {
     "iopub.execute_input": "2020-08-23T19:56:23.407105Z",
     "iopub.status.busy": "2020-08-23T19:56:23.406221Z",
     "iopub.status.idle": "2020-08-23T19:56:23.498142Z",
     "shell.execute_reply": "2020-08-23T19:56:23.497240Z"
    },
    "papermill": {
     "duration": 0.135521,
     "end_time": "2020-08-23T19:56:23.498292",
     "exception": false,
     "start_time": "2020-08-23T19:56:23.362771",
     "status": "completed"
    },
    "tags": []
   },
   "outputs": [
    {
     "name": "stdout",
     "output_type": "stream",
     "text": [
      "16874\n"
     ]
    }
   ],
   "source": [
    "df_Dv = df_presupuesto.loc[(df_presupuesto[\"devengado\"] > 10000000) & (df_presupuesto[\"devengado\"] != 0)]\n",
    "df_dv = df_presupuesto.loc[(df_presupuesto[\"devengado\"] <= 10000000) & (df_presupuesto[\"devengado\"] != 0)]\n",
    "print(df_presupuesto[df_presupuesto.devengado == 0].count()[\"devengado\"])\n",
    "\n"
   ]
  },
  {
   "cell_type": "code",
   "execution_count": 48,
   "metadata": {
    "execution": {
     "iopub.execute_input": "2020-08-23T19:56:23.581706Z",
     "iopub.status.busy": "2020-08-23T19:56:23.580545Z",
     "iopub.status.idle": "2020-08-23T19:56:23.589775Z",
     "shell.execute_reply": "2020-08-23T19:56:23.588887Z"
    },
    "papermill": {
     "duration": 0.055295,
     "end_time": "2020-08-23T19:56:23.590015",
     "exception": false,
     "start_time": "2020-08-23T19:56:23.534720",
     "status": "completed"
    },
    "tags": []
   },
   "outputs": [
    {
     "name": "stdout",
     "output_type": "stream",
     "text": [
      "781999.0438554978 \n",
      " 93800.69 \n",
      " 1632113.6215224168\n",
      "\n",
      "\n",
      "\n",
      "\n",
      "63303066.80790691 \n",
      " 22804711.59 \n",
      " 328869474.1026741\n"
     ]
    }
   ],
   "source": [
    "print(df_dv[\"devengado\"].mean(),\"\\n\", df_dv[\"devengado\"].median(), \"\\n\", df_dv[\"devengado\"].std())\n",
    "print(\"\\n\\n\\n\")\n",
    "print(df_Dv[\"devengado\"].mean(),\"\\n\", df_Dv[\"devengado\"].median(), \"\\n\", df_Dv[\"devengado\"].std())"
   ]
  },
  {
   "cell_type": "markdown",
   "execution_count": null,
   "metadata": {
    "papermill": {
     "duration": 0.034536,
     "end_time": "2020-08-23T19:56:23.659600",
     "exception": false,
     "start_time": "2020-08-23T19:56:23.625064",
     "status": "completed"
    },
    "tags": []
   },
   "source": [
    "## Devengado"
   ]
  },
  {
   "cell_type": "code",
   "execution_count": 49,
   "metadata": {
    "execution": {
     "iopub.execute_input": "2020-08-23T19:56:23.753166Z",
     "iopub.status.busy": "2020-08-23T19:56:23.745514Z",
     "iopub.status.idle": "2020-08-23T19:56:24.106813Z",
     "shell.execute_reply": "2020-08-23T19:56:24.107537Z"
    },
    "papermill": {
     "duration": 0.412807,
     "end_time": "2020-08-23T19:56:24.107735",
     "exception": false,
     "start_time": "2020-08-23T19:56:23.694928",
     "status": "completed"
    },
    "tags": []
   },
   "outputs": [
    {
     "data": {
      "image/png": "[encoded data removed]",
      "text/plain": [
       "<Figure size 432x288 with 1 Axes>"
      ]
     },
     "metadata": {},
     "output_type": "display_data"
    }
   ],
   "source": [
    "sns.set(style=\"whitegrid\")\n",
    "ax = sns.boxplot(x=df_Dv[\"devengado\"], palette=\"Purples\")\n",
    "ax.set_title('Frecuencia de devengado > 10 M')\n",
    "fig = ax.get_figure()\n",
    "fig.savefig('Dv.png')\n"
   ]
  },
  {
   "cell_type": "code",
   "execution_count": 50,
   "metadata": {
    "execution": {
     "iopub.execute_input": "2020-08-23T19:56:24.229494Z",
     "iopub.status.busy": "2020-08-23T19:56:24.228084Z",
     "iopub.status.idle": "2020-08-23T19:56:24.573803Z",
     "shell.execute_reply": "2020-08-23T19:56:24.573128Z"
    },
    "papermill": {
     "duration": 0.427965,
     "end_time": "2020-08-23T19:56:24.574014",
     "exception": false,
     "start_time": "2020-08-23T19:56:24.146049",
     "status": "completed"
    },
    "tags": []
   },
   "outputs": [
    {
     "data": {
      "image/png": "[encoded data removed]",
      "text/plain": [
       "<Figure size 432x288 with 1 Axes>"
      ]
     },
     "metadata": {},
     "output_type": "display_data"
    }
   ],
   "source": [
    "\n",
    "sns.set(style=\"whitegrid\")\n",
    "ax = sns.boxplot(x=df_dv[\"devengado\"], palette=\"Purples\")\n",
    "ax.set_title('Frecuencia de devengado <= 10 M')\n",
    "fig = ax.get_figure()\n",
    "fig.savefig('dv.png')"
   ]
  },
  {
   "cell_type": "markdown",
   "execution_count": null,
   "metadata": {
    "papermill": {
     "duration": 0.035555,
     "end_time": "2020-08-23T19:56:24.645341",
     "exception": false,
     "start_time": "2020-08-23T19:56:24.609786",
     "status": "completed"
    },
    "tags": []
   },
   "source": [
    "## Análisis Bivariado "
   ]
  },
  {
   "cell_type": "markdown",
   "execution_count": null,
   "metadata": {
    "papermill": {
     "duration": 0.035368,
     "end_time": "2020-08-23T19:56:24.716474",
     "exception": false,
     "start_time": "2020-08-23T19:56:24.681106",
     "status": "completed"
    },
    "tags": []
   },
   "source": [
    "### Numéricas\n",
    "Comparamos las variables numéricas en los siguientes gráficos:"
   ]
  },
  {
   "cell_type": "code",
   "execution_count": 51,
   "metadata": {
    "execution": {
     "iopub.execute_input": "2020-08-23T19:56:24.798895Z",
     "iopub.status.busy": "2020-08-23T19:56:24.798018Z",
     "iopub.status.idle": "2020-08-23T19:56:25.315959Z",
     "shell.execute_reply": "2020-08-23T19:56:25.315162Z"
    },
    "papermill": {
     "duration": 0.56404,
     "end_time": "2020-08-23T19:56:25.316099",
     "exception": false,
     "start_time": "2020-08-23T19:56:24.752059",
     "status": "completed"
    },
    "tags": []
   },
   "outputs": [
    {
     "data": {
      "image/png": "[encoded data removed]",
      "text/plain": [
       "<Figure size 432x288 with 1 Axes>"
      ]
     },
     "metadata": {},
     "output_type": "display_data"
    }
   ],
   "source": [
    "df = df_presupuesto[[\"sancion\",\"vigente\",\"definitivo\",\"devengado\"]]\n",
    "ax = sns.boxplot(x=\"variables\", y=\"valores\", data=pd.melt(df, var_name='variables', value_name='valores'))\n",
    "ax.set_title('Comparacion Variables Numericas')\n",
    "fig = ax.get_figure()\n",
    "plt.show()\n",
    "fig.savefig('CVM.png')\n"
   ]
  },
  {
   "cell_type": "code",
   "execution_count": 52,
   "metadata": {
    "execution": {
     "iopub.execute_input": "2020-08-23T19:56:25.403482Z",
     "iopub.status.busy": "2020-08-23T19:56:25.402330Z",
     "iopub.status.idle": "2020-08-23T19:56:25.757992Z",
     "shell.execute_reply": "2020-08-23T19:56:25.757105Z"
    },
    "papermill": {
     "duration": 0.405902,
     "end_time": "2020-08-23T19:56:25.758151",
     "exception": false,
     "start_time": "2020-08-23T19:56:25.352249",
     "status": "completed"
    },
    "tags": []
   },
   "outputs": [
    {
     "data": {
      "image/png": "[encoded data removed]",
      "text/plain": [
       "<Figure size 432x288 with 1 Axes>"
      ]
     },
     "metadata": {},
     "output_type": "display_data"
    }
   ],
   "source": [
    "df = df.loc[(df[\"devengado\"] <= 10000000) & (df[\"devengado\"] != 0) &  (df[\"vigente\"] <= 10000000) & (df[\"vigente\"] != 0) &  (df[\"sancion\"] <= 10000000) & (df[\"sancion\"] != 0) &  (df[\"definitivo\"] <= 10000000) & (df[\"definitivo\"] != 0)]\n",
    "ax = sns.boxplot(x=\"variables\", y=\"valores\", data=pd.melt(df, var_name='variables', value_name='valores'))\n",
    "ax.set_title('Variables Numericas <= 10 Millones')\n",
    "fig = ax.get_figure()\n",
    "plt.show()\n",
    "fig.savefig('CVMchicas.png')"
   ]
  },
  {
   "cell_type": "code",
   "execution_count": 53,
   "metadata": {
    "execution": {
     "iopub.execute_input": "2020-08-23T19:56:25.847496Z",
     "iopub.status.busy": "2020-08-23T19:56:25.846237Z",
     "iopub.status.idle": "2020-08-23T19:56:26.159669Z",
     "shell.execute_reply": "2020-08-23T19:56:26.158888Z"
    },
    "papermill": {
     "duration": 0.363813,
     "end_time": "2020-08-23T19:56:26.159809",
     "exception": false,
     "start_time": "2020-08-23T19:56:25.795996",
     "status": "completed"
    },
    "tags": []
   },
   "outputs": [
    {
     "data": {
      "image/png": "[encoded data removed]",
      "text/plain": [
       "<Figure size 432x288 with 1 Axes>"
      ]
     },
     "metadata": {},
     "output_type": "display_data"
    }
   ],
   "source": [
    "df = df_presupuesto[[\"sancion\",\"vigente\",\"definitivo\",\"devengado\"]]\n",
    "df = df.loc[(df[\"devengado\"] > 10000000)  |  (df[\"vigente\"] > 10000000) | (df[\"sancion\"] > 10000000) |  (df[\"definitivo\"] > 10000000)]\n",
    "ax = sns.boxplot(x=\"variables\", y=\"valores\", data=pd.melt(df, var_name='variables', value_name='valores'))\n",
    "ax.set_title('Boxplots Variables Numericas > 10 Millones')\n",
    "fig = ax.get_figure()\n",
    "plt.show()\n",
    "fig.savefig('CVMgrandes.png')\n"
   ]
  },
  {
   "cell_type": "code",
   "execution_count": 54,
   "metadata": {
    "execution": {
     "iopub.execute_input": "2020-08-23T19:56:26.244470Z",
     "iopub.status.busy": "2020-08-23T19:56:26.243610Z",
     "iopub.status.idle": "2020-08-23T19:56:26.868803Z",
     "shell.execute_reply": "2020-08-23T19:56:26.867924Z"
    },
    "papermill": {
     "duration": 0.671634,
     "end_time": "2020-08-23T19:56:26.868985",
     "exception": false,
     "start_time": "2020-08-23T19:56:26.197351",
     "status": "completed"
    },
    "tags": []
   },
   "outputs": [
    {
     "data": {
      "image/png": "[encoded data removed]",
      "text/plain": [
       "<Figure size 432x288 with 1 Axes>"
      ]
     },
     "metadata": {},
     "output_type": "display_data"
    }
   ],
   "source": [
    "df = df_presupuesto[[\"sancion\",\"vigente\",\"definitivo\",\"devengado\"]]\n",
    "ax = df.plot.scatter(x='sancion',\n",
    "                      y='devengado',\n",
    "                      c='DarkBlue')\n",
    "\n",
    "ax.set_title('Dispersion Devengado vs Sancionado')\n",
    "fig = ax.get_figure()\n",
    "plt.show()\n",
    "fig.savefig('sancion-vs-devengado.png')"
   ]
  },
  {
   "cell_type": "code",
   "execution_count": 55,
   "metadata": {
    "execution": {
     "iopub.execute_input": "2020-08-23T19:56:26.950360Z",
     "iopub.status.busy": "2020-08-23T19:56:26.949454Z",
     "iopub.status.idle": "2020-08-23T19:56:26.967307Z",
     "shell.execute_reply": "2020-08-23T19:56:26.966607Z"
    },
    "papermill": {
     "duration": 0.060945,
     "end_time": "2020-08-23T19:56:26.967451",
     "exception": false,
     "start_time": "2020-08-23T19:56:26.906506",
     "status": "completed"
    },
    "tags": []
   },
   "outputs": [
    {
     "data": {
      "text/html": [
       "<div>\n",
       "<style scoped>\n",
       "    .dataframe tbody tr th:only-of-type {\n",
       "        vertical-align: middle;\n",
       "    }\n",
       "\n",
       "    .dataframe tbody tr th {\n",
       "        vertical-align: top;\n",
       "    }\n",
       "\n",
       "    .dataframe thead th {\n",
       "        text-align: right;\n",
       "    }\n",
       "</style>\n",
       "<table border=\"1\" class=\"dataframe\">\n",
       "  <thead>\n",
       "    <tr style=\"text-align: right;\">\n",
       "      <th></th>\n",
       "      <th>sancion</th>\n",
       "      <th>vigente</th>\n",
       "      <th>definitivo</th>\n",
       "      <th>devengado</th>\n",
       "    </tr>\n",
       "  </thead>\n",
       "  <tbody>\n",
       "    <tr>\n",
       "      <th>sancion</th>\n",
       "      <td>1.000000</td>\n",
       "      <td>0.635581</td>\n",
       "      <td>0.513513</td>\n",
       "      <td>0.505972</td>\n",
       "    </tr>\n",
       "    <tr>\n",
       "      <th>vigente</th>\n",
       "      <td>0.635581</td>\n",
       "      <td>1.000000</td>\n",
       "      <td>0.933877</td>\n",
       "      <td>0.931916</td>\n",
       "    </tr>\n",
       "    <tr>\n",
       "      <th>definitivo</th>\n",
       "      <td>0.513513</td>\n",
       "      <td>0.933877</td>\n",
       "      <td>1.000000</td>\n",
       "      <td>0.998214</td>\n",
       "    </tr>\n",
       "    <tr>\n",
       "      <th>devengado</th>\n",
       "      <td>0.505972</td>\n",
       "      <td>0.931916</td>\n",
       "      <td>0.998214</td>\n",
       "      <td>1.000000</td>\n",
       "    </tr>\n",
       "  </tbody>\n",
       "</table>\n",
       "</div>"
      ],
      "text/plain": [
       "             sancion   vigente  definitivo  devengado\n",
       "sancion     1.000000  0.635581    0.513513   0.505972\n",
       "vigente     0.635581  1.000000    0.933877   0.931916\n",
       "definitivo  0.513513  0.933877    1.000000   0.998214\n",
       "devengado   0.505972  0.931916    0.998214   1.000000"
      ]
     },
     "execution_count": 55,
     "metadata": {},
     "output_type": "execute_result"
    }
   ],
   "source": [
    "df.corr()"
   ]
  },
  {
   "cell_type": "code",
   "execution_count": 56,
   "metadata": {
    "execution": {
     "iopub.execute_input": "2020-08-23T19:56:27.062275Z",
     "iopub.status.busy": "2020-08-23T19:56:27.061017Z",
     "iopub.status.idle": "2020-08-23T19:56:27.368215Z",
     "shell.execute_reply": "2020-08-23T19:56:27.367379Z"
    },
    "papermill": {
     "duration": 0.361174,
     "end_time": "2020-08-23T19:56:27.368355",
     "exception": false,
     "start_time": "2020-08-23T19:56:27.007181",
     "status": "completed"
    },
    "tags": []
   },
   "outputs": [
    {
     "name": "stderr",
     "output_type": "stream",
     "text": [
      "/opt/conda/lib/python3.7/site-packages/ipykernel_launcher.py:12: UserWarning: This figure includes Axes that are not compatible with tight_layout, so results might be incorrect.\n",
      "  if sys.path[0] == '':\n"
     ]
    },
    {
     "data": {
      "image/png": "[encoded data removed]",
      "text/plain": [
       "<Figure size 504x360 with 2 Axes>"
      ]
     },
     "metadata": {},
     "output_type": "display_data"
    }
   ],
   "source": [
    "import matplotlib.pyplot as plt\n",
    "import matplotlib as mpl \n",
    "colors = sns.cubehelix_palette(8, start=.5, rot=-.75)\n",
    "\n",
    "cmap = mpl.colors.ListedColormap(colors)\n",
    "\n",
    "plt.figure(figsize=(7,5))\n",
    "plt.matshow(df.corr(), cmap=cmap, fignum=1)\n",
    "plt.xticks(range(len(df.columns)), df.columns , rotation = 30,)\n",
    "plt.yticks(range(len(df.columns)), df.columns)\n",
    "plt.colorbar()\n",
    "plt.tight_layout()\n",
    "\n",
    "fig = plt.gcf()\n",
    "fig.suptitle(\"Correlacion entre variables numericas\", fontsize=16, y=1.1)\n",
    "plt.savefig('matrix.png')"
   ]
  },
  {
   "cell_type": "markdown",
   "execution_count": null,
   "metadata": {
    "papermill": {
     "duration": 0.037372,
     "end_time": "2020-08-23T19:56:27.445359",
     "exception": false,
     "start_time": "2020-08-23T19:56:27.407987",
     "status": "completed"
    },
    "tags": []
   },
   "source": [
    "### Categóricas"
   ]
  },
  {
   "cell_type": "code",
   "execution_count": 57,
   "metadata": {
    "execution": {
     "iopub.execute_input": "2020-08-23T19:56:27.536712Z",
     "iopub.status.busy": "2020-08-23T19:56:27.529372Z",
     "iopub.status.idle": "2020-08-23T19:56:27.553485Z",
     "shell.execute_reply": "2020-08-23T19:56:27.552687Z"
    },
    "papermill": {
     "duration": 0.070222,
     "end_time": "2020-08-23T19:56:27.553622",
     "exception": false,
     "start_time": "2020-08-23T19:56:27.483400",
     "status": "completed"
    },
    "tags": []
   },
   "outputs": [
    {
     "data": {
      "text/html": [
       "<div>\n",
       "<style scoped>\n",
       "    .dataframe tbody tr th:only-of-type {\n",
       "        vertical-align: middle;\n",
       "    }\n",
       "\n",
       "    .dataframe tbody tr th {\n",
       "        vertical-align: top;\n",
       "    }\n",
       "\n",
       "    .dataframe thead th {\n",
       "        text-align: right;\n",
       "    }\n",
       "</style>\n",
       "<table border=\"1\" class=\"dataframe\">\n",
       "  <thead>\n",
       "    <tr style=\"text-align: right;\">\n",
       "      <th></th>\n",
       "      <th>Type</th>\n",
       "      <th>M</th>\n",
       "    </tr>\n",
       "  </thead>\n",
       "  <tbody>\n",
       "    <tr>\n",
       "      <th>0</th>\n",
       "      <td>fin_desc</td>\n",
       "      <td>Administración Gubernamental</td>\n",
       "    </tr>\n",
       "    <tr>\n",
       "      <th>1</th>\n",
       "      <td>fin_desc</td>\n",
       "      <td>Administración Gubernamental</td>\n",
       "    </tr>\n",
       "    <tr>\n",
       "      <th>2</th>\n",
       "      <td>fin_desc</td>\n",
       "      <td>Administración Gubernamental</td>\n",
       "    </tr>\n",
       "    <tr>\n",
       "      <th>3</th>\n",
       "      <td>fin_desc</td>\n",
       "      <td>Administración Gubernamental</td>\n",
       "    </tr>\n",
       "    <tr>\n",
       "      <th>4</th>\n",
       "      <td>fin_desc</td>\n",
       "      <td>Administración Gubernamental</td>\n",
       "    </tr>\n",
       "    <tr>\n",
       "      <th>...</th>\n",
       "      <td>...</td>\n",
       "      <td>...</td>\n",
       "    </tr>\n",
       "    <tr>\n",
       "      <th>104101</th>\n",
       "      <td>car_desc</td>\n",
       "      <td>Organismos Descentralizados</td>\n",
       "    </tr>\n",
       "    <tr>\n",
       "      <th>104102</th>\n",
       "      <td>car_desc</td>\n",
       "      <td>Organismos Descentralizados</td>\n",
       "    </tr>\n",
       "    <tr>\n",
       "      <th>104103</th>\n",
       "      <td>car_desc</td>\n",
       "      <td>Organismos Descentralizados</td>\n",
       "    </tr>\n",
       "    <tr>\n",
       "      <th>104104</th>\n",
       "      <td>car_desc</td>\n",
       "      <td>Organismos Descentralizados</td>\n",
       "    </tr>\n",
       "    <tr>\n",
       "      <th>104105</th>\n",
       "      <td>car_desc</td>\n",
       "      <td>Organismos Descentralizados</td>\n",
       "    </tr>\n",
       "  </tbody>\n",
       "</table>\n",
       "<p>104106 rows × 2 columns</p>\n",
       "</div>"
      ],
      "text/plain": [
       "            Type                             M\n",
       "0       fin_desc  Administración Gubernamental\n",
       "1       fin_desc  Administración Gubernamental\n",
       "2       fin_desc  Administración Gubernamental\n",
       "3       fin_desc  Administración Gubernamental\n",
       "4       fin_desc  Administración Gubernamental\n",
       "...          ...                           ...\n",
       "104101  car_desc   Organismos Descentralizados\n",
       "104102  car_desc   Organismos Descentralizados\n",
       "104103  car_desc   Organismos Descentralizados\n",
       "104104  car_desc   Organismos Descentralizados\n",
       "104105  car_desc   Organismos Descentralizados\n",
       "\n",
       "[104106 rows x 2 columns]"
      ]
     },
     "execution_count": 57,
     "metadata": {},
     "output_type": "execute_result"
    }
   ],
   "source": [
    "df = df_presupuesto[[\"fin_desc\",\"car_desc\"]]\n",
    "df = df.melt(var_name='Type', value_name='M')\n",
    "df"
   ]
  },
  {
   "cell_type": "code",
   "execution_count": 58,
   "metadata": {
    "execution": {
     "iopub.execute_input": "2020-08-23T19:56:27.647138Z",
     "iopub.status.busy": "2020-08-23T19:56:27.641312Z",
     "iopub.status.idle": "2020-08-23T19:56:28.088376Z",
     "shell.execute_reply": "2020-08-23T19:56:28.087589Z"
    },
    "papermill": {
     "duration": 0.494856,
     "end_time": "2020-08-23T19:56:28.088510",
     "exception": false,
     "start_time": "2020-08-23T19:56:27.593654",
     "status": "completed"
    },
    "tags": []
   },
   "outputs": [
    {
     "data": {
      "text/html": [
       "<div>\n",
       "<style scoped>\n",
       "    .dataframe tbody tr th:only-of-type {\n",
       "        vertical-align: middle;\n",
       "    }\n",
       "\n",
       "    .dataframe tbody tr th {\n",
       "        vertical-align: top;\n",
       "    }\n",
       "\n",
       "    .dataframe thead th {\n",
       "        text-align: right;\n",
       "    }\n",
       "</style>\n",
       "<table border=\"1\" class=\"dataframe\">\n",
       "  <thead>\n",
       "    <tr style=\"text-align: right;\">\n",
       "      <th>car_desc</th>\n",
       "      <th>Administracion Central</th>\n",
       "      <th>Organismos Descentralizados</th>\n",
       "    </tr>\n",
       "    <tr>\n",
       "      <th>fin_desc</th>\n",
       "      <th></th>\n",
       "      <th></th>\n",
       "    </tr>\n",
       "  </thead>\n",
       "  <tbody>\n",
       "    <tr>\n",
       "      <th>Administración Gubernamental</th>\n",
       "      <td>9668</td>\n",
       "      <td>4494</td>\n",
       "    </tr>\n",
       "    <tr>\n",
       "      <th>Deuda Pública – Intereses Y Gastos</th>\n",
       "      <td>15</td>\n",
       "      <td>0</td>\n",
       "    </tr>\n",
       "    <tr>\n",
       "      <th>Servicios De Seguridad</th>\n",
       "      <td>3464</td>\n",
       "      <td>852</td>\n",
       "    </tr>\n",
       "    <tr>\n",
       "      <th>Servicios Económicos</th>\n",
       "      <td>6332</td>\n",
       "      <td>2122</td>\n",
       "    </tr>\n",
       "    <tr>\n",
       "      <th>Servicios Sociales</th>\n",
       "      <td>23808</td>\n",
       "      <td>1298</td>\n",
       "    </tr>\n",
       "  </tbody>\n",
       "</table>\n",
       "</div>"
      ],
      "text/plain": [
       "car_desc                            Administracion Central  \\\n",
       "fin_desc                                                     \n",
       "Administración Gubernamental                          9668   \n",
       "Deuda Pública – Intereses Y Gastos                      15   \n",
       "Servicios De Seguridad                                3464   \n",
       "Servicios Económicos                                  6332   \n",
       "Servicios Sociales                                   23808   \n",
       "\n",
       "car_desc                            Organismos Descentralizados  \n",
       "fin_desc                                                         \n",
       "Administración Gubernamental                               4494  \n",
       "Deuda Pública – Intereses Y Gastos                            0  \n",
       "Servicios De Seguridad                                      852  \n",
       "Servicios Económicos                                       2122  \n",
       "Servicios Sociales                                         1298  "
      ]
     },
     "execution_count": 58,
     "metadata": {},
     "output_type": "execute_result"
    },
    {
     "data": {
      "image/png": "[encoded data removed]",
      "text/plain": [
       "<Figure size 720x288 with 1 Axes>"
      ]
     },
     "metadata": {},
     "output_type": "display_data"
    }
   ],
   "source": [
    "df = df_presupuesto[[\"fin_desc\",\"car_desc\"]]\n",
    "df = pd.crosstab(df['fin_desc'], df['car_desc'])\n",
    "\n",
    "df.sort_values(\"Administracion Central\").plot(kind='bar', stacked=True, figsize = (10,4))\n",
    "plt.xticks(rotation=15)\n",
    "plt.title(\"Comparacion fin_desc vs car_desc\")\n",
    "plt.tight_layout()\n",
    "plt.savefig(\"Comparacion categoricas\")\n",
    "              \n",
    "df"
   ]
  },
  {
   "cell_type": "markdown",
   "execution_count": null,
   "metadata": {
    "papermill": {
     "duration": 0.042083,
     "end_time": "2020-08-23T19:56:28.170300",
     "exception": false,
     "start_time": "2020-08-23T19:56:28.128217",
     "status": "completed"
    },
    "tags": []
   },
   "source": [
    "### Categóricas vs Numéricas"
   ]
  },
  {
   "cell_type": "code",
   "execution_count": 59,
   "metadata": {
    "execution": {
     "iopub.execute_input": "2020-08-23T19:56:28.272137Z",
     "iopub.status.busy": "2020-08-23T19:56:28.264950Z",
     "iopub.status.idle": "2020-08-23T19:56:28.850311Z",
     "shell.execute_reply": "2020-08-23T19:56:28.849111Z"
    },
    "papermill": {
     "duration": 0.637248,
     "end_time": "2020-08-23T19:56:28.850572",
     "exception": false,
     "start_time": "2020-08-23T19:56:28.213324",
     "status": "completed"
    },
    "tags": []
   },
   "outputs": [
    {
     "data": {
      "image/png": "[encoded data removed]",
      "text/plain": [
       "<Figure size 1008x432 with 1 Axes>"
      ]
     },
     "metadata": {},
     "output_type": "display_data"
    }
   ],
   "source": [
    "df = df_presupuesto[[\"geo_desc\",\"devengado\"]]\n",
    "colors=sns.color_palette(\"Set2\")\n",
    "df.groupby('geo_desc', sort=True)['devengado'].sum().plot.bar(color = colors, figsize=(14,6))\n",
    "plt.xticks(rotation=30)\n",
    "plt.tight_layout()\n",
    "plt.title(\"Total devengado por comuna\")\n",
    "plt.savefig(\"Comparacion comunas\")  "
   ]
  }
 ],
 "metadata": {
  "kernelspec": {
   "display_name": "Python 3",
   "language": "python",
   "name": "python3"
  },
  "language_info": {
   "codemirror_mode": {
    "name": "ipython",
    "version": 3
   },
   "file_extension": ".py",
   "mimetype": "text/x-python",
   "name": "python",
   "nbconvert_exporter": "python",
   "pygments_lexer": "ipython3",
   "version": "3.7.6"
  },
  "papermill": {
   "duration": 39.517508,
   "end_time": "2020-08-23T19:56:29.012090",
   "environment_variables": {},
   "exception": null,
   "input_path": "__notebook__.ipynb",
   "output_path": "__notebook__.ipynb",
   "parameters": {},
   "start_time": "2020-08-23T19:55:49.494582",
   "version": "2.1.0"
  }
 },
 "nbformat": 4,
 "nbformat_minor": 4
}
